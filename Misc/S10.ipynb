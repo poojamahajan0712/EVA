{
  "nbformat": 4,
  "nbformat_minor": 0,
  "metadata": {
    "kernelspec": {
      "name": "python3",
      "display_name": "Python 3"
    },
    "language_info": {
      "codemirror_mode": {
        "name": "ipython",
        "version": 3
      },
      "file_extension": ".py",
      "mimetype": "text/x-python",
      "name": "python",
      "nbconvert_exporter": "python",
      "pygments_lexer": "ipython3",
      "version": "3.6.6"
    },
    "colab": {
      "name": "S10.ipynb",
      "provenance": [],
      "collapsed_sections": [],
      "include_colab_link": true
    },
    "accelerator": "GPU",
    "widgets": {
      "application/vnd.jupyter.widget-state+json": {
        "75f5d50b84b2425ba95200260eac446e": {
          "model_module": "@jupyter-widgets/controls",
          "model_name": "HBoxModel",
          "state": {
            "_view_name": "HBoxView",
            "_dom_classes": [],
            "_model_name": "HBoxModel",
            "_view_module": "@jupyter-widgets/controls",
            "_model_module_version": "1.5.0",
            "_view_count": null,
            "_view_module_version": "1.5.0",
            "box_style": "",
            "layout": "IPY_MODEL_8d49831fd92644f3a83687b0e7919ce0",
            "_model_module": "@jupyter-widgets/controls",
            "children": [
              "IPY_MODEL_38e731a79fb6434fbe3d21ab23b94365",
              "IPY_MODEL_6a3d07244085478183f6b396abaf8087"
            ]
          }
        },
        "8d49831fd92644f3a83687b0e7919ce0": {
          "model_module": "@jupyter-widgets/base",
          "model_name": "LayoutModel",
          "state": {
            "_view_name": "LayoutView",
            "grid_template_rows": null,
            "right": null,
            "justify_content": null,
            "_view_module": "@jupyter-widgets/base",
            "overflow": null,
            "_model_module_version": "1.2.0",
            "_view_count": null,
            "flex_flow": null,
            "width": null,
            "min_width": null,
            "border": null,
            "align_items": null,
            "bottom": null,
            "_model_module": "@jupyter-widgets/base",
            "top": null,
            "grid_column": null,
            "overflow_y": null,
            "overflow_x": null,
            "grid_auto_flow": null,
            "grid_area": null,
            "grid_template_columns": null,
            "flex": null,
            "_model_name": "LayoutModel",
            "justify_items": null,
            "grid_row": null,
            "max_height": null,
            "align_content": null,
            "visibility": null,
            "align_self": null,
            "height": null,
            "min_height": null,
            "padding": null,
            "grid_auto_rows": null,
            "grid_gap": null,
            "max_width": null,
            "order": null,
            "_view_module_version": "1.2.0",
            "grid_template_areas": null,
            "object_position": null,
            "object_fit": null,
            "grid_auto_columns": null,
            "margin": null,
            "display": null,
            "left": null
          }
        },
        "38e731a79fb6434fbe3d21ab23b94365": {
          "model_module": "@jupyter-widgets/controls",
          "model_name": "IntProgressModel",
          "state": {
            "_view_name": "ProgressView",
            "style": "IPY_MODEL_aa94c61e278d4ba7a69917b7c923f00c",
            "_dom_classes": [],
            "description": "100%",
            "_model_name": "IntProgressModel",
            "bar_style": "success",
            "max": 500,
            "_view_module": "@jupyter-widgets/controls",
            "_model_module_version": "1.5.0",
            "value": 500,
            "_view_count": null,
            "_view_module_version": "1.5.0",
            "orientation": "horizontal",
            "min": 0,
            "description_tooltip": null,
            "_model_module": "@jupyter-widgets/controls",
            "layout": "IPY_MODEL_83fe04e0a78449d887b89a21a3eb8d7e"
          }
        },
        "6a3d07244085478183f6b396abaf8087": {
          "model_module": "@jupyter-widgets/controls",
          "model_name": "HTMLModel",
          "state": {
            "_view_name": "HTMLView",
            "style": "IPY_MODEL_e1b4654cbc544d8c935804073cde8826",
            "_dom_classes": [],
            "description": "",
            "_model_name": "HTMLModel",
            "placeholder": "​",
            "_view_module": "@jupyter-widgets/controls",
            "_model_module_version": "1.5.0",
            "value": " 500/500 [00:44&lt;00:00, 11.36it/s]",
            "_view_count": null,
            "_view_module_version": "1.5.0",
            "description_tooltip": null,
            "_model_module": "@jupyter-widgets/controls",
            "layout": "IPY_MODEL_acdfbee3acdf47479e371c8d6c828418"
          }
        },
        "aa94c61e278d4ba7a69917b7c923f00c": {
          "model_module": "@jupyter-widgets/controls",
          "model_name": "ProgressStyleModel",
          "state": {
            "_view_name": "StyleView",
            "_model_name": "ProgressStyleModel",
            "description_width": "initial",
            "_view_module": "@jupyter-widgets/base",
            "_model_module_version": "1.5.0",
            "_view_count": null,
            "_view_module_version": "1.2.0",
            "bar_color": null,
            "_model_module": "@jupyter-widgets/controls"
          }
        },
        "83fe04e0a78449d887b89a21a3eb8d7e": {
          "model_module": "@jupyter-widgets/base",
          "model_name": "LayoutModel",
          "state": {
            "_view_name": "LayoutView",
            "grid_template_rows": null,
            "right": null,
            "justify_content": null,
            "_view_module": "@jupyter-widgets/base",
            "overflow": null,
            "_model_module_version": "1.2.0",
            "_view_count": null,
            "flex_flow": null,
            "width": null,
            "min_width": null,
            "border": null,
            "align_items": null,
            "bottom": null,
            "_model_module": "@jupyter-widgets/base",
            "top": null,
            "grid_column": null,
            "overflow_y": null,
            "overflow_x": null,
            "grid_auto_flow": null,
            "grid_area": null,
            "grid_template_columns": null,
            "flex": null,
            "_model_name": "LayoutModel",
            "justify_items": null,
            "grid_row": null,
            "max_height": null,
            "align_content": null,
            "visibility": null,
            "align_self": null,
            "height": null,
            "min_height": null,
            "padding": null,
            "grid_auto_rows": null,
            "grid_gap": null,
            "max_width": null,
            "order": null,
            "_view_module_version": "1.2.0",
            "grid_template_areas": null,
            "object_position": null,
            "object_fit": null,
            "grid_auto_columns": null,
            "margin": null,
            "display": null,
            "left": null
          }
        },
        "e1b4654cbc544d8c935804073cde8826": {
          "model_module": "@jupyter-widgets/controls",
          "model_name": "DescriptionStyleModel",
          "state": {
            "_view_name": "StyleView",
            "_model_name": "DescriptionStyleModel",
            "description_width": "",
            "_view_module": "@jupyter-widgets/base",
            "_model_module_version": "1.5.0",
            "_view_count": null,
            "_view_module_version": "1.2.0",
            "_model_module": "@jupyter-widgets/controls"
          }
        },
        "acdfbee3acdf47479e371c8d6c828418": {
          "model_module": "@jupyter-widgets/base",
          "model_name": "LayoutModel",
          "state": {
            "_view_name": "LayoutView",
            "grid_template_rows": null,
            "right": null,
            "justify_content": null,
            "_view_module": "@jupyter-widgets/base",
            "overflow": null,
            "_model_module_version": "1.2.0",
            "_view_count": null,
            "flex_flow": null,
            "width": null,
            "min_width": null,
            "border": null,
            "align_items": null,
            "bottom": null,
            "_model_module": "@jupyter-widgets/base",
            "top": null,
            "grid_column": null,
            "overflow_y": null,
            "overflow_x": null,
            "grid_auto_flow": null,
            "grid_area": null,
            "grid_template_columns": null,
            "flex": null,
            "_model_name": "LayoutModel",
            "justify_items": null,
            "grid_row": null,
            "max_height": null,
            "align_content": null,
            "visibility": null,
            "align_self": null,
            "height": null,
            "min_height": null,
            "padding": null,
            "grid_auto_rows": null,
            "grid_gap": null,
            "max_width": null,
            "order": null,
            "_view_module_version": "1.2.0",
            "grid_template_areas": null,
            "object_position": null,
            "object_fit": null,
            "grid_auto_columns": null,
            "margin": null,
            "display": null,
            "left": null
          }
        }
      }
    }
  },
  "cells": [
    {
      "cell_type": "markdown",
      "metadata": {
        "id": "view-in-github",
        "colab_type": "text"
      },
      "source": [
        "<a href=\"https://colab.research.google.com/github/poojamahajan0712/EVA_Pooja/blob/master/S10.ipynb\" target=\"_parent\"><img src=\"https://colab.research.google.com/assets/colab-badge.svg\" alt=\"Open In Colab\"/></a>"
      ]
    },
    {
      "cell_type": "markdown",
      "metadata": {
        "id": "fPogbueepoCh",
        "colab_type": "text"
      },
      "source": [
        "S10 - Assignment \n",
        "\n",
        "Assignment: \n",
        "\n",
        "1.Pick your last code<br>\n",
        "2.Make sure  to Add CutOut to your code. It should come from your transformations (albumentations)<br>\n",
        "3.Use this repo: https://github.com/davidtvs/pytorch-lr-finder (Links to an external site.) \n",
        "    Move LR Finder code to your modules<br>\n",
        "    Implement LR Finder (for SGD, not for ADAM)<br>\n",
        "    Implement ReduceLROnPlatea: https://pytorch.org/docs/stable/optim.html#torch.optim.lr_scheduler.ReduceLROnPlateau (Links to an external site.)<br>\n",
        "4.Find best LR to train your model <br>\n",
        "5.Use SDG with Momentum<br>\n",
        "6.Train for 50 Epochs.<br>\n",
        "7.Show Training and Test Accuracy curves<br>\n",
        "8.Target 88% Accuracy.<br>\n",
        "9.Run GradCAM on the any 25 misclassified images. Make sure you mention what is the prediction and what was the ground truth label.<br>\n",
        "10.Submit\n"
      ]
    },
    {
      "cell_type": "code",
      "metadata": {
        "id": "-yVpodAMpoCi",
        "colab_type": "code",
        "outputId": "e42ebe1b-c2ce-4dbe-8a72-f3b7f3341c5b",
        "colab": {
          "base_uri": "https://localhost:8080/",
          "height": 661
        }
      },
      "source": [
        "%matplotlib inline\n",
        "import torch\n",
        "import torchvision\n",
        "import torchvision.transforms as transforms\n",
        "import torch.nn as nn\n",
        "import torch.nn.functional as F\n",
        "import matplotlib.pyplot as plt\n",
        "import numpy as np\n",
        "import torch.optim as optim\n",
        "from PIL import Image\n",
        "\n",
        "#from transform_func import transform1\n",
        "from data_load_cifar10 import dataload\n",
        "from util import *\n",
        "import resnet\n",
        "from train_v1 import train\n",
        "from test2 import test\n",
        "from aug__new_albumv2 import album_train,album_test\n",
        "!pip install -U git+https://github.com/albu/albumentations --no-cache-dir\n",
        "#from utils import *\n",
        "#from gradcam import GradCAM\n",
        "\n"
      ],
      "execution_count": 8,
      "outputs": [
        {
          "output_type": "stream",
          "text": [
            "Collecting git+https://github.com/albu/albumentations\n",
            "  Cloning https://github.com/albu/albumentations to /tmp/pip-req-build-q6i2qrzx\n",
            "  Running command git clone -q https://github.com/albu/albumentations /tmp/pip-req-build-q6i2qrzx\n",
            "Requirement already satisfied, skipping upgrade: numpy>=1.11.1 in /usr/local/lib/python3.6/dist-packages (from albumentations==0.4.5) (1.18.2)\n",
            "Requirement already satisfied, skipping upgrade: scipy in /usr/local/lib/python3.6/dist-packages (from albumentations==0.4.5) (1.4.1)\n",
            "Requirement already satisfied, skipping upgrade: imgaug<0.2.7,>=0.2.5 in /usr/local/lib/python3.6/dist-packages (from albumentations==0.4.5) (0.2.6)\n",
            "Requirement already satisfied, skipping upgrade: PyYAML in /usr/local/lib/python3.6/dist-packages (from albumentations==0.4.5) (3.13)\n",
            "Requirement already satisfied, skipping upgrade: opencv-python>=4.1.1 in /usr/local/lib/python3.6/dist-packages (from albumentations==0.4.5) (4.1.2.30)\n",
            "Requirement already satisfied, skipping upgrade: scikit-image>=0.11.0 in /usr/local/lib/python3.6/dist-packages (from imgaug<0.2.7,>=0.2.5->albumentations==0.4.5) (0.16.2)\n",
            "Requirement already satisfied, skipping upgrade: six in /usr/local/lib/python3.6/dist-packages (from imgaug<0.2.7,>=0.2.5->albumentations==0.4.5) (1.12.0)\n",
            "Requirement already satisfied, skipping upgrade: imageio>=2.3.0 in /usr/local/lib/python3.6/dist-packages (from scikit-image>=0.11.0->imgaug<0.2.7,>=0.2.5->albumentations==0.4.5) (2.4.1)\n",
            "Requirement already satisfied, skipping upgrade: matplotlib!=3.0.0,>=2.0.0 in /usr/local/lib/python3.6/dist-packages (from scikit-image>=0.11.0->imgaug<0.2.7,>=0.2.5->albumentations==0.4.5) (3.2.1)\n",
            "Requirement already satisfied, skipping upgrade: PyWavelets>=0.4.0 in /usr/local/lib/python3.6/dist-packages (from scikit-image>=0.11.0->imgaug<0.2.7,>=0.2.5->albumentations==0.4.5) (1.1.1)\n",
            "Requirement already satisfied, skipping upgrade: pillow>=4.3.0 in /usr/local/lib/python3.6/dist-packages (from scikit-image>=0.11.0->imgaug<0.2.7,>=0.2.5->albumentations==0.4.5) (7.0.0)\n",
            "Requirement already satisfied, skipping upgrade: networkx>=2.0 in /usr/local/lib/python3.6/dist-packages (from scikit-image>=0.11.0->imgaug<0.2.7,>=0.2.5->albumentations==0.4.5) (2.4)\n",
            "Requirement already satisfied, skipping upgrade: python-dateutil>=2.1 in /usr/local/lib/python3.6/dist-packages (from matplotlib!=3.0.0,>=2.0.0->scikit-image>=0.11.0->imgaug<0.2.7,>=0.2.5->albumentations==0.4.5) (2.8.1)\n",
            "Requirement already satisfied, skipping upgrade: cycler>=0.10 in /usr/local/lib/python3.6/dist-packages (from matplotlib!=3.0.0,>=2.0.0->scikit-image>=0.11.0->imgaug<0.2.7,>=0.2.5->albumentations==0.4.5) (0.10.0)\n",
            "Requirement already satisfied, skipping upgrade: kiwisolver>=1.0.1 in /usr/local/lib/python3.6/dist-packages (from matplotlib!=3.0.0,>=2.0.0->scikit-image>=0.11.0->imgaug<0.2.7,>=0.2.5->albumentations==0.4.5) (1.1.0)\n",
            "Requirement already satisfied, skipping upgrade: pyparsing!=2.0.4,!=2.1.2,!=2.1.6,>=2.0.1 in /usr/local/lib/python3.6/dist-packages (from matplotlib!=3.0.0,>=2.0.0->scikit-image>=0.11.0->imgaug<0.2.7,>=0.2.5->albumentations==0.4.5) (2.4.6)\n",
            "Requirement already satisfied, skipping upgrade: decorator>=4.3.0 in /usr/local/lib/python3.6/dist-packages (from networkx>=2.0->scikit-image>=0.11.0->imgaug<0.2.7,>=0.2.5->albumentations==0.4.5) (4.4.2)\n",
            "Requirement already satisfied, skipping upgrade: setuptools in /usr/local/lib/python3.6/dist-packages (from kiwisolver>=1.0.1->matplotlib!=3.0.0,>=2.0.0->scikit-image>=0.11.0->imgaug<0.2.7,>=0.2.5->albumentations==0.4.5) (46.0.0)\n",
            "Building wheels for collected packages: albumentations\n",
            "  Building wheel for albumentations (setup.py) ... \u001b[?25l\u001b[?25hdone\n",
            "  Created wheel for albumentations: filename=albumentations-0.4.5-cp36-none-any.whl size=65100 sha256=a36442a91d2c7ad6e957b14d400240f3e0803c4b2f6ac0fcf731106e3b5f09a4\n",
            "  Stored in directory: /tmp/pip-ephem-wheel-cache-i7dh8f3d/wheels/45/8b/e4/2837bbcf517d00732b8e394f8646f22b8723ac00993230188b\n",
            "Successfully built albumentations\n",
            "Installing collected packages: albumentations\n",
            "  Found existing installation: albumentations 0.4.5\n",
            "    Uninstalling albumentations-0.4.5:\n",
            "      Successfully uninstalled albumentations-0.4.5\n",
            "Successfully installed albumentations-0.4.5\n"
          ],
          "name": "stdout"
        },
        {
          "output_type": "display_data",
          "data": {
            "application/vnd.colab-display-data+json": {
              "pip_warning": {
                "packages": [
                  "albumentations"
                ]
              }
            }
          },
          "metadata": {
            "tags": []
          }
        }
      ]
    },
    {
      "cell_type": "code",
      "metadata": {
        "id": "D8Tjigo2poCl",
        "colab_type": "code",
        "outputId": "1f689874-60bc-4498-f6f0-3da19e3b07d1",
        "colab": {
          "base_uri": "https://localhost:8080/",
          "height": 52
        }
      },
      "source": [
        "\n",
        "    \n",
        "trainloader,testloader,classes =dataload(train_transform=album_train(),test_transorm=album_test())\n"
      ],
      "execution_count": 9,
      "outputs": [
        {
          "output_type": "stream",
          "text": [
            "Files already downloaded and verified\n",
            "Files already downloaded and verified\n"
          ],
          "name": "stdout"
        }
      ]
    },
    {
      "cell_type": "markdown",
      "metadata": {
        "id": "_cj433rtpoCn",
        "colab_type": "text"
      },
      "source": [
        "Let us show some of the training images, for fun.\n",
        "\n"
      ]
    },
    {
      "cell_type": "code",
      "metadata": {
        "id": "daA7bADhpoCo",
        "colab_type": "code",
        "outputId": "589a267a-8815-4968-9d8e-431be99747fa",
        "colab": {
          "base_uri": "https://localhost:8080/",
          "height": 191
        }
      },
      "source": [
        "# get some random training images\n",
        "dataiter = iter(trainloader)\n",
        "images, labels = dataiter.next()\n",
        "\n",
        "# show images\n",
        "imshow(torchvision.utils.make_grid(images[:4],padding=1))\n",
        "# print labels\n",
        "print(' '.join('%5s' % classes[labels[j]] for j in range(4)))\n"
      ],
      "execution_count": 10,
      "outputs": [
        {
          "output_type": "stream",
          "text": [
            "WARNING:matplotlib.image:Clipping input data to the valid range for imshow with RGB data ([0..1] for floats or [0..255] for integers).\n"
          ],
          "name": "stderr"
        },
        {
          "output_type": "stream",
          "text": [
            " deer horse  deer  bird\n"
          ],
          "name": "stdout"
        },
        {
          "output_type": "display_data",
          "data": {
            "image/png": "[encoded data removed]",
            "text/plain": [
              "<Figure size 432x288 with 1 Axes>"
            ]
          },
          "metadata": {
            "tags": []
          }
        }
      ]
    },
    {
      "cell_type": "markdown",
      "metadata": {
        "id": "28OpHA_LpoCq",
        "colab_type": "text"
      },
      "source": [
        "2. Define a Convolution Neural Network\n",
        "^^^^^^^^^^^^^^^^^^^^^^^^^^^^^^^^^^^^^^\n",
        "Copy the neural network from the Neural Networks section before and modify it to\n",
        "take 3-channel images (instead of 1-channel images as it was defined).\n",
        "\n"
      ]
    },
    {
      "cell_type": "code",
      "metadata": {
        "id": "RYgdcO85C5ym",
        "colab_type": "code",
        "outputId": "31147bac-66e7-4be1-bd7f-69e9f4377d79",
        "colab": {
          "base_uri": "https://localhost:8080/",
          "height": 1000
        }
      },
      "source": [
        "\n",
        "device = which_device()\n",
        "net = resnet.ResNet18().to(device)\n",
        "show_model_summary(net, device, (3,32,32))\n",
        "\n",
        "\n"
      ],
      "execution_count": 11,
      "outputs": [
        {
          "output_type": "stream",
          "text": [
            "----------------------------------------------------------------\n",
            "        Layer (type)               Output Shape         Param #\n",
            "================================================================\n",
            "            Conv2d-1           [-1, 64, 32, 32]           1,728\n",
            "       BatchNorm2d-2           [-1, 64, 32, 32]             128\n",
            "            Conv2d-3           [-1, 64, 32, 32]          36,864\n",
            "       BatchNorm2d-4           [-1, 64, 32, 32]             128\n",
            "            Conv2d-5           [-1, 64, 32, 32]          36,864\n",
            "       BatchNorm2d-6           [-1, 64, 32, 32]             128\n",
            "        BasicBlock-7           [-1, 64, 32, 32]               0\n",
            "            Conv2d-8           [-1, 64, 32, 32]          36,864\n",
            "       BatchNorm2d-9           [-1, 64, 32, 32]             128\n",
            "           Conv2d-10           [-1, 64, 32, 32]          36,864\n",
            "      BatchNorm2d-11           [-1, 64, 32, 32]             128\n",
            "       BasicBlock-12           [-1, 64, 32, 32]               0\n",
            "           Conv2d-13          [-1, 128, 16, 16]          73,728\n",
            "      BatchNorm2d-14          [-1, 128, 16, 16]             256\n",
            "           Conv2d-15          [-1, 128, 16, 16]         147,456\n",
            "      BatchNorm2d-16          [-1, 128, 16, 16]             256\n",
            "           Conv2d-17          [-1, 128, 16, 16]           8,192\n",
            "      BatchNorm2d-18          [-1, 128, 16, 16]             256\n",
            "       BasicBlock-19          [-1, 128, 16, 16]               0\n",
            "           Conv2d-20          [-1, 128, 16, 16]         147,456\n",
            "      BatchNorm2d-21          [-1, 128, 16, 16]             256\n",
            "           Conv2d-22          [-1, 128, 16, 16]         147,456\n",
            "      BatchNorm2d-23          [-1, 128, 16, 16]             256\n",
            "       BasicBlock-24          [-1, 128, 16, 16]               0\n",
            "           Conv2d-25            [-1, 256, 8, 8]         294,912\n",
            "      BatchNorm2d-26            [-1, 256, 8, 8]             512\n",
            "           Conv2d-27            [-1, 256, 8, 8]         589,824\n",
            "      BatchNorm2d-28            [-1, 256, 8, 8]             512\n",
            "           Conv2d-29            [-1, 256, 8, 8]          32,768\n",
            "      BatchNorm2d-30            [-1, 256, 8, 8]             512\n",
            "       BasicBlock-31            [-1, 256, 8, 8]               0\n",
            "           Conv2d-32            [-1, 256, 8, 8]         589,824\n",
            "      BatchNorm2d-33            [-1, 256, 8, 8]             512\n",
            "           Conv2d-34            [-1, 256, 8, 8]         589,824\n",
            "      BatchNorm2d-35            [-1, 256, 8, 8]             512\n",
            "       BasicBlock-36            [-1, 256, 8, 8]               0\n",
            "           Conv2d-37            [-1, 512, 4, 4]       1,179,648\n",
            "      BatchNorm2d-38            [-1, 512, 4, 4]           1,024\n",
            "           Conv2d-39            [-1, 512, 4, 4]       2,359,296\n",
            "      BatchNorm2d-40            [-1, 512, 4, 4]           1,024\n",
            "           Conv2d-41            [-1, 512, 4, 4]         131,072\n",
            "      BatchNorm2d-42            [-1, 512, 4, 4]           1,024\n",
            "       BasicBlock-43            [-1, 512, 4, 4]               0\n",
            "           Conv2d-44            [-1, 512, 4, 4]       2,359,296\n",
            "      BatchNorm2d-45            [-1, 512, 4, 4]           1,024\n",
            "           Conv2d-46            [-1, 512, 4, 4]       2,359,296\n",
            "      BatchNorm2d-47            [-1, 512, 4, 4]           1,024\n",
            "       BasicBlock-48            [-1, 512, 4, 4]               0\n",
            "           Linear-49                   [-1, 10]           5,130\n",
            "================================================================\n",
            "Total params: 11,173,962\n",
            "Trainable params: 11,173,962\n",
            "Non-trainable params: 0\n",
            "----------------------------------------------------------------\n",
            "Input size (MB): 0.01\n",
            "Forward/backward pass size (MB): 11.25\n",
            "Params size (MB): 42.63\n",
            "Estimated Total Size (MB): 53.89\n",
            "----------------------------------------------------------------\n",
            "None\n"
          ],
          "name": "stdout"
        }
      ]
    },
    {
      "cell_type": "markdown",
      "metadata": {
        "id": "O-odOrhdpoC2",
        "colab_type": "text"
      },
      "source": [
        " **Define a Loss function and optimizer** \n",
        "\n",
        "\n",
        "**Training and Testing**\n",
        "\n",
        "\n",
        "\n"
      ]
    },
    {
      "cell_type": "code",
      "metadata": {
        "id": "l79gyuzdjfQ7",
        "colab_type": "code",
        "outputId": "19fcc880-81ee-49fc-f837-eeacade44758",
        "colab": {
          "base_uri": "https://localhost:8080/",
          "height": 84,
          "referenced_widgets": [
            "75f5d50b84b2425ba95200260eac446e",
            "8d49831fd92644f3a83687b0e7919ce0",
            "38e731a79fb6434fbe3d21ab23b94365",
            "6a3d07244085478183f6b396abaf8087",
            "aa94c61e278d4ba7a69917b7c923f00c",
            "83fe04e0a78449d887b89a21a3eb8d7e",
            "e1b4654cbc544d8c935804073cde8826",
            "acdfbee3acdf47479e371c8d6c828418"
          ]
        }
      },
      "source": [
        "import torch.nn as nn\n",
        "from torch.optim import SGD,Adam\n",
        "from torch_lr_finder import LRFinder\n",
        "\n",
        "criterion = nn.CrossEntropyLoss()\n",
        "optimizer=SGD(net.parameters(), lr=0.00001)\n",
        "lr_finder=LRFinder(net,optimizer,criterion,device=\"cuda\")\n",
        "lr_finder.range_test(trainloader,end_lr=10,num_iter=500,step_mode=\"exp\")"
      ],
      "execution_count": 12,
      "outputs": [
        {
          "output_type": "display_data",
          "data": {
            "application/vnd.jupyter.widget-view+json": {
              "model_id": "75f5d50b84b2425ba95200260eac446e",
              "version_minor": 0,
              "version_major": 2
            },
            "text/plain": [
              "HBox(children=(IntProgress(value=0, max=500), HTML(value='')))"
            ]
          },
          "metadata": {
            "tags": []
          }
        },
        {
          "output_type": "stream",
          "text": [
            "\n",
            "Learning rate search finished. See the graph with {finder_name}.plot()\n"
          ],
          "name": "stdout"
        }
      ]
    },
    {
      "cell_type": "code",
      "metadata": {
        "id": "kJJ8ZCyflIIv",
        "colab_type": "code",
        "outputId": "db76765c-4896-4c48-8b0a-75d6cec59176",
        "colab": {
          "base_uri": "https://localhost:8080/",
          "height": 301
        }
      },
      "source": [
        "lr_finder.plot()"
      ],
      "execution_count": 13,
      "outputs": [
        {
          "output_type": "display_data",
          "data": {
            "image/png": "[encoded data removed]",
            "text/plain": [
              "<Figure size 432x288 with 1 Axes>"
            ]
          },
          "metadata": {
            "tags": []
          }
        },
        {
          "output_type": "execute_result",
          "data": {
            "text/plain": [
              "<matplotlib.axes._subplots.AxesSubplot at 0x7f75b4eec278>"
            ]
          },
          "metadata": {
            "tags": []
          },
          "execution_count": 13
        }
      ]
    },
    {
      "cell_type": "code",
      "metadata": {
        "id": "kkuRfo1IpoC3",
        "colab_type": "code",
        "outputId": "5e32a741-8fd1-4f7b-a607-9888aeb409b8",
        "colab": {
          "base_uri": "https://localhost:8080/",
          "height": 1000
        }
      },
      "source": [
        "\n",
        "\n",
        "criterion = nn.CrossEntropyLoss()\n",
        "optimizer = optim.SGD(net.parameters(), lr=0.03, momentum=0.9)\n",
        "scheduler = optim.lr_scheduler.ReduceLROnPlateau(optimizer, patience=10, verbose=True)\n",
        "def run():\n",
        "  train_accs=[]\n",
        "  test_losses=[]\n",
        "  test_accs=[]\n",
        "  for epoch in range(50):\n",
        "      print(\"EPOCH:\", epoch+1)\n",
        "      \n",
        "      train(net, device, trainloader, criterion, optimizer, epoch,train_accs)\n",
        "      test(net, device, testloader, criterion, classes, test_losses, test_accs)\n",
        "      scheduler.step(epoch)\n",
        "  return(train_accs,test_accs)\n",
        " \n",
        "\n",
        "train_accs,test_accs=run()"
      ],
      "execution_count": 24,
      "outputs": [
        {
          "output_type": "stream",
          "text": [
            "\r  0%|          | 0/391 [00:00<?, ?it/s]"
          ],
          "name": "stderr"
        },
        {
          "output_type": "stream",
          "text": [
            "EPOCH: 1\n"
          ],
          "name": "stdout"
        },
        {
          "output_type": "stream",
          "text": [
            "Loss=0.31586629152297974 Batch_id=390 Accuracy=91.38: 100%|██████████| 391/391 [00:28<00:00, 13.52it/s]\n",
            "  0%|          | 0/391 [00:00<?, ?it/s]"
          ],
          "name": "stderr"
        },
        {
          "output_type": "stream",
          "text": [
            "Test set: Average loss: 0.0043, Accuracy: 8269/10000 (82.69%)\n",
            "\n",
            "EPOCH: 2\n"
          ],
          "name": "stdout"
        },
        {
          "output_type": "stream",
          "text": [
            "Loss=0.2866154909133911 Batch_id=390 Accuracy=92.20: 100%|██████████| 391/391 [00:28<00:00, 13.59it/s]\n",
            "  0%|          | 0/391 [00:00<?, ?it/s]"
          ],
          "name": "stderr"
        },
        {
          "output_type": "stream",
          "text": [
            "Test set: Average loss: 0.0041, Accuracy: 8354/10000 (83.54%)\n",
            "\n",
            "EPOCH: 3\n"
          ],
          "name": "stdout"
        },
        {
          "output_type": "stream",
          "text": [
            "Loss=0.3067050576210022 Batch_id=390 Accuracy=93.38: 100%|██████████| 391/391 [00:28<00:00, 13.55it/s]\n",
            "  0%|          | 0/391 [00:00<?, ?it/s]"
          ],
          "name": "stderr"
        },
        {
          "output_type": "stream",
          "text": [
            "Test set: Average loss: 0.0044, Accuracy: 8384/10000 (83.84%)\n",
            "\n",
            "EPOCH: 4\n"
          ],
          "name": "stdout"
        },
        {
          "output_type": "stream",
          "text": [
            "Loss=0.18770185112953186 Batch_id=390 Accuracy=94.01: 100%|██████████| 391/391 [00:28<00:00, 13.57it/s]\n",
            "  0%|          | 0/391 [00:00<?, ?it/s]"
          ],
          "name": "stderr"
        },
        {
          "output_type": "stream",
          "text": [
            "Test set: Average loss: 0.0042, Accuracy: 8404/10000 (84.04%)\n",
            "\n",
            "EPOCH: 5\n"
          ],
          "name": "stdout"
        },
        {
          "output_type": "stream",
          "text": [
            "Loss=0.0596785768866539 Batch_id=390 Accuracy=94.41: 100%|██████████| 391/391 [00:28<00:00, 13.57it/s]\n",
            "  0%|          | 0/391 [00:00<?, ?it/s]"
          ],
          "name": "stderr"
        },
        {
          "output_type": "stream",
          "text": [
            "Test set: Average loss: 0.0047, Accuracy: 8332/10000 (83.32%)\n",
            "\n",
            "EPOCH: 6\n"
          ],
          "name": "stdout"
        },
        {
          "output_type": "stream",
          "text": [
            "Loss=0.3333861231803894 Batch_id=390 Accuracy=95.10: 100%|██████████| 391/391 [00:28<00:00, 13.60it/s]\n",
            "  0%|          | 0/391 [00:00<?, ?it/s]"
          ],
          "name": "stderr"
        },
        {
          "output_type": "stream",
          "text": [
            "Test set: Average loss: 0.0043, Accuracy: 8430/10000 (84.30%)\n",
            "\n",
            "EPOCH: 7\n"
          ],
          "name": "stdout"
        },
        {
          "output_type": "stream",
          "text": [
            "Loss=0.2621585726737976 Batch_id=390 Accuracy=95.87: 100%|██████████| 391/391 [00:28<00:00, 13.55it/s]\n",
            "  0%|          | 0/391 [00:00<?, ?it/s]"
          ],
          "name": "stderr"
        },
        {
          "output_type": "stream",
          "text": [
            "Test set: Average loss: 0.0043, Accuracy: 8442/10000 (84.42%)\n",
            "\n",
            "EPOCH: 8\n"
          ],
          "name": "stdout"
        },
        {
          "output_type": "stream",
          "text": [
            "Loss=0.18687239289283752 Batch_id=390 Accuracy=96.16: 100%|██████████| 391/391 [00:28<00:00, 13.54it/s]\n",
            "  0%|          | 0/391 [00:00<?, ?it/s]"
          ],
          "name": "stderr"
        },
        {
          "output_type": "stream",
          "text": [
            "\n",
            "Accuracy of plane : 87 %\n",
            "Accuracy of   car : 88 %\n",
            "Accuracy of  bird : 72 %\n",
            "Accuracy of   cat : 77 %\n",
            "Accuracy of  deer : 90 %\n",
            "Accuracy of   dog : 83 %\n",
            "Accuracy of  frog : 87 %\n",
            "Accuracy of horse : 97 %\n",
            "Accuracy of  ship : 96 %\n",
            "Accuracy of truck : 89 %\n",
            "\n",
            "Test set: Average loss: 0.0044, Accuracy: 8522/10000 (85.22%)\n",
            "\n",
            "EPOCH: 9\n"
          ],
          "name": "stdout"
        },
        {
          "output_type": "stream",
          "text": [
            "Loss=0.1300828903913498 Batch_id=390 Accuracy=96.74: 100%|██████████| 391/391 [00:28<00:00, 13.53it/s]\n",
            "  0%|          | 0/391 [00:00<?, ?it/s]"
          ],
          "name": "stderr"
        },
        {
          "output_type": "stream",
          "text": [
            "Test set: Average loss: 0.0051, Accuracy: 8429/10000 (84.29%)\n",
            "\n",
            "EPOCH: 10\n"
          ],
          "name": "stdout"
        },
        {
          "output_type": "stream",
          "text": [
            "Loss=0.06155640631914139 Batch_id=390 Accuracy=97.07: 100%|██████████| 391/391 [00:28<00:00, 13.66it/s]\n",
            "  0%|          | 0/391 [00:00<?, ?it/s]"
          ],
          "name": "stderr"
        },
        {
          "output_type": "stream",
          "text": [
            "Test set: Average loss: 0.0046, Accuracy: 8440/10000 (84.40%)\n",
            "\n",
            "EPOCH: 11\n"
          ],
          "name": "stdout"
        },
        {
          "output_type": "stream",
          "text": [
            "Loss=0.10963156074285507 Batch_id=390 Accuracy=97.14: 100%|██████████| 391/391 [00:28<00:00, 13.55it/s]\n",
            "  0%|          | 0/391 [00:00<?, ?it/s]"
          ],
          "name": "stderr"
        },
        {
          "output_type": "stream",
          "text": [
            "\n",
            "Accuracy of plane : 89 %\n",
            "Accuracy of   car : 97 %\n",
            "Accuracy of  bird : 73 %\n",
            "Accuracy of   cat : 75 %\n",
            "Accuracy of  deer : 87 %\n",
            "Accuracy of   dog : 90 %\n",
            "Accuracy of  frog : 93 %\n",
            "Accuracy of horse : 90 %\n",
            "Accuracy of  ship : 96 %\n",
            "Accuracy of truck : 89 %\n",
            "\n",
            "Test set: Average loss: 0.0044, Accuracy: 8561/10000 (85.61%)\n",
            "\n",
            "EPOCH: 12\n"
          ],
          "name": "stdout"
        },
        {
          "output_type": "stream",
          "text": [
            "Loss=0.07837177813053131 Batch_id=390 Accuracy=97.61: 100%|██████████| 391/391 [00:28<00:00, 13.58it/s]\n",
            "  0%|          | 0/391 [00:00<?, ?it/s]"
          ],
          "name": "stderr"
        },
        {
          "output_type": "stream",
          "text": [
            "Test set: Average loss: 0.0053, Accuracy: 8439/10000 (84.39%)\n",
            "\n",
            "Epoch    12: reducing learning rate of group 0 to 3.0000e-03.\n",
            "EPOCH: 13\n"
          ],
          "name": "stdout"
        },
        {
          "output_type": "stream",
          "text": [
            "Loss=0.017212551087141037 Batch_id=390 Accuracy=98.84: 100%|██████████| 391/391 [00:28<00:00, 13.64it/s]\n",
            "  0%|          | 0/391 [00:00<?, ?it/s]"
          ],
          "name": "stderr"
        },
        {
          "output_type": "stream",
          "text": [
            "\n",
            "Accuracy of plane : 89 %\n",
            "Accuracy of   car : 86 %\n",
            "Accuracy of  bird : 73 %\n",
            "Accuracy of   cat : 77 %\n",
            "Accuracy of  deer : 85 %\n",
            "Accuracy of   dog : 75 %\n",
            "Accuracy of  frog : 86 %\n",
            "Accuracy of horse : 90 %\n",
            "Accuracy of  ship : 93 %\n",
            "Accuracy of truck : 93 %\n",
            "\n",
            "Test set: Average loss: 0.0041, Accuracy: 8754/10000 (87.54%)\n",
            "\n",
            "EPOCH: 14\n"
          ],
          "name": "stdout"
        },
        {
          "output_type": "stream",
          "text": [
            "Loss=0.019433289766311646 Batch_id=390 Accuracy=99.39: 100%|██████████| 391/391 [00:28<00:00, 13.51it/s]\n",
            "  0%|          | 0/391 [00:00<?, ?it/s]"
          ],
          "name": "stderr"
        },
        {
          "output_type": "stream",
          "text": [
            "\n",
            "Accuracy of plane : 97 %\n",
            "Accuracy of   car : 96 %\n",
            "Accuracy of  bird : 81 %\n",
            "Accuracy of   cat : 70 %\n",
            "Accuracy of  deer : 90 %\n",
            "Accuracy of   dog : 68 %\n",
            "Accuracy of  frog : 89 %\n",
            "Accuracy of horse : 93 %\n",
            "Accuracy of  ship : 90 %\n",
            "Accuracy of truck : 88 %\n",
            "\n",
            "Test set: Average loss: 0.0041, Accuracy: 8739/10000 (87.39%)\n",
            "\n",
            "EPOCH: 15\n"
          ],
          "name": "stdout"
        },
        {
          "output_type": "stream",
          "text": [
            "Loss=0.07998065650463104 Batch_id=390 Accuracy=99.55: 100%|██████████| 391/391 [00:28<00:00, 13.56it/s]\n",
            "  0%|          | 0/391 [00:00<?, ?it/s]"
          ],
          "name": "stderr"
        },
        {
          "output_type": "stream",
          "text": [
            "\n",
            "Accuracy of plane : 94 %\n",
            "Accuracy of   car : 92 %\n",
            "Accuracy of  bird : 75 %\n",
            "Accuracy of   cat : 68 %\n",
            "Accuracy of  deer : 87 %\n",
            "Accuracy of   dog : 75 %\n",
            "Accuracy of  frog : 85 %\n",
            "Accuracy of horse : 85 %\n",
            "Accuracy of  ship : 89 %\n",
            "Accuracy of truck : 92 %\n",
            "\n",
            "Test set: Average loss: 0.0041, Accuracy: 8752/10000 (87.52%)\n",
            "\n",
            "EPOCH: 16\n"
          ],
          "name": "stdout"
        },
        {
          "output_type": "stream",
          "text": [
            "Loss=0.013028234243392944 Batch_id=390 Accuracy=99.59: 100%|██████████| 391/391 [00:28<00:00, 13.57it/s]\n",
            "  0%|          | 0/391 [00:00<?, ?it/s]"
          ],
          "name": "stderr"
        },
        {
          "output_type": "stream",
          "text": [
            "\n",
            "Accuracy of plane : 90 %\n",
            "Accuracy of   car : 97 %\n",
            "Accuracy of  bird : 75 %\n",
            "Accuracy of   cat : 88 %\n",
            "Accuracy of  deer : 96 %\n",
            "Accuracy of   dog : 92 %\n",
            "Accuracy of  frog : 90 %\n",
            "Accuracy of horse : 91 %\n",
            "Accuracy of  ship : 92 %\n",
            "Accuracy of truck : 94 %\n",
            "\n",
            "Test set: Average loss: 0.0041, Accuracy: 8724/10000 (87.24%)\n",
            "\n",
            "EPOCH: 17\n"
          ],
          "name": "stdout"
        },
        {
          "output_type": "stream",
          "text": [
            "Loss=0.023809831589460373 Batch_id=390 Accuracy=99.62: 100%|██████████| 391/391 [00:28<00:00, 13.52it/s]\n",
            "  0%|          | 0/391 [00:00<?, ?it/s]"
          ],
          "name": "stderr"
        },
        {
          "output_type": "stream",
          "text": [
            "\n",
            "Accuracy of plane : 96 %\n",
            "Accuracy of   car : 92 %\n",
            "Accuracy of  bird : 71 %\n",
            "Accuracy of   cat : 89 %\n",
            "Accuracy of  deer : 81 %\n",
            "Accuracy of   dog : 82 %\n",
            "Accuracy of  frog : 100 %\n",
            "Accuracy of horse : 82 %\n",
            "Accuracy of  ship : 97 %\n",
            "Accuracy of truck : 92 %\n",
            "\n",
            "Test set: Average loss: 0.0042, Accuracy: 8751/10000 (87.51%)\n",
            "\n",
            "EPOCH: 18\n"
          ],
          "name": "stdout"
        },
        {
          "output_type": "stream",
          "text": [
            "Loss=0.0035065351985394955 Batch_id=390 Accuracy=99.72: 100%|██████████| 391/391 [00:28<00:00, 13.53it/s]\n",
            "  0%|          | 0/391 [00:00<?, ?it/s]"
          ],
          "name": "stderr"
        },
        {
          "output_type": "stream",
          "text": [
            "\n",
            "Accuracy of plane : 88 %\n",
            "Accuracy of   car : 88 %\n",
            "Accuracy of  bird : 85 %\n",
            "Accuracy of   cat : 74 %\n",
            "Accuracy of  deer : 87 %\n",
            "Accuracy of   dog : 80 %\n",
            "Accuracy of  frog : 93 %\n",
            "Accuracy of horse : 90 %\n",
            "Accuracy of  ship : 93 %\n",
            "Accuracy of truck : 96 %\n",
            "\n",
            "Test set: Average loss: 0.0041, Accuracy: 8761/10000 (87.61%)\n",
            "\n",
            "EPOCH: 19\n"
          ],
          "name": "stdout"
        },
        {
          "output_type": "stream",
          "text": [
            "Loss=0.003617751644924283 Batch_id=390 Accuracy=99.72: 100%|██████████| 391/391 [00:28<00:00, 13.50it/s]\n",
            "  0%|          | 0/391 [00:00<?, ?it/s]"
          ],
          "name": "stderr"
        },
        {
          "output_type": "stream",
          "text": [
            "\n",
            "Accuracy of plane : 91 %\n",
            "Accuracy of   car : 91 %\n",
            "Accuracy of  bird : 88 %\n",
            "Accuracy of   cat : 65 %\n",
            "Accuracy of  deer : 90 %\n",
            "Accuracy of   dog : 72 %\n",
            "Accuracy of  frog : 90 %\n",
            "Accuracy of horse : 88 %\n",
            "Accuracy of  ship : 100 %\n",
            "Accuracy of truck : 100 %\n",
            "\n",
            "Test set: Average loss: 0.0041, Accuracy: 8764/10000 (87.64%)\n",
            "\n",
            "EPOCH: 20\n"
          ],
          "name": "stdout"
        },
        {
          "output_type": "stream",
          "text": [
            "Loss=0.0071592750027775764 Batch_id=390 Accuracy=99.77: 100%|██████████| 391/391 [00:28<00:00, 13.52it/s]\n",
            "  0%|          | 0/391 [00:00<?, ?it/s]"
          ],
          "name": "stderr"
        },
        {
          "output_type": "stream",
          "text": [
            "\n",
            "Accuracy of plane : 96 %\n",
            "Accuracy of   car : 89 %\n",
            "Accuracy of  bird : 61 %\n",
            "Accuracy of   cat : 80 %\n",
            "Accuracy of  deer : 91 %\n",
            "Accuracy of   dog : 65 %\n",
            "Accuracy of  frog : 87 %\n",
            "Accuracy of horse : 91 %\n",
            "Accuracy of  ship : 89 %\n",
            "Accuracy of truck : 96 %\n",
            "\n",
            "Test set: Average loss: 0.0042, Accuracy: 8757/10000 (87.57%)\n",
            "\n",
            "EPOCH: 21\n"
          ],
          "name": "stdout"
        },
        {
          "output_type": "stream",
          "text": [
            "Loss=0.0038599788676947355 Batch_id=390 Accuracy=99.76: 100%|██████████| 391/391 [00:28<00:00, 13.60it/s]\n",
            "  0%|          | 0/391 [00:00<?, ?it/s]"
          ],
          "name": "stderr"
        },
        {
          "output_type": "stream",
          "text": [
            "\n",
            "Accuracy of plane : 96 %\n",
            "Accuracy of   car : 97 %\n",
            "Accuracy of  bird : 80 %\n",
            "Accuracy of   cat : 86 %\n",
            "Accuracy of  deer : 78 %\n",
            "Accuracy of   dog : 82 %\n",
            "Accuracy of  frog : 89 %\n",
            "Accuracy of horse : 88 %\n",
            "Accuracy of  ship : 91 %\n",
            "Accuracy of truck : 100 %\n",
            "\n",
            "Test set: Average loss: 0.0041, Accuracy: 8765/10000 (87.65%)\n",
            "\n",
            "EPOCH: 22\n"
          ],
          "name": "stdout"
        },
        {
          "output_type": "stream",
          "text": [
            "Loss=0.013964688405394554 Batch_id=390 Accuracy=99.80: 100%|██████████| 391/391 [00:28<00:00, 13.56it/s]\n",
            "  0%|          | 0/391 [00:00<?, ?it/s]"
          ],
          "name": "stderr"
        },
        {
          "output_type": "stream",
          "text": [
            "\n",
            "Accuracy of plane : 92 %\n",
            "Accuracy of   car : 83 %\n",
            "Accuracy of  bird : 83 %\n",
            "Accuracy of   cat : 53 %\n",
            "Accuracy of  deer : 83 %\n",
            "Accuracy of   dog : 88 %\n",
            "Accuracy of  frog : 93 %\n",
            "Accuracy of horse : 87 %\n",
            "Accuracy of  ship : 100 %\n",
            "Accuracy of truck : 80 %\n",
            "\n",
            "Test set: Average loss: 0.0041, Accuracy: 8773/10000 (87.73%)\n",
            "\n",
            "EPOCH: 23\n"
          ],
          "name": "stdout"
        },
        {
          "output_type": "stream",
          "text": [
            "Loss=0.005846506450325251 Batch_id=390 Accuracy=99.78: 100%|██████████| 391/391 [00:28<00:00, 13.55it/s]\n",
            "  0%|          | 0/391 [00:00<?, ?it/s]"
          ],
          "name": "stderr"
        },
        {
          "output_type": "stream",
          "text": [
            "\n",
            "Accuracy of plane : 93 %\n",
            "Accuracy of   car : 97 %\n",
            "Accuracy of  bird : 85 %\n",
            "Accuracy of   cat : 79 %\n",
            "Accuracy of  deer : 78 %\n",
            "Accuracy of   dog : 82 %\n",
            "Accuracy of  frog : 82 %\n",
            "Accuracy of horse : 85 %\n",
            "Accuracy of  ship : 92 %\n",
            "Accuracy of truck : 84 %\n",
            "\n",
            "Test set: Average loss: 0.0042, Accuracy: 8764/10000 (87.64%)\n",
            "\n",
            "Epoch    23: reducing learning rate of group 0 to 3.0000e-04.\n",
            "EPOCH: 24\n"
          ],
          "name": "stdout"
        },
        {
          "output_type": "stream",
          "text": [
            "Loss=0.004009204916656017 Batch_id=390 Accuracy=99.80: 100%|██████████| 391/391 [00:28<00:00, 13.56it/s]\n",
            "  0%|          | 0/391 [00:00<?, ?it/s]"
          ],
          "name": "stderr"
        },
        {
          "output_type": "stream",
          "text": [
            "\n",
            "Accuracy of plane : 89 %\n",
            "Accuracy of   car : 96 %\n",
            "Accuracy of  bird : 86 %\n",
            "Accuracy of   cat : 75 %\n",
            "Accuracy of  deer : 85 %\n",
            "Accuracy of   dog : 72 %\n",
            "Accuracy of  frog : 82 %\n",
            "Accuracy of horse : 95 %\n",
            "Accuracy of  ship : 90 %\n",
            "Accuracy of truck : 91 %\n",
            "\n",
            "Test set: Average loss: 0.0042, Accuracy: 8774/10000 (87.74%)\n",
            "\n",
            "EPOCH: 25\n"
          ],
          "name": "stdout"
        },
        {
          "output_type": "stream",
          "text": [
            "Loss=0.019450444728136063 Batch_id=390 Accuracy=99.81: 100%|██████████| 391/391 [00:28<00:00, 13.56it/s]\n",
            "  0%|          | 0/391 [00:00<?, ?it/s]"
          ],
          "name": "stderr"
        },
        {
          "output_type": "stream",
          "text": [
            "\n",
            "Accuracy of plane : 82 %\n",
            "Accuracy of   car : 85 %\n",
            "Accuracy of  bird : 86 %\n",
            "Accuracy of   cat : 89 %\n",
            "Accuracy of  deer : 89 %\n",
            "Accuracy of   dog : 86 %\n",
            "Accuracy of  frog : 90 %\n",
            "Accuracy of horse : 82 %\n",
            "Accuracy of  ship : 88 %\n",
            "Accuracy of truck : 96 %\n",
            "\n",
            "Test set: Average loss: 0.0042, Accuracy: 8768/10000 (87.68%)\n",
            "\n",
            "EPOCH: 26\n"
          ],
          "name": "stdout"
        },
        {
          "output_type": "stream",
          "text": [
            "Loss=0.008219254203140736 Batch_id=390 Accuracy=99.84: 100%|██████████| 391/391 [00:28<00:00, 13.53it/s]\n",
            "  0%|          | 0/391 [00:00<?, ?it/s]"
          ],
          "name": "stderr"
        },
        {
          "output_type": "stream",
          "text": [
            "\n",
            "Accuracy of plane : 88 %\n",
            "Accuracy of   car : 88 %\n",
            "Accuracy of  bird : 81 %\n",
            "Accuracy of   cat : 68 %\n",
            "Accuracy of  deer : 89 %\n",
            "Accuracy of   dog : 85 %\n",
            "Accuracy of  frog : 90 %\n",
            "Accuracy of horse : 93 %\n",
            "Accuracy of  ship : 82 %\n",
            "Accuracy of truck : 100 %\n",
            "\n",
            "Test set: Average loss: 0.0041, Accuracy: 8784/10000 (87.84%)\n",
            "\n",
            "EPOCH: 27\n"
          ],
          "name": "stdout"
        },
        {
          "output_type": "stream",
          "text": [
            "Loss=0.00935441255569458 Batch_id=390 Accuracy=99.84: 100%|██████████| 391/391 [00:28<00:00, 13.51it/s]\n",
            "  0%|          | 0/391 [00:00<?, ?it/s]"
          ],
          "name": "stderr"
        },
        {
          "output_type": "stream",
          "text": [
            "\n",
            "Accuracy of plane : 87 %\n",
            "Accuracy of   car : 91 %\n",
            "Accuracy of  bird : 92 %\n",
            "Accuracy of   cat : 87 %\n",
            "Accuracy of  deer : 90 %\n",
            "Accuracy of   dog : 76 %\n",
            "Accuracy of  frog : 83 %\n",
            "Accuracy of horse : 95 %\n",
            "Accuracy of  ship : 86 %\n",
            "Accuracy of truck : 96 %\n",
            "\n",
            "Test set: Average loss: 0.0042, Accuracy: 8781/10000 (87.81%)\n",
            "\n",
            "EPOCH: 28\n"
          ],
          "name": "stdout"
        },
        {
          "output_type": "stream",
          "text": [
            "Loss=0.07669465988874435 Batch_id=390 Accuracy=99.83: 100%|██████████| 391/391 [00:28<00:00, 13.56it/s]\n",
            "  0%|          | 0/391 [00:00<?, ?it/s]"
          ],
          "name": "stderr"
        },
        {
          "output_type": "stream",
          "text": [
            "\n",
            "Accuracy of plane : 90 %\n",
            "Accuracy of   car : 94 %\n",
            "Accuracy of  bird : 82 %\n",
            "Accuracy of   cat : 58 %\n",
            "Accuracy of  deer : 94 %\n",
            "Accuracy of   dog : 75 %\n",
            "Accuracy of  frog : 90 %\n",
            "Accuracy of horse : 80 %\n",
            "Accuracy of  ship : 81 %\n",
            "Accuracy of truck : 96 %\n",
            "\n",
            "Test set: Average loss: 0.0042, Accuracy: 8784/10000 (87.84%)\n",
            "\n",
            "EPOCH: 29\n"
          ],
          "name": "stdout"
        },
        {
          "output_type": "stream",
          "text": [
            "Loss=0.004086869768798351 Batch_id=390 Accuracy=99.86: 100%|██████████| 391/391 [00:28<00:00, 13.58it/s]\n",
            "  0%|          | 0/391 [00:00<?, ?it/s]"
          ],
          "name": "stderr"
        },
        {
          "output_type": "stream",
          "text": [
            "\n",
            "Accuracy of plane : 96 %\n",
            "Accuracy of   car : 94 %\n",
            "Accuracy of  bird : 86 %\n",
            "Accuracy of   cat : 83 %\n",
            "Accuracy of  deer : 77 %\n",
            "Accuracy of   dog : 75 %\n",
            "Accuracy of  frog : 92 %\n",
            "Accuracy of horse : 84 %\n",
            "Accuracy of  ship : 93 %\n",
            "Accuracy of truck : 92 %\n",
            "\n",
            "Test set: Average loss: 0.0043, Accuracy: 8773/10000 (87.73%)\n",
            "\n",
            "EPOCH: 30\n"
          ],
          "name": "stdout"
        },
        {
          "output_type": "stream",
          "text": [
            "Loss=0.003830772591754794 Batch_id=390 Accuracy=99.83: 100%|██████████| 391/391 [00:28<00:00, 13.55it/s]\n",
            "  0%|          | 0/391 [00:00<?, ?it/s]"
          ],
          "name": "stderr"
        },
        {
          "output_type": "stream",
          "text": [
            "\n",
            "Accuracy of plane : 95 %\n",
            "Accuracy of   car : 100 %\n",
            "Accuracy of  bird : 83 %\n",
            "Accuracy of   cat : 72 %\n",
            "Accuracy of  deer : 81 %\n",
            "Accuracy of   dog : 81 %\n",
            "Accuracy of  frog : 87 %\n",
            "Accuracy of horse : 95 %\n",
            "Accuracy of  ship : 88 %\n",
            "Accuracy of truck : 94 %\n",
            "\n",
            "Test set: Average loss: 0.0042, Accuracy: 8778/10000 (87.78%)\n",
            "\n",
            "EPOCH: 31\n"
          ],
          "name": "stdout"
        },
        {
          "output_type": "stream",
          "text": [
            "Loss=0.0014819980133324862 Batch_id=390 Accuracy=99.82: 100%|██████████| 391/391 [00:28<00:00, 13.52it/s]\n",
            "  0%|          | 0/391 [00:00<?, ?it/s]"
          ],
          "name": "stderr"
        },
        {
          "output_type": "stream",
          "text": [
            "\n",
            "Accuracy of plane : 96 %\n",
            "Accuracy of   car : 88 %\n",
            "Accuracy of  bird : 74 %\n",
            "Accuracy of   cat : 84 %\n",
            "Accuracy of  deer : 89 %\n",
            "Accuracy of   dog : 82 %\n",
            "Accuracy of  frog : 92 %\n",
            "Accuracy of horse : 91 %\n",
            "Accuracy of  ship : 93 %\n",
            "Accuracy of truck : 100 %\n",
            "\n",
            "Test set: Average loss: 0.0041, Accuracy: 8782/10000 (87.82%)\n",
            "\n",
            "EPOCH: 32\n"
          ],
          "name": "stdout"
        },
        {
          "output_type": "stream",
          "text": [
            "Loss=0.00490150460973382 Batch_id=390 Accuracy=99.85: 100%|██████████| 391/391 [00:28<00:00, 13.52it/s]\n",
            "  0%|          | 0/391 [00:00<?, ?it/s]"
          ],
          "name": "stderr"
        },
        {
          "output_type": "stream",
          "text": [
            "\n",
            "Accuracy of plane : 92 %\n",
            "Accuracy of   car : 91 %\n",
            "Accuracy of  bird : 86 %\n",
            "Accuracy of   cat : 61 %\n",
            "Accuracy of  deer : 75 %\n",
            "Accuracy of   dog : 91 %\n",
            "Accuracy of  frog : 93 %\n",
            "Accuracy of horse : 88 %\n",
            "Accuracy of  ship : 88 %\n",
            "Accuracy of truck : 94 %\n",
            "\n",
            "Test set: Average loss: 0.0042, Accuracy: 8788/10000 (87.88%)\n",
            "\n",
            "EPOCH: 33\n"
          ],
          "name": "stdout"
        },
        {
          "output_type": "stream",
          "text": [
            "Loss=0.002160996198654175 Batch_id=390 Accuracy=99.80: 100%|██████████| 391/391 [00:29<00:00, 13.38it/s]\n",
            "  0%|          | 0/391 [00:00<?, ?it/s]"
          ],
          "name": "stderr"
        },
        {
          "output_type": "stream",
          "text": [
            "\n",
            "Accuracy of plane : 84 %\n",
            "Accuracy of   car : 89 %\n",
            "Accuracy of  bird : 80 %\n",
            "Accuracy of   cat : 81 %\n",
            "Accuracy of  deer : 93 %\n",
            "Accuracy of   dog : 75 %\n",
            "Accuracy of  frog : 87 %\n",
            "Accuracy of horse : 87 %\n",
            "Accuracy of  ship : 85 %\n",
            "Accuracy of truck : 91 %\n",
            "\n",
            "Test set: Average loss: 0.0042, Accuracy: 8780/10000 (87.80%)\n",
            "\n",
            "EPOCH: 34\n"
          ],
          "name": "stdout"
        },
        {
          "output_type": "stream",
          "text": [
            "Loss=0.012547862716019154 Batch_id=390 Accuracy=99.82: 100%|██████████| 391/391 [00:29<00:00, 13.40it/s]\n",
            "  0%|          | 0/391 [00:00<?, ?it/s]"
          ],
          "name": "stderr"
        },
        {
          "output_type": "stream",
          "text": [
            "\n",
            "Accuracy of plane : 84 %\n",
            "Accuracy of   car : 90 %\n",
            "Accuracy of  bird : 84 %\n",
            "Accuracy of   cat : 71 %\n",
            "Accuracy of  deer : 93 %\n",
            "Accuracy of   dog : 96 %\n",
            "Accuracy of  frog : 89 %\n",
            "Accuracy of horse : 90 %\n",
            "Accuracy of  ship : 94 %\n",
            "Accuracy of truck : 100 %\n",
            "\n",
            "Test set: Average loss: 0.0041, Accuracy: 8786/10000 (87.86%)\n",
            "\n",
            "Epoch    34: reducing learning rate of group 0 to 3.0000e-05.\n",
            "EPOCH: 35\n"
          ],
          "name": "stdout"
        },
        {
          "output_type": "stream",
          "text": [
            "Loss=0.0031666397117078304 Batch_id=390 Accuracy=99.84: 100%|██████████| 391/391 [00:29<00:00, 13.42it/s]\n",
            "  0%|          | 0/391 [00:00<?, ?it/s]"
          ],
          "name": "stderr"
        },
        {
          "output_type": "stream",
          "text": [
            "\n",
            "Accuracy of plane : 96 %\n",
            "Accuracy of   car : 96 %\n",
            "Accuracy of  bird : 87 %\n",
            "Accuracy of   cat : 73 %\n",
            "Accuracy of  deer : 84 %\n",
            "Accuracy of   dog : 73 %\n",
            "Accuracy of  frog : 87 %\n",
            "Accuracy of horse : 86 %\n",
            "Accuracy of  ship : 96 %\n",
            "Accuracy of truck : 100 %\n",
            "\n",
            "Test set: Average loss: 0.0043, Accuracy: 8773/10000 (87.73%)\n",
            "\n",
            "EPOCH: 36\n"
          ],
          "name": "stdout"
        },
        {
          "output_type": "stream",
          "text": [
            "Loss=0.01464756764471531 Batch_id=390 Accuracy=99.82: 100%|██████████| 391/391 [00:29<00:00, 13.41it/s]\n",
            "  0%|          | 0/391 [00:00<?, ?it/s]"
          ],
          "name": "stderr"
        },
        {
          "output_type": "stream",
          "text": [
            "\n",
            "Accuracy of plane : 80 %\n",
            "Accuracy of   car : 96 %\n",
            "Accuracy of  bird : 76 %\n",
            "Accuracy of   cat : 77 %\n",
            "Accuracy of  deer : 89 %\n",
            "Accuracy of   dog : 84 %\n",
            "Accuracy of  frog : 92 %\n",
            "Accuracy of horse : 100 %\n",
            "Accuracy of  ship : 96 %\n",
            "Accuracy of truck : 100 %\n",
            "\n",
            "Test set: Average loss: 0.0043, Accuracy: 8776/10000 (87.76%)\n",
            "\n",
            "EPOCH: 37\n"
          ],
          "name": "stdout"
        },
        {
          "output_type": "stream",
          "text": [
            "Loss=0.001885747886262834 Batch_id=390 Accuracy=99.84: 100%|██████████| 391/391 [00:28<00:00, 13.52it/s]\n",
            "  0%|          | 0/391 [00:00<?, ?it/s]"
          ],
          "name": "stderr"
        },
        {
          "output_type": "stream",
          "text": [
            "\n",
            "Accuracy of plane : 100 %\n",
            "Accuracy of   car : 100 %\n",
            "Accuracy of  bird : 86 %\n",
            "Accuracy of   cat : 82 %\n",
            "Accuracy of  deer : 87 %\n",
            "Accuracy of   dog : 87 %\n",
            "Accuracy of  frog : 89 %\n",
            "Accuracy of horse : 88 %\n",
            "Accuracy of  ship : 90 %\n",
            "Accuracy of truck : 96 %\n",
            "\n",
            "Test set: Average loss: 0.0042, Accuracy: 8783/10000 (87.83%)\n",
            "\n",
            "EPOCH: 38\n"
          ],
          "name": "stdout"
        },
        {
          "output_type": "stream",
          "text": [
            "Loss=0.012301141396164894 Batch_id=390 Accuracy=99.87: 100%|██████████| 391/391 [00:29<00:00, 13.41it/s]\n",
            "  0%|          | 0/391 [00:00<?, ?it/s]"
          ],
          "name": "stderr"
        },
        {
          "output_type": "stream",
          "text": [
            "\n",
            "Accuracy of plane : 92 %\n",
            "Accuracy of   car : 94 %\n",
            "Accuracy of  bird : 100 %\n",
            "Accuracy of   cat : 69 %\n",
            "Accuracy of  deer : 80 %\n",
            "Accuracy of   dog : 74 %\n",
            "Accuracy of  frog : 92 %\n",
            "Accuracy of horse : 96 %\n",
            "Accuracy of  ship : 89 %\n",
            "Accuracy of truck : 88 %\n",
            "\n",
            "Test set: Average loss: 0.0042, Accuracy: 8780/10000 (87.80%)\n",
            "\n",
            "EPOCH: 39\n"
          ],
          "name": "stdout"
        },
        {
          "output_type": "stream",
          "text": [
            "Loss=0.003858256386592984 Batch_id=390 Accuracy=99.86: 100%|██████████| 391/391 [00:29<00:00, 13.47it/s]\n",
            "  0%|          | 0/391 [00:00<?, ?it/s]"
          ],
          "name": "stderr"
        },
        {
          "output_type": "stream",
          "text": [
            "\n",
            "Accuracy of plane : 88 %\n",
            "Accuracy of   car : 96 %\n",
            "Accuracy of  bird : 78 %\n",
            "Accuracy of   cat : 76 %\n",
            "Accuracy of  deer : 81 %\n",
            "Accuracy of   dog : 78 %\n",
            "Accuracy of  frog : 93 %\n",
            "Accuracy of horse : 96 %\n",
            "Accuracy of  ship : 92 %\n",
            "Accuracy of truck : 97 %\n",
            "\n",
            "Test set: Average loss: 0.0042, Accuracy: 8782/10000 (87.82%)\n",
            "\n",
            "EPOCH: 40\n"
          ],
          "name": "stdout"
        },
        {
          "output_type": "stream",
          "text": [
            "Loss=0.00465282192453742 Batch_id=390 Accuracy=99.84: 100%|██████████| 391/391 [00:29<00:00, 13.43it/s]\n",
            "  0%|          | 0/391 [00:00<?, ?it/s]"
          ],
          "name": "stderr"
        },
        {
          "output_type": "stream",
          "text": [
            "\n",
            "Accuracy of plane : 91 %\n",
            "Accuracy of   car : 91 %\n",
            "Accuracy of  bird : 96 %\n",
            "Accuracy of   cat : 69 %\n",
            "Accuracy of  deer : 90 %\n",
            "Accuracy of   dog : 86 %\n",
            "Accuracy of  frog : 92 %\n",
            "Accuracy of horse : 94 %\n",
            "Accuracy of  ship : 91 %\n",
            "Accuracy of truck : 93 %\n",
            "\n",
            "Test set: Average loss: 0.0041, Accuracy: 8793/10000 (87.93%)\n",
            "\n",
            "EPOCH: 41\n"
          ],
          "name": "stdout"
        },
        {
          "output_type": "stream",
          "text": [
            "Loss=0.03126051276922226 Batch_id=390 Accuracy=99.84: 100%|██████████| 391/391 [00:28<00:00, 13.57it/s]\n",
            "  0%|          | 0/391 [00:00<?, ?it/s]"
          ],
          "name": "stderr"
        },
        {
          "output_type": "stream",
          "text": [
            "\n",
            "Accuracy of plane : 84 %\n",
            "Accuracy of   car : 93 %\n",
            "Accuracy of  bird : 88 %\n",
            "Accuracy of   cat : 85 %\n",
            "Accuracy of  deer : 87 %\n",
            "Accuracy of   dog : 79 %\n",
            "Accuracy of  frog : 88 %\n",
            "Accuracy of horse : 93 %\n",
            "Accuracy of  ship : 100 %\n",
            "Accuracy of truck : 94 %\n",
            "\n",
            "Test set: Average loss: 0.0042, Accuracy: 8781/10000 (87.81%)\n",
            "\n",
            "EPOCH: 42\n"
          ],
          "name": "stdout"
        },
        {
          "output_type": "stream",
          "text": [
            "Loss=0.024896657094359398 Batch_id=390 Accuracy=99.84: 100%|██████████| 391/391 [00:28<00:00, 13.51it/s]\n",
            "  0%|          | 0/391 [00:00<?, ?it/s]"
          ],
          "name": "stderr"
        },
        {
          "output_type": "stream",
          "text": [
            "\n",
            "Accuracy of plane : 95 %\n",
            "Accuracy of   car : 87 %\n",
            "Accuracy of  bird : 97 %\n",
            "Accuracy of   cat : 66 %\n",
            "Accuracy of  deer : 93 %\n",
            "Accuracy of   dog : 73 %\n",
            "Accuracy of  frog : 88 %\n",
            "Accuracy of horse : 96 %\n",
            "Accuracy of  ship : 87 %\n",
            "Accuracy of truck : 88 %\n",
            "\n",
            "Test set: Average loss: 0.0042, Accuracy: 8791/10000 (87.91%)\n",
            "\n",
            "EPOCH: 43\n"
          ],
          "name": "stdout"
        },
        {
          "output_type": "stream",
          "text": [
            "Loss=0.0018858552211895585 Batch_id=390 Accuracy=99.82: 100%|██████████| 391/391 [00:28<00:00, 13.63it/s]\n",
            "  0%|          | 0/391 [00:00<?, ?it/s]"
          ],
          "name": "stderr"
        },
        {
          "output_type": "stream",
          "text": [
            "\n",
            "Accuracy of plane : 96 %\n",
            "Accuracy of   car : 90 %\n",
            "Accuracy of  bird : 76 %\n",
            "Accuracy of   cat : 83 %\n",
            "Accuracy of  deer : 82 %\n",
            "Accuracy of   dog : 87 %\n",
            "Accuracy of  frog : 100 %\n",
            "Accuracy of horse : 86 %\n",
            "Accuracy of  ship : 94 %\n",
            "Accuracy of truck : 96 %\n",
            "\n",
            "Test set: Average loss: 0.0042, Accuracy: 8781/10000 (87.81%)\n",
            "\n",
            "EPOCH: 44\n"
          ],
          "name": "stdout"
        },
        {
          "output_type": "stream",
          "text": [
            "Loss=0.014361786656081676 Batch_id=390 Accuracy=99.84: 100%|██████████| 391/391 [00:28<00:00, 13.65it/s]\n",
            "  0%|          | 0/391 [00:00<?, ?it/s]"
          ],
          "name": "stderr"
        },
        {
          "output_type": "stream",
          "text": [
            "\n",
            "Accuracy of plane : 80 %\n",
            "Accuracy of   car : 97 %\n",
            "Accuracy of  bird : 86 %\n",
            "Accuracy of   cat : 74 %\n",
            "Accuracy of  deer : 77 %\n",
            "Accuracy of   dog : 74 %\n",
            "Accuracy of  frog : 91 %\n",
            "Accuracy of horse : 92 %\n",
            "Accuracy of  ship : 92 %\n",
            "Accuracy of truck : 96 %\n",
            "\n",
            "Test set: Average loss: 0.0041, Accuracy: 8786/10000 (87.86%)\n",
            "\n",
            "EPOCH: 45\n"
          ],
          "name": "stdout"
        },
        {
          "output_type": "stream",
          "text": [
            "Loss=0.013307088986039162 Batch_id=390 Accuracy=99.87: 100%|██████████| 391/391 [00:28<00:00, 13.59it/s]\n",
            "  0%|          | 0/391 [00:00<?, ?it/s]"
          ],
          "name": "stderr"
        },
        {
          "output_type": "stream",
          "text": [
            "\n",
            "Accuracy of plane : 90 %\n",
            "Accuracy of   car : 93 %\n",
            "Accuracy of  bird : 88 %\n",
            "Accuracy of   cat : 68 %\n",
            "Accuracy of  deer : 96 %\n",
            "Accuracy of   dog : 68 %\n",
            "Accuracy of  frog : 93 %\n",
            "Accuracy of horse : 93 %\n",
            "Accuracy of  ship : 93 %\n",
            "Accuracy of truck : 96 %\n",
            "\n",
            "Test set: Average loss: 0.0042, Accuracy: 8777/10000 (87.77%)\n",
            "\n",
            "Epoch    45: reducing learning rate of group 0 to 3.0000e-06.\n",
            "EPOCH: 46\n"
          ],
          "name": "stdout"
        },
        {
          "output_type": "stream",
          "text": [
            "Loss=0.00958511233329773 Batch_id=390 Accuracy=99.82: 100%|██████████| 391/391 [00:28<00:00, 13.56it/s]\n",
            "  0%|          | 0/391 [00:00<?, ?it/s]"
          ],
          "name": "stderr"
        },
        {
          "output_type": "stream",
          "text": [
            "\n",
            "Accuracy of plane : 97 %\n",
            "Accuracy of   car : 96 %\n",
            "Accuracy of  bird : 80 %\n",
            "Accuracy of   cat : 73 %\n",
            "Accuracy of  deer : 82 %\n",
            "Accuracy of   dog : 91 %\n",
            "Accuracy of  frog : 82 %\n",
            "Accuracy of horse : 92 %\n",
            "Accuracy of  ship : 91 %\n",
            "Accuracy of truck : 89 %\n",
            "\n",
            "Test set: Average loss: 0.0042, Accuracy: 8784/10000 (87.84%)\n",
            "\n",
            "EPOCH: 47\n"
          ],
          "name": "stdout"
        },
        {
          "output_type": "stream",
          "text": [
            "Loss=0.0025890707038342953 Batch_id=390 Accuracy=99.84: 100%|██████████| 391/391 [00:28<00:00, 13.59it/s]\n",
            "  0%|          | 0/391 [00:00<?, ?it/s]"
          ],
          "name": "stderr"
        },
        {
          "output_type": "stream",
          "text": [
            "\n",
            "Accuracy of plane : 94 %\n",
            "Accuracy of   car : 90 %\n",
            "Accuracy of  bird : 93 %\n",
            "Accuracy of   cat : 87 %\n",
            "Accuracy of  deer : 90 %\n",
            "Accuracy of   dog : 86 %\n",
            "Accuracy of  frog : 88 %\n",
            "Accuracy of horse : 92 %\n",
            "Accuracy of  ship : 92 %\n",
            "Accuracy of truck : 94 %\n",
            "\n",
            "Test set: Average loss: 0.0042, Accuracy: 8776/10000 (87.76%)\n",
            "\n",
            "EPOCH: 48\n"
          ],
          "name": "stdout"
        },
        {
          "output_type": "stream",
          "text": [
            "Loss=0.0025697529781609774 Batch_id=390 Accuracy=99.86: 100%|██████████| 391/391 [00:28<00:00, 13.59it/s]\n",
            "  0%|          | 0/391 [00:00<?, ?it/s]"
          ],
          "name": "stderr"
        },
        {
          "output_type": "stream",
          "text": [
            "\n",
            "Accuracy of plane : 96 %\n",
            "Accuracy of   car : 92 %\n",
            "Accuracy of  bird : 83 %\n",
            "Accuracy of   cat : 83 %\n",
            "Accuracy of  deer : 82 %\n",
            "Accuracy of   dog : 84 %\n",
            "Accuracy of  frog : 76 %\n",
            "Accuracy of horse : 92 %\n",
            "Accuracy of  ship : 94 %\n",
            "Accuracy of truck : 92 %\n",
            "\n",
            "Test set: Average loss: 0.0042, Accuracy: 8784/10000 (87.84%)\n",
            "\n",
            "EPOCH: 49\n"
          ],
          "name": "stdout"
        },
        {
          "output_type": "stream",
          "text": [
            "Loss=0.017338460311293602 Batch_id=390 Accuracy=99.81: 100%|██████████| 391/391 [00:28<00:00, 13.58it/s]\n",
            "  0%|          | 0/391 [00:00<?, ?it/s]"
          ],
          "name": "stderr"
        },
        {
          "output_type": "stream",
          "text": [
            "\n",
            "Accuracy of plane : 82 %\n",
            "Accuracy of   car : 93 %\n",
            "Accuracy of  bird : 79 %\n",
            "Accuracy of   cat : 75 %\n",
            "Accuracy of  deer : 84 %\n",
            "Accuracy of   dog : 70 %\n",
            "Accuracy of  frog : 100 %\n",
            "Accuracy of horse : 93 %\n",
            "Accuracy of  ship : 100 %\n",
            "Accuracy of truck : 96 %\n",
            "\n",
            "Test set: Average loss: 0.0042, Accuracy: 8785/10000 (87.85%)\n",
            "\n",
            "EPOCH: 50\n"
          ],
          "name": "stdout"
        },
        {
          "output_type": "stream",
          "text": [
            "Loss=0.0074221729300916195 Batch_id=390 Accuracy=99.84: 100%|██████████| 391/391 [00:28<00:00, 13.53it/s]\n"
          ],
          "name": "stderr"
        },
        {
          "output_type": "stream",
          "text": [
            "\n",
            "Accuracy of plane : 96 %\n",
            "Accuracy of   car : 92 %\n",
            "Accuracy of  bird : 81 %\n",
            "Accuracy of   cat : 73 %\n",
            "Accuracy of  deer : 87 %\n",
            "Accuracy of   dog : 75 %\n",
            "Accuracy of  frog : 91 %\n",
            "Accuracy of horse : 86 %\n",
            "Accuracy of  ship : 93 %\n",
            "Accuracy of truck : 91 %\n",
            "\n",
            "Test set: Average loss: 0.0042, Accuracy: 8773/10000 (87.73%)\n",
            "\n"
          ],
          "name": "stdout"
        }
      ]
    },
    {
      "cell_type": "code",
      "metadata": {
        "id": "L4eS_RdPrZI1",
        "colab_type": "code",
        "colab": {
          "base_uri": "https://localhost:8080/",
          "height": 333
        },
        "outputId": "fc7584ae-78ba-4fe0-9362-395c3804cc4b"
      },
      "source": [
        "from google.colab import files\n",
        "\n",
        "\n",
        "plt.plot(train_accs[:], label=\"Train_accuracy\")\n",
        "plt.plot(test_accs[:], color=\"green\", label=\"Test_accuracy\")\n",
        "plt.title(\"Training and Test Accuracy over 50 epochs\")\n",
        "plt.xlabel('Epochs')\n",
        "plt.ylabel('Accuracy')\n",
        "plt.legend()\n",
        "\n",
        "'''extent = ax1.get_window_extent().transformed(fig.dpi_scale_trans.inverted())\n",
        "fig.savefig('Accuracy_S6.png', bbox_inches=extent.expanded(1.1, 1.2))\n",
        "files.download(\"Accuracy_S6.png\") '''\n"
      ],
      "execution_count": 23,
      "outputs": [
        {
          "output_type": "execute_result",
          "data": {
            "text/plain": [
              "'extent = ax1.get_window_extent().transformed(fig.dpi_scale_trans.inverted())\\nfig.savefig(\\'Accuracy_S6.png\\', bbox_inches=extent.expanded(1.1, 1.2))\\nfiles.download(\"Accuracy_S6.png\") '"
            ]
          },
          "metadata": {
            "tags": []
          },
          "execution_count": 23
        },
        {
          "output_type": "display_data",
          "data": {
            "image/png": "[encoded data removed]",
            "text/plain": [
              "<Figure size 432x288 with 1 Axes>"
            ]
          },
          "metadata": {
            "tags": []
          }
        }
      ]
    },
    {
      "cell_type": "code",
      "metadata": {
        "id": "nizbsvw9poC6",
        "colab_type": "code",
        "outputId": "cec8a6f2-a6b1-4ecf-e8ab-eddc65de6046",
        "colab": {
          "base_uri": "https://localhost:8080/",
          "height": 173
        }
      },
      "source": [
        "dataiter = iter(testloader)\n",
        "images, labels = dataiter.next()\n",
        "\n",
        "# print images\n",
        "imshow(torchvision.utils.make_grid(images[:4]))\n",
        "print('GroundTruth: ', ' '.join('%5s' % classes[labels[j]] for j in range(4)))"
      ],
      "execution_count": 0,
      "outputs": [
        {
          "output_type": "stream",
          "text": [
            "Clipping input data to the valid range for imshow with RGB data ([0..1] for floats or [0..255] for integers).\n"
          ],
          "name": "stderr"
        },
        {
          "output_type": "stream",
          "text": [
            "GroundTruth:  horse  frog   car  ship\n"
          ],
          "name": "stdout"
        },
        {
          "output_type": "display_data",
          "data": {
            "image/png": "[encoded data removed]",
            "text/plain": [
              "<Figure size 432x288 with 1 Axes>"
            ]
          },
          "metadata": {
            "tags": []
          }
        }
      ]
    },
    {
      "cell_type": "code",
      "metadata": {
        "id": "jPVZa5Q3aYS9",
        "colab_type": "code",
        "outputId": "a5037407-f582-464e-915a-b5c825cc8c36",
        "colab": {
          "base_uri": "https://localhost:8080/",
          "height": 435
        }
      },
      "source": [
        "model_dict = dict(type='resnet', arch=net, layer_name='layer4', input_size=(32,32))\n",
        "gradcam = GradCAM(model_dict)\n",
        "# get an image and normalize with mean=(0.485, 0.456, 0.406), std=(0.229, 0.224, 0.225)\n",
        "p=images[:1]\n",
        "#print(p.shape)\n",
        "\n",
        "torch_img = torch.from_numpy(np.asarray(p)).permute(0, 3, 1, 2).reshape(3, 32, 32).unsqueeze(0).float().div(255).cuda()\n",
        "torch_img = F.upsample(torch_img, size=(32, 32), mode='bilinear', align_corners=False)\n",
        "\n",
        "normalizer = Normalize(mean=[0.485, 0.456, 0.406], std=[0.229, 0.224, 0.225])\n",
        "normed_img = normalizer(torch_img)\n",
        "\n",
        "#print(type(normed_img))\n",
        "\n",
        "# get a GradCAM saliency map on the class index 10.\n",
        "mask, logit = gradcam(normed_img, class_idx=1)\n",
        "\n",
        "# make heatmap from mask and synthesize saliency map using heatmap and img\n",
        "heatmap, cam_result = visualize_cam(mask, torch_img)"
      ],
      "execution_count": 0,
      "outputs": [
        {
          "output_type": "stream",
          "text": [
            "torch.Size([1, 3, 32, 32])\n",
            "<class 'torch.Tensor'>\n"
          ],
          "name": "stdout"
        },
        {
          "output_type": "stream",
          "text": [
            "/usr/local/lib/python3.6/dist-packages/torch/nn/functional.py:2416: UserWarning: nn.functional.upsample is deprecated. Use nn.functional.interpolate instead.\n",
            "  warnings.warn(\"nn.functional.upsample is deprecated. Use nn.functional.interpolate instead.\")\n"
          ],
          "name": "stderr"
        },
        {
          "output_type": "error",
          "ename": "TypeError",
          "evalue": "ignored",
          "traceback": [
            "\u001b[0;31m---------------------------------------------------------------------------\u001b[0m",
            "\u001b[0;31mTypeError\u001b[0m                                 Traceback (most recent call last)",
            "\u001b[0;32m<ipython-input-51-754a4449389b>\u001b[0m in \u001b[0;36m<module>\u001b[0;34m()\u001b[0m\n\u001b[1;32m     14\u001b[0m \u001b[0;34m\u001b[0m\u001b[0m\n\u001b[1;32m     15\u001b[0m \u001b[0;31m# make heatmap from mask and synthesize saliency map using heatmap and img\u001b[0m\u001b[0;34m\u001b[0m\u001b[0;34m\u001b[0m\u001b[0;34m\u001b[0m\u001b[0m\n\u001b[0;32m---> 16\u001b[0;31m \u001b[0mheatmap\u001b[0m\u001b[0;34m,\u001b[0m \u001b[0mcam_result\u001b[0m \u001b[0;34m=\u001b[0m \u001b[0mvisualize_cam\u001b[0m\u001b[0;34m(\u001b[0m\u001b[0mmask\u001b[0m\u001b[0;34m,\u001b[0m \u001b[0mtorch_img\u001b[0m\u001b[0;34m)\u001b[0m\u001b[0;34m\u001b[0m\u001b[0;34m\u001b[0m\u001b[0m\n\u001b[0m",
            "\u001b[0;32m/content/utils.py\u001b[0m in \u001b[0;36mvisualize_cam\u001b[0;34m(mask, img)\u001b[0m\n\u001b[1;32m     20\u001b[0m         \u001b[0mresult\u001b[0m \u001b[0;34m(\u001b[0m\u001b[0mtorch\u001b[0m\u001b[0;34m.\u001b[0m\u001b[0mtensor\u001b[0m\u001b[0;34m)\u001b[0m\u001b[0;34m:\u001b[0m \u001b[0msynthesized\u001b[0m \u001b[0mGradCAM\u001b[0m \u001b[0mresult\u001b[0m \u001b[0mof\u001b[0m \u001b[0msame\u001b[0m \u001b[0mshape\u001b[0m \u001b[0;32mwith\u001b[0m \u001b[0mheatmap\u001b[0m\u001b[0;34m.\u001b[0m\u001b[0;34m\u001b[0m\u001b[0;34m\u001b[0m\u001b[0m\n\u001b[1;32m     21\u001b[0m     \"\"\"\n\u001b[0;32m---> 22\u001b[0;31m     \u001b[0mheatmap\u001b[0m \u001b[0;34m=\u001b[0m \u001b[0mcv2\u001b[0m\u001b[0;34m.\u001b[0m\u001b[0mapplyColorMap\u001b[0m\u001b[0;34m(\u001b[0m\u001b[0mnp\u001b[0m\u001b[0;34m.\u001b[0m\u001b[0muint8\u001b[0m\u001b[0;34m(\u001b[0m\u001b[0;36m255\u001b[0m \u001b[0;34m*\u001b[0m \u001b[0mmask\u001b[0m\u001b[0;34m.\u001b[0m\u001b[0msqueeze\u001b[0m\u001b[0;34m(\u001b[0m\u001b[0;34m)\u001b[0m\u001b[0;34m)\u001b[0m\u001b[0;34m,\u001b[0m \u001b[0mcv2\u001b[0m\u001b[0;34m.\u001b[0m\u001b[0mCOLORMAP_JET\u001b[0m\u001b[0;34m)\u001b[0m\u001b[0;34m\u001b[0m\u001b[0;34m\u001b[0m\u001b[0m\n\u001b[0m\u001b[1;32m     23\u001b[0m     \u001b[0mheatmap\u001b[0m \u001b[0;34m=\u001b[0m \u001b[0mtorch\u001b[0m\u001b[0;34m.\u001b[0m\u001b[0mfrom_numpy\u001b[0m\u001b[0;34m(\u001b[0m\u001b[0mheatmap\u001b[0m\u001b[0;34m)\u001b[0m\u001b[0;34m.\u001b[0m\u001b[0mpermute\u001b[0m\u001b[0;34m(\u001b[0m\u001b[0;36m2\u001b[0m\u001b[0;34m,\u001b[0m \u001b[0;36m0\u001b[0m\u001b[0;34m,\u001b[0m \u001b[0;36m1\u001b[0m\u001b[0;34m)\u001b[0m\u001b[0;34m.\u001b[0m\u001b[0mfloat\u001b[0m\u001b[0;34m(\u001b[0m\u001b[0;34m)\u001b[0m\u001b[0;34m.\u001b[0m\u001b[0mdiv\u001b[0m\u001b[0;34m(\u001b[0m\u001b[0;36m255\u001b[0m\u001b[0;34m)\u001b[0m\u001b[0;34m\u001b[0m\u001b[0;34m\u001b[0m\u001b[0m\n\u001b[1;32m     24\u001b[0m     \u001b[0mb\u001b[0m\u001b[0;34m,\u001b[0m \u001b[0mg\u001b[0m\u001b[0;34m,\u001b[0m \u001b[0mr\u001b[0m \u001b[0;34m=\u001b[0m \u001b[0mheatmap\u001b[0m\u001b[0;34m.\u001b[0m\u001b[0msplit\u001b[0m\u001b[0;34m(\u001b[0m\u001b[0;36m1\u001b[0m\u001b[0;34m)\u001b[0m\u001b[0;34m\u001b[0m\u001b[0;34m\u001b[0m\u001b[0m\n",
            "\u001b[0;32m/usr/local/lib/python3.6/dist-packages/torch/tensor.py\u001b[0m in \u001b[0;36m__array__\u001b[0;34m(self, dtype)\u001b[0m\n\u001b[1;32m    486\u001b[0m             \u001b[0;32mreturn\u001b[0m \u001b[0mself\u001b[0m\u001b[0;34m.\u001b[0m\u001b[0mnumpy\u001b[0m\u001b[0;34m(\u001b[0m\u001b[0;34m)\u001b[0m\u001b[0;34m\u001b[0m\u001b[0;34m\u001b[0m\u001b[0m\n\u001b[1;32m    487\u001b[0m         \u001b[0;32melse\u001b[0m\u001b[0;34m:\u001b[0m\u001b[0;34m\u001b[0m\u001b[0;34m\u001b[0m\u001b[0m\n\u001b[0;32m--> 488\u001b[0;31m             \u001b[0;32mreturn\u001b[0m \u001b[0mself\u001b[0m\u001b[0;34m.\u001b[0m\u001b[0mnumpy\u001b[0m\u001b[0;34m(\u001b[0m\u001b[0;34m)\u001b[0m\u001b[0;34m.\u001b[0m\u001b[0mastype\u001b[0m\u001b[0;34m(\u001b[0m\u001b[0mdtype\u001b[0m\u001b[0;34m,\u001b[0m \u001b[0mcopy\u001b[0m\u001b[0;34m=\u001b[0m\u001b[0;32mFalse\u001b[0m\u001b[0;34m)\u001b[0m\u001b[0;34m\u001b[0m\u001b[0;34m\u001b[0m\u001b[0m\n\u001b[0m\u001b[1;32m    489\u001b[0m \u001b[0;34m\u001b[0m\u001b[0m\n\u001b[1;32m    490\u001b[0m     \u001b[0;31m# Wrap Numpy array again in a suitable tensor when done, to support e.g.\u001b[0m\u001b[0;34m\u001b[0m\u001b[0;34m\u001b[0m\u001b[0;34m\u001b[0m\u001b[0m\n",
            "\u001b[0;31mTypeError\u001b[0m: can't convert CUDA tensor to numpy. Use Tensor.cpu() to copy the tensor to host memory first."
          ]
        }
      ]
    },
    {
      "cell_type": "code",
      "metadata": {
        "id": "ZVgdnHR8f104",
        "colab_type": "code",
        "colab": {}
      },
      "source": [
        ""
      ],
      "execution_count": 0,
      "outputs": []
    },
    {
      "cell_type": "markdown",
      "metadata": {
        "id": "DAx4QPHVpoC8",
        "colab_type": "text"
      },
      "source": [
        "Okay, now let us see what the neural network thinks these examples above are:\n",
        "The outputs are energies for the 10 classes.\n",
        "Higher the energy for a class, the more the network\n",
        "thinks that the image is of the particular class.\n",
        "So, let's get the index of the highest energy:\n"
      ]
    },
    {
      "cell_type": "code",
      "metadata": {
        "id": "HVLjlssWpoC9",
        "colab_type": "code",
        "colab": {}
      },
      "source": [
        "images=images.to(device)\n",
        "outputs = net(images)\n",
        "_, predicted = torch.max(outputs, 1)\n",
        "\n",
        "print('Predicted: ', ' '.join('%5s' % classes[predicted[j]]\n",
        "                              for j in range(4)))"
      ],
      "execution_count": 0,
      "outputs": []
    },
    {
      "cell_type": "markdown",
      "metadata": {
        "id": "2TV0TXL1poDC",
        "colab_type": "text"
      },
      "source": [
        "The results seem pretty good.\n",
        "\n",
        "Let us look at how the network performs on the whole dataset.\n",
        "\n"
      ]
    }
  ]
}