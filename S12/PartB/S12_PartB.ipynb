{
  "nbformat": 4,
  "nbformat_minor": 0,
  "metadata": {
    "colab": {
      "name": "S12_PartB.ipynb",
      "provenance": []
    },
    "kernelspec": {
      "name": "python3",
      "display_name": "Python 3"
    }
  },
  "cells": [
    {
      "cell_type": "markdown",
      "metadata": {
        "id": "EwMVhzTRFdoF",
        "colab_type": "text"
      },
      "source": [
        "'''\n",
        "Description about json :-<br>\n",
        "1. annotations -\"array\" - with objects :-<br>\n",
        "    a. id - identifier for image (int) <br>\n",
        "    b. image_id - identifier(string) (int)<br>\n",
        "    c. segmentation -polygon <br>\n",
        "    d. area - area of the bounding box <br>\n",
        "    e. bbox - coordinates of bounding box in order - x(from top left),y(from top left),width,height of the bounding box<br>\n",
        "    f. iscrowd-flag<br>\n",
        "\n",
        "eg. {'id': 0,\n",
        " 'image_id': '0',\n",
        " 'segmentation': [81, 24, 214, 24, 214, 167, 81, 167],\n",
        " 'area': 19019,\n",
        " 'bbox': [81, 24, 133, 143],\n",
        " 'iscrowd': 0}<br>\n",
        "\n",
        "2. categories- this will store the attributes in key/value pairs<br>\n",
        "\n",
        "in the example below :- attribute is type - with value \"bird\"\n",
        "\"categories\": [\n",
        "    {\n",
        "      \"id\": 1,\n",
        "      \"name\": \"bird\",\n",
        "      \"supercategory\": \"type\"\n",
        "    }\n",
        "\n",
        "3. images - \"array\" with objects :-<br>\n",
        "    a. id - identifier for uploaded image<br>\n",
        "    b. width - width of uploaded image<br>\n",
        "    c. height- height of uploaded image<br>\n",
        "    d. filename - name of the uploaded image<br>\n",
        "    e. license - getting populated from license (key /value pair) stored separately<br>\n",
        "    f. date_captured - empty <br>\n",
        "\n",
        "4.info - dictionary- key/value - length 6 - about the annotation tool<br>\n",
        "    a. year - current year<br>\n",
        "    b. version- version of the tool<br>\n",
        "    c. description - description of the website <br>\n",
        "    d. contributor<br>\n",
        "    e. url <br>\n",
        "    f. date_created - timestamp of using the tools<br>\n",
        "\n",
        "5. licenses - key/value pair - length 1"
      ]
    },
    {
      "cell_type": "code",
      "metadata": {
        "id": "THSXz8slGFAW",
        "colab_type": "code",
        "colab": {}
      },
      "source": [
        "from format_json import formatted_out\n",
        "from matplotlib import pyplot as plt\n",
        "from sklearn.cluster import KMeans\n"
      ],
      "execution_count": 0,
      "outputs": []
    },
    {
      "cell_type": "code",
      "metadata": {
        "id": "UvdJptdPIHJG",
        "colab_type": "code",
        "colab": {}
      },
      "source": [
        "#getting output as bbox height and bbox width scaled using image height and width from the json\n",
        "X=formatted_out(filename='via_export_coco_19apr.json')"
      ],
      "execution_count": 0,
      "outputs": []
    },
    {
      "cell_type": "code",
      "metadata": {
        "id": "DsKLHCNiGszy",
        "colab_type": "code",
        "colab": {
          "base_uri": "https://localhost:8080/",
          "height": 285
        },
        "outputId": "7d08e809-d7aa-40db-f7cb-1283ac844363"
      },
      "source": [
        "#plotting scaled bbox height and bbox width\n",
        "plt.scatter(X.new_b_height, X.new_b_width)    \n",
        "\n"
      ],
      "execution_count": 20,
      "outputs": [
        {
          "output_type": "execute_result",
          "data": {
            "text/plain": [
              "<matplotlib.collections.PathCollection at 0x7fdac1eb6080>"
            ]
          },
          "metadata": {
            "tags": []
          },
          "execution_count": 20
        },
        {
          "output_type": "display_data",
          "data": {
            "image/png": "[encoded data removed]",
            "text/plain": [
              "<Figure size 432x288 with 1 Axes>"
            ]
          },
          "metadata": {
            "tags": [],
            "needs_background": "light"
          }
        }
      ]
    },
    {
      "cell_type": "code",
      "metadata": {
        "id": "r5d1XIAFGxJy",
        "colab_type": "code",
        "colab": {
          "base_uri": "https://localhost:8080/",
          "height": 295
        },
        "outputId": "8752b6f6-b630-4c3c-ccfe-f744215a56d2"
      },
      "source": [
        "#calculating optimum number of clusters \n",
        "wcss = []\n",
        "for i in range(1, 11):\n",
        "    kmeans = KMeans(n_clusters=i, init='k-means++', max_iter=300, n_init=10, random_state=0)\n",
        "    kmeans.fit(X)\n",
        "    wcss.append(kmeans.inertia_)\n",
        "plt.plot(range(1, 11), wcss)\n",
        "plt.title('Elbow Method')\n",
        "plt.xlabel('Number of clusters')\n",
        "plt.ylabel('WCSS')\n",
        "plt.show()"
      ],
      "execution_count": 21,
      "outputs": [
        {
          "output_type": "display_data",
          "data": {
            "image/png": "[encoded data removed]",
            "text/plain": [
              "<Figure size 432x288 with 1 Axes>"
            ]
          },
          "metadata": {
            "tags": [],
            "needs_background": "light"
          }
        }
      ]
    },
    {
      "cell_type": "code",
      "metadata": {
        "id": "uQk3j7qZG7LA",
        "colab_type": "code",
        "colab": {
          "base_uri": "https://localhost:8080/",
          "height": 268
        },
        "outputId": "20a36191-6eba-4378-9e99-3afa25236aa8"
      },
      "source": [
        "#Plotting 4 clusters \n",
        "kmeans = KMeans(n_clusters=4, init='k-means++', max_iter=300, n_init=10, random_state=0)\n",
        "pred_y = kmeans.fit_predict(X)\n",
        "plt.scatter(X.new_b_height, X.new_b_width)\n",
        "plt.scatter(kmeans.cluster_centers_[:, 0], kmeans.cluster_centers_[:, 1], s=300, c='red')\n",
        "plt.show()"
      ],
      "execution_count": 22,
      "outputs": [
        {
          "output_type": "display_data",
          "data": {
            "image/png": "[encoded data removed]",
            "text/plain": [
              "<Figure size 432x288 with 1 Axes>"
            ]
          },
          "metadata": {
            "tags": [],
            "needs_background": "light"
          }
        }
      ]
    }
  ]
}