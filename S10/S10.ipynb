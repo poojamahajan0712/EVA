{
  "nbformat": 4,
  "nbformat_minor": 0,
  "metadata": {
    "kernelspec": {
      "name": "python3",
      "display_name": "Python 3"
    },
    "language_info": {
      "codemirror_mode": {
        "name": "ipython",
        "version": 3
      },
      "file_extension": ".py",
      "mimetype": "text/x-python",
      "name": "python",
      "nbconvert_exporter": "python",
      "pygments_lexer": "ipython3",
      "version": "3.6.6"
    },
    "colab": {
      "name": "S10.ipynb",
      "provenance": [],
      "collapsed_sections": [],
      "include_colab_link": true
    },
    "accelerator": "GPU",
    "widgets": {
      "application/vnd.jupyter.widget-state+json": {
        "655d643c38d042fa99a867699eb791dc": {
          "model_module": "@jupyter-widgets/controls",
          "model_name": "HBoxModel",
          "state": {
            "_view_name": "HBoxView",
            "_dom_classes": [],
            "_model_name": "HBoxModel",
            "_view_module": "@jupyter-widgets/controls",
            "_model_module_version": "1.5.0",
            "_view_count": null,
            "_view_module_version": "1.5.0",
            "box_style": "",
            "layout": "IPY_MODEL_3cc988d223e84f45bae590333eaf2c69",
            "_model_module": "@jupyter-widgets/controls",
            "children": [
              "IPY_MODEL_0d585da8d7524a0394c873af4841cbad",
              "IPY_MODEL_bf2fdd4642fc4069972d0270a744f4da"
            ]
          }
        },
        "3cc988d223e84f45bae590333eaf2c69": {
          "model_module": "@jupyter-widgets/base",
          "model_name": "LayoutModel",
          "state": {
            "_view_name": "LayoutView",
            "grid_template_rows": null,
            "right": null,
            "justify_content": null,
            "_view_module": "@jupyter-widgets/base",
            "overflow": null,
            "_model_module_version": "1.2.0",
            "_view_count": null,
            "flex_flow": null,
            "width": null,
            "min_width": null,
            "border": null,
            "align_items": null,
            "bottom": null,
            "_model_module": "@jupyter-widgets/base",
            "top": null,
            "grid_column": null,
            "overflow_y": null,
            "overflow_x": null,
            "grid_auto_flow": null,
            "grid_area": null,
            "grid_template_columns": null,
            "flex": null,
            "_model_name": "LayoutModel",
            "justify_items": null,
            "grid_row": null,
            "max_height": null,
            "align_content": null,
            "visibility": null,
            "align_self": null,
            "height": null,
            "min_height": null,
            "padding": null,
            "grid_auto_rows": null,
            "grid_gap": null,
            "max_width": null,
            "order": null,
            "_view_module_version": "1.2.0",
            "grid_template_areas": null,
            "object_position": null,
            "object_fit": null,
            "grid_auto_columns": null,
            "margin": null,
            "display": null,
            "left": null
          }
        },
        "0d585da8d7524a0394c873af4841cbad": {
          "model_module": "@jupyter-widgets/controls",
          "model_name": "IntProgressModel",
          "state": {
            "_view_name": "ProgressView",
            "style": "IPY_MODEL_a62e341f7aa643ba87444e044b477dd3",
            "_dom_classes": [],
            "description": "",
            "_model_name": "IntProgressModel",
            "bar_style": "info",
            "max": 1,
            "_view_module": "@jupyter-widgets/controls",
            "_model_module_version": "1.5.0",
            "value": 1,
            "_view_count": null,
            "_view_module_version": "1.5.0",
            "orientation": "horizontal",
            "min": 0,
            "description_tooltip": null,
            "_model_module": "@jupyter-widgets/controls",
            "layout": "IPY_MODEL_9ec7ad5d5b2a4c2ea456cdd224cdd932"
          }
        },
        "bf2fdd4642fc4069972d0270a744f4da": {
          "model_module": "@jupyter-widgets/controls",
          "model_name": "HTMLModel",
          "state": {
            "_view_name": "HTMLView",
            "style": "IPY_MODEL_5cde023db6134f5b87bd639011373510",
            "_dom_classes": [],
            "description": "",
            "_model_name": "HTMLModel",
            "placeholder": "​",
            "_view_module": "@jupyter-widgets/controls",
            "_model_module_version": "1.5.0",
            "value": " 170500096/? [00:20&lt;00:00, 53203047.57it/s]",
            "_view_count": null,
            "_view_module_version": "1.5.0",
            "description_tooltip": null,
            "_model_module": "@jupyter-widgets/controls",
            "layout": "IPY_MODEL_64fe5f021be14f849c09987c31909fd1"
          }
        },
        "a62e341f7aa643ba87444e044b477dd3": {
          "model_module": "@jupyter-widgets/controls",
          "model_name": "ProgressStyleModel",
          "state": {
            "_view_name": "StyleView",
            "_model_name": "ProgressStyleModel",
            "description_width": "initial",
            "_view_module": "@jupyter-widgets/base",
            "_model_module_version": "1.5.0",
            "_view_count": null,
            "_view_module_version": "1.2.0",
            "bar_color": null,
            "_model_module": "@jupyter-widgets/controls"
          }
        },
        "9ec7ad5d5b2a4c2ea456cdd224cdd932": {
          "model_module": "@jupyter-widgets/base",
          "model_name": "LayoutModel",
          "state": {
            "_view_name": "LayoutView",
            "grid_template_rows": null,
            "right": null,
            "justify_content": null,
            "_view_module": "@jupyter-widgets/base",
            "overflow": null,
            "_model_module_version": "1.2.0",
            "_view_count": null,
            "flex_flow": null,
            "width": null,
            "min_width": null,
            "border": null,
            "align_items": null,
            "bottom": null,
            "_model_module": "@jupyter-widgets/base",
            "top": null,
            "grid_column": null,
            "overflow_y": null,
            "overflow_x": null,
            "grid_auto_flow": null,
            "grid_area": null,
            "grid_template_columns": null,
            "flex": null,
            "_model_name": "LayoutModel",
            "justify_items": null,
            "grid_row": null,
            "max_height": null,
            "align_content": null,
            "visibility": null,
            "align_self": null,
            "height": null,
            "min_height": null,
            "padding": null,
            "grid_auto_rows": null,
            "grid_gap": null,
            "max_width": null,
            "order": null,
            "_view_module_version": "1.2.0",
            "grid_template_areas": null,
            "object_position": null,
            "object_fit": null,
            "grid_auto_columns": null,
            "margin": null,
            "display": null,
            "left": null
          }
        },
        "5cde023db6134f5b87bd639011373510": {
          "model_module": "@jupyter-widgets/controls",
          "model_name": "DescriptionStyleModel",
          "state": {
            "_view_name": "StyleView",
            "_model_name": "DescriptionStyleModel",
            "description_width": "",
            "_view_module": "@jupyter-widgets/base",
            "_model_module_version": "1.5.0",
            "_view_count": null,
            "_view_module_version": "1.2.0",
            "_model_module": "@jupyter-widgets/controls"
          }
        },
        "64fe5f021be14f849c09987c31909fd1": {
          "model_module": "@jupyter-widgets/base",
          "model_name": "LayoutModel",
          "state": {
            "_view_name": "LayoutView",
            "grid_template_rows": null,
            "right": null,
            "justify_content": null,
            "_view_module": "@jupyter-widgets/base",
            "overflow": null,
            "_model_module_version": "1.2.0",
            "_view_count": null,
            "flex_flow": null,
            "width": null,
            "min_width": null,
            "border": null,
            "align_items": null,
            "bottom": null,
            "_model_module": "@jupyter-widgets/base",
            "top": null,
            "grid_column": null,
            "overflow_y": null,
            "overflow_x": null,
            "grid_auto_flow": null,
            "grid_area": null,
            "grid_template_columns": null,
            "flex": null,
            "_model_name": "LayoutModel",
            "justify_items": null,
            "grid_row": null,
            "max_height": null,
            "align_content": null,
            "visibility": null,
            "align_self": null,
            "height": null,
            "min_height": null,
            "padding": null,
            "grid_auto_rows": null,
            "grid_gap": null,
            "max_width": null,
            "order": null,
            "_view_module_version": "1.2.0",
            "grid_template_areas": null,
            "object_position": null,
            "object_fit": null,
            "grid_auto_columns": null,
            "margin": null,
            "display": null,
            "left": null
          }
        },
        "08d78a76e4544b0a82cfd960c4d9bca3": {
          "model_module": "@jupyter-widgets/controls",
          "model_name": "HBoxModel",
          "state": {
            "_view_name": "HBoxView",
            "_dom_classes": [],
            "_model_name": "HBoxModel",
            "_view_module": "@jupyter-widgets/controls",
            "_model_module_version": "1.5.0",
            "_view_count": null,
            "_view_module_version": "1.5.0",
            "box_style": "",
            "layout": "IPY_MODEL_b3e7724f92fc46ac8bc77c40d0096e06",
            "_model_module": "@jupyter-widgets/controls",
            "children": [
              "IPY_MODEL_6762aa3d89444347bd4f306d0aacf907",
              "IPY_MODEL_f1537955c629497992ee83369c00ac6e"
            ]
          }
        },
        "b3e7724f92fc46ac8bc77c40d0096e06": {
          "model_module": "@jupyter-widgets/base",
          "model_name": "LayoutModel",
          "state": {
            "_view_name": "LayoutView",
            "grid_template_rows": null,
            "right": null,
            "justify_content": null,
            "_view_module": "@jupyter-widgets/base",
            "overflow": null,
            "_model_module_version": "1.2.0",
            "_view_count": null,
            "flex_flow": null,
            "width": null,
            "min_width": null,
            "border": null,
            "align_items": null,
            "bottom": null,
            "_model_module": "@jupyter-widgets/base",
            "top": null,
            "grid_column": null,
            "overflow_y": null,
            "overflow_x": null,
            "grid_auto_flow": null,
            "grid_area": null,
            "grid_template_columns": null,
            "flex": null,
            "_model_name": "LayoutModel",
            "justify_items": null,
            "grid_row": null,
            "max_height": null,
            "align_content": null,
            "visibility": null,
            "align_self": null,
            "height": null,
            "min_height": null,
            "padding": null,
            "grid_auto_rows": null,
            "grid_gap": null,
            "max_width": null,
            "order": null,
            "_view_module_version": "1.2.0",
            "grid_template_areas": null,
            "object_position": null,
            "object_fit": null,
            "grid_auto_columns": null,
            "margin": null,
            "display": null,
            "left": null
          }
        },
        "6762aa3d89444347bd4f306d0aacf907": {
          "model_module": "@jupyter-widgets/controls",
          "model_name": "IntProgressModel",
          "state": {
            "_view_name": "ProgressView",
            "style": "IPY_MODEL_2795f359ff1e4bd8ab07ef32ce0ba153",
            "_dom_classes": [],
            "description": "100%",
            "_model_name": "IntProgressModel",
            "bar_style": "success",
            "max": 500,
            "_view_module": "@jupyter-widgets/controls",
            "_model_module_version": "1.5.0",
            "value": 500,
            "_view_count": null,
            "_view_module_version": "1.5.0",
            "orientation": "horizontal",
            "min": 0,
            "description_tooltip": null,
            "_model_module": "@jupyter-widgets/controls",
            "layout": "IPY_MODEL_8692b25bc61948ba9294941bbce39e74"
          }
        },
        "f1537955c629497992ee83369c00ac6e": {
          "model_module": "@jupyter-widgets/controls",
          "model_name": "HTMLModel",
          "state": {
            "_view_name": "HTMLView",
            "style": "IPY_MODEL_64de32a617544a0293e1ac47660c4c85",
            "_dom_classes": [],
            "description": "",
            "_model_name": "HTMLModel",
            "placeholder": "​",
            "_view_module": "@jupyter-widgets/controls",
            "_model_module_version": "1.5.0",
            "value": " 500/500 [58:25&lt;00:00,  7.01s/it]",
            "_view_count": null,
            "_view_module_version": "1.5.0",
            "description_tooltip": null,
            "_model_module": "@jupyter-widgets/controls",
            "layout": "IPY_MODEL_d3fb57ecfbb941d3a5c97086fae5e9c4"
          }
        },
        "2795f359ff1e4bd8ab07ef32ce0ba153": {
          "model_module": "@jupyter-widgets/controls",
          "model_name": "ProgressStyleModel",
          "state": {
            "_view_name": "StyleView",
            "_model_name": "ProgressStyleModel",
            "description_width": "initial",
            "_view_module": "@jupyter-widgets/base",
            "_model_module_version": "1.5.0",
            "_view_count": null,
            "_view_module_version": "1.2.0",
            "bar_color": null,
            "_model_module": "@jupyter-widgets/controls"
          }
        },
        "8692b25bc61948ba9294941bbce39e74": {
          "model_module": "@jupyter-widgets/base",
          "model_name": "LayoutModel",
          "state": {
            "_view_name": "LayoutView",
            "grid_template_rows": null,
            "right": null,
            "justify_content": null,
            "_view_module": "@jupyter-widgets/base",
            "overflow": null,
            "_model_module_version": "1.2.0",
            "_view_count": null,
            "flex_flow": null,
            "width": null,
            "min_width": null,
            "border": null,
            "align_items": null,
            "bottom": null,
            "_model_module": "@jupyter-widgets/base",
            "top": null,
            "grid_column": null,
            "overflow_y": null,
            "overflow_x": null,
            "grid_auto_flow": null,
            "grid_area": null,
            "grid_template_columns": null,
            "flex": null,
            "_model_name": "LayoutModel",
            "justify_items": null,
            "grid_row": null,
            "max_height": null,
            "align_content": null,
            "visibility": null,
            "align_self": null,
            "height": null,
            "min_height": null,
            "padding": null,
            "grid_auto_rows": null,
            "grid_gap": null,
            "max_width": null,
            "order": null,
            "_view_module_version": "1.2.0",
            "grid_template_areas": null,
            "object_position": null,
            "object_fit": null,
            "grid_auto_columns": null,
            "margin": null,
            "display": null,
            "left": null
          }
        },
        "64de32a617544a0293e1ac47660c4c85": {
          "model_module": "@jupyter-widgets/controls",
          "model_name": "DescriptionStyleModel",
          "state": {
            "_view_name": "StyleView",
            "_model_name": "DescriptionStyleModel",
            "description_width": "",
            "_view_module": "@jupyter-widgets/base",
            "_model_module_version": "1.5.0",
            "_view_count": null,
            "_view_module_version": "1.2.0",
            "_model_module": "@jupyter-widgets/controls"
          }
        },
        "d3fb57ecfbb941d3a5c97086fae5e9c4": {
          "model_module": "@jupyter-widgets/base",
          "model_name": "LayoutModel",
          "state": {
            "_view_name": "LayoutView",
            "grid_template_rows": null,
            "right": null,
            "justify_content": null,
            "_view_module": "@jupyter-widgets/base",
            "overflow": null,
            "_model_module_version": "1.2.0",
            "_view_count": null,
            "flex_flow": null,
            "width": null,
            "min_width": null,
            "border": null,
            "align_items": null,
            "bottom": null,
            "_model_module": "@jupyter-widgets/base",
            "top": null,
            "grid_column": null,
            "overflow_y": null,
            "overflow_x": null,
            "grid_auto_flow": null,
            "grid_area": null,
            "grid_template_columns": null,
            "flex": null,
            "_model_name": "LayoutModel",
            "justify_items": null,
            "grid_row": null,
            "max_height": null,
            "align_content": null,
            "visibility": null,
            "align_self": null,
            "height": null,
            "min_height": null,
            "padding": null,
            "grid_auto_rows": null,
            "grid_gap": null,
            "max_width": null,
            "order": null,
            "_view_module_version": "1.2.0",
            "grid_template_areas": null,
            "object_position": null,
            "object_fit": null,
            "grid_auto_columns": null,
            "margin": null,
            "display": null,
            "left": null
          }
        }
      }
    }
  },
  "cells": [
    {
      "cell_type": "markdown",
      "metadata": {
        "id": "view-in-github",
        "colab_type": "text"
      },
      "source": [
        "<a href=\"https://colab.research.google.com/github/poojamahajan0712/Assign10_EVA/blob/master/S10.ipynb\" target=\"_parent\"><img src=\"https://colab.research.google.com/assets/colab-badge.svg\" alt=\"Open In Colab\"/></a>"
      ]
    },
    {
      "cell_type": "markdown",
      "metadata": {
        "id": "fPogbueepoCh",
        "colab_type": "text"
      },
      "source": [
        "S10 - Assignment \n",
        "\n",
        "Assignment: \n",
        "\n",
        "1.Pick your last code<br>\n",
        "2.Make sure  to Add CutOut to your code. It should come from your transformations (albumentations)<br>\n",
        "3.Use this repo: https://github.com/davidtvs/pytorch-lr-finder (Links to an external site.) \n",
        "    Move LR Finder code to your modules<br>\n",
        "    Implement LR Finder (for SGD, not for ADAM)<br>\n",
        "    Implement ReduceLROnPlatea: https://pytorch.org/docs/stable/optim.html#torch.optim.lr_scheduler.ReduceLROnPlateau (Links to an external site.)<br>\n",
        "4.Find best LR to train your model <br>\n",
        "5.Use SDG with Momentum<br>\n",
        "6.Train for 50 Epochs.<br>\n",
        "7.Show Training and Test Accuracy curves<br>\n",
        "8.Target 88% Accuracy.<br>\n",
        "9.Run GradCAM on the any 25 misclassified images. Make sure you mention what is the prediction and what was the ground truth label.<br>\n",
        "10.Submit\n"
      ]
    },
    {
      "cell_type": "code",
      "metadata": {
        "id": "-yVpodAMpoCi",
        "colab_type": "code",
        "outputId": "c438d70f-e821-4473-fbba-783b4eb113e9",
        "colab": {
          "base_uri": "https://localhost:8080/",
          "height": 367
        }
      },
      "source": [
        "%matplotlib inline\n",
        "!pip install albumentations==0.4.5\n",
        "import torch\n",
        "import torchvision\n",
        "import torchvision.transforms as transforms\n",
        "import torch.nn as nn\n",
        "import torch.nn.functional as F\n",
        "import matplotlib.pyplot as plt\n",
        "import numpy as np\n",
        "import torch.optim as optim\n",
        "from PIL import Image\n",
        "\n",
        "from data_load_cifar10 import dataload\n",
        "from util1 import *\n",
        "import resnet\n",
        "import gradcam\n",
        "from train_v1 import train\n",
        "from new_test1 import test\n",
        "from album import album_train,album_test\n",
        "from visualize_v1 import VisualizeCam\n",
        "\n",
        "\n"
      ],
      "execution_count": 0,
      "outputs": [
        {
          "output_type": "stream",
          "text": [
            "Requirement already satisfied: albumentations==0.4.5 in /usr/local/lib/python3.6/dist-packages (0.4.5)\n",
            "Requirement already satisfied: numpy>=1.11.1 in /usr/local/lib/python3.6/dist-packages (from albumentations==0.4.5) (1.18.2)\n",
            "Requirement already satisfied: opencv-python>=4.1.1 in /usr/local/lib/python3.6/dist-packages (from albumentations==0.4.5) (4.1.2.30)\n",
            "Requirement already satisfied: imgaug<0.2.7,>=0.2.5 in /usr/local/lib/python3.6/dist-packages (from albumentations==0.4.5) (0.2.6)\n",
            "Requirement already satisfied: PyYAML in /usr/local/lib/python3.6/dist-packages (from albumentations==0.4.5) (3.13)\n",
            "Requirement already satisfied: scipy in /usr/local/lib/python3.6/dist-packages (from albumentations==0.4.5) (1.4.1)\n",
            "Requirement already satisfied: six in /usr/local/lib/python3.6/dist-packages (from imgaug<0.2.7,>=0.2.5->albumentations==0.4.5) (1.12.0)\n",
            "Requirement already satisfied: scikit-image>=0.11.0 in /usr/local/lib/python3.6/dist-packages (from imgaug<0.2.7,>=0.2.5->albumentations==0.4.5) (0.16.2)\n",
            "Requirement already satisfied: pillow>=4.3.0 in /usr/local/lib/python3.6/dist-packages (from scikit-image>=0.11.0->imgaug<0.2.7,>=0.2.5->albumentations==0.4.5) (7.0.0)\n",
            "Requirement already satisfied: imageio>=2.3.0 in /usr/local/lib/python3.6/dist-packages (from scikit-image>=0.11.0->imgaug<0.2.7,>=0.2.5->albumentations==0.4.5) (2.4.1)\n",
            "Requirement already satisfied: networkx>=2.0 in /usr/local/lib/python3.6/dist-packages (from scikit-image>=0.11.0->imgaug<0.2.7,>=0.2.5->albumentations==0.4.5) (2.4)\n",
            "Requirement already satisfied: matplotlib!=3.0.0,>=2.0.0 in /usr/local/lib/python3.6/dist-packages (from scikit-image>=0.11.0->imgaug<0.2.7,>=0.2.5->albumentations==0.4.5) (3.2.1)\n",
            "Requirement already satisfied: PyWavelets>=0.4.0 in /usr/local/lib/python3.6/dist-packages (from scikit-image>=0.11.0->imgaug<0.2.7,>=0.2.5->albumentations==0.4.5) (1.1.1)\n",
            "Requirement already satisfied: decorator>=4.3.0 in /usr/local/lib/python3.6/dist-packages (from networkx>=2.0->scikit-image>=0.11.0->imgaug<0.2.7,>=0.2.5->albumentations==0.4.5) (4.4.2)\n",
            "Requirement already satisfied: python-dateutil>=2.1 in /usr/local/lib/python3.6/dist-packages (from matplotlib!=3.0.0,>=2.0.0->scikit-image>=0.11.0->imgaug<0.2.7,>=0.2.5->albumentations==0.4.5) (2.8.1)\n",
            "Requirement already satisfied: cycler>=0.10 in /usr/local/lib/python3.6/dist-packages (from matplotlib!=3.0.0,>=2.0.0->scikit-image>=0.11.0->imgaug<0.2.7,>=0.2.5->albumentations==0.4.5) (0.10.0)\n",
            "Requirement already satisfied: kiwisolver>=1.0.1 in /usr/local/lib/python3.6/dist-packages (from matplotlib!=3.0.0,>=2.0.0->scikit-image>=0.11.0->imgaug<0.2.7,>=0.2.5->albumentations==0.4.5) (1.1.0)\n",
            "Requirement already satisfied: pyparsing!=2.0.4,!=2.1.2,!=2.1.6,>=2.0.1 in /usr/local/lib/python3.6/dist-packages (from matplotlib!=3.0.0,>=2.0.0->scikit-image>=0.11.0->imgaug<0.2.7,>=0.2.5->albumentations==0.4.5) (2.4.6)\n",
            "Requirement already satisfied: setuptools in /usr/local/lib/python3.6/dist-packages (from kiwisolver>=1.0.1->matplotlib!=3.0.0,>=2.0.0->scikit-image>=0.11.0->imgaug<0.2.7,>=0.2.5->albumentations==0.4.5) (46.0.0)\n"
          ],
          "name": "stdout"
        }
      ]
    },
    {
      "cell_type": "code",
      "metadata": {
        "id": "D8Tjigo2poCl",
        "colab_type": "code",
        "outputId": "483af375-1a65-460b-eb8a-b8b8a4f8a682",
        "colab": {
          "base_uri": "https://localhost:8080/",
          "height": 101,
          "referenced_widgets": [
            "655d643c38d042fa99a867699eb791dc",
            "3cc988d223e84f45bae590333eaf2c69",
            "0d585da8d7524a0394c873af4841cbad",
            "bf2fdd4642fc4069972d0270a744f4da",
            "a62e341f7aa643ba87444e044b477dd3",
            "9ec7ad5d5b2a4c2ea456cdd224cdd932",
            "5cde023db6134f5b87bd639011373510",
            "64fe5f021be14f849c09987c31909fd1"
          ]
        }
      },
      "source": [
        "\n",
        "    \n",
        "trainloader,testloader,classes =dataload(train_transform=album_train(),test_transorm=album_test())\n"
      ],
      "execution_count": 0,
      "outputs": [
        {
          "output_type": "stream",
          "text": [
            "Downloading https://www.cs.toronto.edu/~kriz/cifar-10-python.tar.gz to ./data/cifar-10-python.tar.gz\n"
          ],
          "name": "stdout"
        },
        {
          "output_type": "display_data",
          "data": {
            "application/vnd.jupyter.widget-view+json": {
              "model_id": "655d643c38d042fa99a867699eb791dc",
              "version_minor": 0,
              "version_major": 2
            },
            "text/plain": [
              "HBox(children=(IntProgress(value=1, bar_style='info', max=1), HTML(value='')))"
            ]
          },
          "metadata": {
            "tags": []
          }
        },
        {
          "output_type": "stream",
          "text": [
            "Extracting ./data/cifar-10-python.tar.gz to ./data\n",
            "Files already downloaded and verified\n"
          ],
          "name": "stdout"
        }
      ]
    },
    {
      "cell_type": "markdown",
      "metadata": {
        "id": "_cj433rtpoCn",
        "colab_type": "text"
      },
      "source": [
        "Let us show some of the training images, for fun.\n",
        "\n"
      ]
    },
    {
      "cell_type": "code",
      "metadata": {
        "id": "daA7bADhpoCo",
        "colab_type": "code",
        "outputId": "f77289d3-9151-4fa3-f641-dc7f059c55b0",
        "colab": {
          "base_uri": "https://localhost:8080/",
          "height": 171
        }
      },
      "source": [
        "# get some random training images\n",
        "dataiter = iter(trainloader)\n",
        "images, labels = dataiter.next()\n",
        "\n",
        "# show images\n",
        "imshow(torchvision.utils.make_grid(images[:4],padding=1))\n",
        "# print labels\n",
        "print(' '.join('%5s' % classes[labels[j]] for j in range(4)))\n"
      ],
      "execution_count": 0,
      "outputs": [
        {
          "output_type": "stream",
          "text": [
            "Clipping input data to the valid range for imshow with RGB data ([0..1] for floats or [0..255] for integers).\n"
          ],
          "name": "stderr"
        },
        {
          "output_type": "stream",
          "text": [
            " deer   dog plane   cat\n"
          ],
          "name": "stdout"
        },
        {
          "output_type": "display_data",
          "data": {
            "image/png": "[encoded data removed]",
            "text/plain": [
              "<Figure size 432x288 with 1 Axes>"
            ]
          },
          "metadata": {
            "tags": []
          }
        }
      ]
    },
    {
      "cell_type": "markdown",
      "metadata": {
        "id": "28OpHA_LpoCq",
        "colab_type": "text"
      },
      "source": [
        "2. Define a Convolution Neural Network\n",
        "^^^^^^^^^^^^^^^^^^^^^^^^^^^^^^^^^^^^^^\n",
        "Copy the neural network from the Neural Networks section before and modify it to\n",
        "take 3-channel images (instead of 1-channel images as it was defined).\n",
        "\n"
      ]
    },
    {
      "cell_type": "code",
      "metadata": {
        "id": "RYgdcO85C5ym",
        "colab_type": "code",
        "outputId": "8bde9501-5528-4921-8c09-c3576595f627",
        "colab": {
          "base_uri": "https://localhost:8080/",
          "height": 1000
        }
      },
      "source": [
        "\n",
        "device = which_device()\n",
        "net = resnet.ResNet18().to(device)\n",
        "show_model_summary(net, device, (3,32,32))\n",
        "\n",
        "\n"
      ],
      "execution_count": 0,
      "outputs": [
        {
          "output_type": "stream",
          "text": [
            "----------------------------------------------------------------\n",
            "        Layer (type)               Output Shape         Param #\n",
            "================================================================\n",
            "            Conv2d-1           [-1, 64, 32, 32]           1,728\n",
            "       BatchNorm2d-2           [-1, 64, 32, 32]             128\n",
            "            Conv2d-3           [-1, 64, 32, 32]          36,864\n",
            "       BatchNorm2d-4           [-1, 64, 32, 32]             128\n",
            "            Conv2d-5           [-1, 64, 32, 32]          36,864\n",
            "       BatchNorm2d-6           [-1, 64, 32, 32]             128\n",
            "        BasicBlock-7           [-1, 64, 32, 32]               0\n",
            "            Conv2d-8           [-1, 64, 32, 32]          36,864\n",
            "       BatchNorm2d-9           [-1, 64, 32, 32]             128\n",
            "           Conv2d-10           [-1, 64, 32, 32]          36,864\n",
            "      BatchNorm2d-11           [-1, 64, 32, 32]             128\n",
            "       BasicBlock-12           [-1, 64, 32, 32]               0\n",
            "           Conv2d-13          [-1, 128, 16, 16]          73,728\n",
            "      BatchNorm2d-14          [-1, 128, 16, 16]             256\n",
            "           Conv2d-15          [-1, 128, 16, 16]         147,456\n",
            "      BatchNorm2d-16          [-1, 128, 16, 16]             256\n",
            "           Conv2d-17          [-1, 128, 16, 16]           8,192\n",
            "      BatchNorm2d-18          [-1, 128, 16, 16]             256\n",
            "       BasicBlock-19          [-1, 128, 16, 16]               0\n",
            "           Conv2d-20          [-1, 128, 16, 16]         147,456\n",
            "      BatchNorm2d-21          [-1, 128, 16, 16]             256\n",
            "           Conv2d-22          [-1, 128, 16, 16]         147,456\n",
            "      BatchNorm2d-23          [-1, 128, 16, 16]             256\n",
            "       BasicBlock-24          [-1, 128, 16, 16]               0\n",
            "           Conv2d-25            [-1, 256, 8, 8]         294,912\n",
            "      BatchNorm2d-26            [-1, 256, 8, 8]             512\n",
            "           Conv2d-27            [-1, 256, 8, 8]         589,824\n",
            "      BatchNorm2d-28            [-1, 256, 8, 8]             512\n",
            "           Conv2d-29            [-1, 256, 8, 8]          32,768\n",
            "      BatchNorm2d-30            [-1, 256, 8, 8]             512\n",
            "       BasicBlock-31            [-1, 256, 8, 8]               0\n",
            "           Conv2d-32            [-1, 256, 8, 8]         589,824\n",
            "      BatchNorm2d-33            [-1, 256, 8, 8]             512\n",
            "           Conv2d-34            [-1, 256, 8, 8]         589,824\n",
            "      BatchNorm2d-35            [-1, 256, 8, 8]             512\n",
            "       BasicBlock-36            [-1, 256, 8, 8]               0\n",
            "           Conv2d-37            [-1, 512, 4, 4]       1,179,648\n",
            "      BatchNorm2d-38            [-1, 512, 4, 4]           1,024\n",
            "           Conv2d-39            [-1, 512, 4, 4]       2,359,296\n",
            "      BatchNorm2d-40            [-1, 512, 4, 4]           1,024\n",
            "           Conv2d-41            [-1, 512, 4, 4]         131,072\n",
            "      BatchNorm2d-42            [-1, 512, 4, 4]           1,024\n",
            "       BasicBlock-43            [-1, 512, 4, 4]               0\n",
            "           Conv2d-44            [-1, 512, 4, 4]       2,359,296\n",
            "      BatchNorm2d-45            [-1, 512, 4, 4]           1,024\n",
            "           Conv2d-46            [-1, 512, 4, 4]       2,359,296\n",
            "      BatchNorm2d-47            [-1, 512, 4, 4]           1,024\n",
            "       BasicBlock-48            [-1, 512, 4, 4]               0\n",
            "           Linear-49                   [-1, 10]           5,130\n",
            "================================================================\n",
            "Total params: 11,173,962\n",
            "Trainable params: 11,173,962\n",
            "Non-trainable params: 0\n",
            "----------------------------------------------------------------\n",
            "Input size (MB): 0.01\n",
            "Forward/backward pass size (MB): 11.25\n",
            "Params size (MB): 42.63\n",
            "Estimated Total Size (MB): 53.89\n",
            "----------------------------------------------------------------\n",
            "None\n"
          ],
          "name": "stdout"
        }
      ]
    },
    {
      "cell_type": "markdown",
      "metadata": {
        "id": "O-odOrhdpoC2",
        "colab_type": "text"
      },
      "source": [
        " **Define a Loss function and optimizer** \n",
        "\n",
        "\n",
        "**Training and Testing**\n",
        "\n",
        "\n",
        "\n"
      ]
    },
    {
      "cell_type": "code",
      "metadata": {
        "id": "l79gyuzdjfQ7",
        "colab_type": "code",
        "outputId": "6c6d8f6e-161a-4e5b-e731-49b2a6c70c0f",
        "colab": {
          "base_uri": "https://localhost:8080/",
          "height": 84,
          "referenced_widgets": [
            "08d78a76e4544b0a82cfd960c4d9bca3",
            "b3e7724f92fc46ac8bc77c40d0096e06",
            "6762aa3d89444347bd4f306d0aacf907",
            "f1537955c629497992ee83369c00ac6e",
            "2795f359ff1e4bd8ab07ef32ce0ba153",
            "8692b25bc61948ba9294941bbce39e74",
            "64de32a617544a0293e1ac47660c4c85",
            "d3fb57ecfbb941d3a5c97086fae5e9c4"
          ]
        }
      },
      "source": [
        "import torch.nn as nn\n",
        "from torch.optim import SGD,Adam\n",
        "from torch_lr_finder import LRFinder\n",
        "\n",
        "criterion = nn.CrossEntropyLoss()\n",
        "optimizer=SGD(net.parameters(), lr=0.00001)\n",
        "lr_finder=LRFinder(net,optimizer,criterion,device=\"cuda\")\n",
        "lr_finder.range_test(trainloader,end_lr=1,num_iter=500,step_mode=\"exp\")"
      ],
      "execution_count": 0,
      "outputs": [
        {
          "output_type": "display_data",
          "data": {
            "application/vnd.jupyter.widget-view+json": {
              "model_id": "08d78a76e4544b0a82cfd960c4d9bca3",
              "version_minor": 0,
              "version_major": 2
            },
            "text/plain": [
              "HBox(children=(IntProgress(value=0, max=500), HTML(value='')))"
            ]
          },
          "metadata": {
            "tags": []
          }
        },
        {
          "output_type": "stream",
          "text": [
            "\n",
            "Learning rate search finished. See the graph with {finder_name}.plot()\n"
          ],
          "name": "stdout"
        }
      ]
    },
    {
      "cell_type": "code",
      "metadata": {
        "id": "kJJ8ZCyflIIv",
        "colab_type": "code",
        "outputId": "7b21e4be-3607-4fde-b2ac-e34321724028",
        "colab": {
          "base_uri": "https://localhost:8080/",
          "height": 301
        }
      },
      "source": [
        "lr_finder.plot()"
      ],
      "execution_count": 0,
      "outputs": [
        {
          "output_type": "display_data",
          "data": {
            "image/png": "[encoded data removed]",
            "text/plain": [
              "<Figure size 432x288 with 1 Axes>"
            ]
          },
          "metadata": {
            "tags": []
          }
        },
        {
          "output_type": "execute_result",
          "data": {
            "text/plain": [
              "<matplotlib.axes._subplots.AxesSubplot at 0x7fd8a0380fd0>"
            ]
          },
          "metadata": {
            "tags": []
          },
          "execution_count": 152
        }
      ]
    },
    {
      "cell_type": "code",
      "metadata": {
        "id": "kkuRfo1IpoC3",
        "colab_type": "code",
        "outputId": "b2fe78e8-5d0f-41da-dc6f-884227e779a3",
        "colab": {
          "base_uri": "https://localhost:8080/",
          "height": 1000
        }
      },
      "source": [
        "\n",
        "\n",
        "criterion = nn.CrossEntropyLoss()\n",
        "optimizer = optim.SGD(net.parameters(), lr=0.03, momentum=0.9)\n",
        "scheduler = optim.lr_scheduler.ReduceLROnPlateau(optimizer, patience=10, verbose=True)\n",
        "def run():\n",
        "  train_accs,test_losses,test_accs,pred_wrong_t,true_wrong_t,image_t=([] for i in range(6))\n",
        "  n=50\n",
        "  for epoch in range(n):\n",
        "      print(\"EPOCH:\", epoch+1)\n",
        "      \n",
        "      train(net, device, trainloader, criterion, optimizer, epoch,train_accs)\n",
        "      test((epoch==(n-1)),net, device, testloader, criterion, classes, test_losses, test_accs,pred_wrong_t,true_wrong_t,image_t)\n",
        "      scheduler.step(epoch)\n",
        "  return(train_accs,test_accs,pred_wrong_t,true_wrong_t,image_t)\n",
        " \n",
        "\n",
        "train_accs,test_accs,pred_wrong_t,true_wrong_t,image_t=run()"
      ],
      "execution_count": 0,
      "outputs": [
        {
          "output_type": "stream",
          "text": [
            "\r  0%|          | 0/391 [00:00<?, ?it/s]"
          ],
          "name": "stderr"
        },
        {
          "output_type": "stream",
          "text": [
            "EPOCH: 1\n"
          ],
          "name": "stdout"
        },
        {
          "output_type": "stream",
          "text": [
            "Loss=1.614898443222046 Batch_id=390 Accuracy=37.78: 100%|██████████| 391/391 [00:53<00:00,  7.35it/s]\n",
            "  0%|          | 0/391 [00:00<?, ?it/s]"
          ],
          "name": "stderr"
        },
        {
          "output_type": "stream",
          "text": [
            "Test set: Average loss: 0.0100, Accuracy: 5304/10000 (53.04%)\n",
            "\n",
            "EPOCH: 2\n"
          ],
          "name": "stdout"
        },
        {
          "output_type": "stream",
          "text": [
            "Loss=1.1526892185211182 Batch_id=390 Accuracy=56.92: 100%|██████████| 391/391 [00:54<00:00,  7.22it/s]\n",
            "  0%|          | 0/391 [00:00<?, ?it/s]"
          ],
          "name": "stderr"
        },
        {
          "output_type": "stream",
          "text": [
            "Test set: Average loss: 0.0087, Accuracy: 6081/10000 (60.81%)\n",
            "\n",
            "EPOCH: 3\n"
          ],
          "name": "stdout"
        },
        {
          "output_type": "stream",
          "text": [
            "Loss=1.0374490022659302 Batch_id=390 Accuracy=65.41: 100%|██████████| 391/391 [00:54<00:00,  7.12it/s]\n",
            "  0%|          | 0/391 [00:00<?, ?it/s]"
          ],
          "name": "stderr"
        },
        {
          "output_type": "stream",
          "text": [
            "Test set: Average loss: 0.0072, Accuracy: 6755/10000 (67.55%)\n",
            "\n",
            "EPOCH: 4\n"
          ],
          "name": "stdout"
        },
        {
          "output_type": "stream",
          "text": [
            "Loss=0.6315101981163025 Batch_id=390 Accuracy=70.86: 100%|██████████| 391/391 [00:54<00:00,  7.12it/s]\n",
            "  0%|          | 0/391 [00:00<?, ?it/s]"
          ],
          "name": "stderr"
        },
        {
          "output_type": "stream",
          "text": [
            "Test set: Average loss: 0.0055, Accuracy: 7585/10000 (75.85%)\n",
            "\n",
            "EPOCH: 5\n"
          ],
          "name": "stdout"
        },
        {
          "output_type": "stream",
          "text": [
            "Loss=0.5323065519332886 Batch_id=390 Accuracy=75.35: 100%|██████████| 391/391 [00:55<00:00,  7.10it/s]\n",
            "  0%|          | 0/391 [00:00<?, ?it/s]"
          ],
          "name": "stderr"
        },
        {
          "output_type": "stream",
          "text": [
            "Test set: Average loss: 0.0055, Accuracy: 7522/10000 (75.22%)\n",
            "\n",
            "EPOCH: 6\n"
          ],
          "name": "stdout"
        },
        {
          "output_type": "stream",
          "text": [
            "Loss=0.44599056243896484 Batch_id=390 Accuracy=78.79: 100%|██████████| 391/391 [00:55<00:00,  7.11it/s]\n",
            "  0%|          | 0/391 [00:00<?, ?it/s]"
          ],
          "name": "stderr"
        },
        {
          "output_type": "stream",
          "text": [
            "Test set: Average loss: 0.0048, Accuracy: 7891/10000 (78.91%)\n",
            "\n",
            "EPOCH: 7\n"
          ],
          "name": "stdout"
        },
        {
          "output_type": "stream",
          "text": [
            "Loss=0.6381877660751343 Batch_id=390 Accuracy=81.30: 100%|██████████| 391/391 [00:54<00:00,  7.11it/s]\n",
            "  0%|          | 0/391 [00:00<?, ?it/s]"
          ],
          "name": "stderr"
        },
        {
          "output_type": "stream",
          "text": [
            "Test set: Average loss: 0.0054, Accuracy: 7791/10000 (77.91%)\n",
            "\n",
            "EPOCH: 8\n"
          ],
          "name": "stdout"
        },
        {
          "output_type": "stream",
          "text": [
            "Loss=0.35089871287345886 Batch_id=390 Accuracy=83.37: 100%|██████████| 391/391 [00:55<00:00,  7.10it/s]\n",
            "  0%|          | 0/391 [00:00<?, ?it/s]"
          ],
          "name": "stderr"
        },
        {
          "output_type": "stream",
          "text": [
            "Test set: Average loss: 0.0046, Accuracy: 8074/10000 (80.74%)\n",
            "\n",
            "EPOCH: 9\n"
          ],
          "name": "stdout"
        },
        {
          "output_type": "stream",
          "text": [
            "Loss=0.5074008703231812 Batch_id=390 Accuracy=85.10: 100%|██████████| 391/391 [00:54<00:00,  7.12it/s]\n",
            "  0%|          | 0/391 [00:00<?, ?it/s]"
          ],
          "name": "stderr"
        },
        {
          "output_type": "stream",
          "text": [
            "Test set: Average loss: 0.0043, Accuracy: 8233/10000 (82.33%)\n",
            "\n",
            "EPOCH: 10\n"
          ],
          "name": "stdout"
        },
        {
          "output_type": "stream",
          "text": [
            "Loss=0.35273170471191406 Batch_id=390 Accuracy=86.53: 100%|██████████| 391/391 [00:54<00:00,  7.14it/s]\n",
            "  0%|          | 0/391 [00:00<?, ?it/s]"
          ],
          "name": "stderr"
        },
        {
          "output_type": "stream",
          "text": [
            "Test set: Average loss: 0.0039, Accuracy: 8337/10000 (83.37%)\n",
            "\n",
            "EPOCH: 11\n"
          ],
          "name": "stdout"
        },
        {
          "output_type": "stream",
          "text": [
            "Loss=0.47792404890060425 Batch_id=390 Accuracy=87.68: 100%|██████████| 391/391 [00:55<00:00,  7.08it/s]\n",
            "  0%|          | 0/391 [00:00<?, ?it/s]"
          ],
          "name": "stderr"
        },
        {
          "output_type": "stream",
          "text": [
            "Test set: Average loss: 0.0041, Accuracy: 8345/10000 (83.45%)\n",
            "\n",
            "EPOCH: 12\n"
          ],
          "name": "stdout"
        },
        {
          "output_type": "stream",
          "text": [
            "Loss=0.1943158209323883 Batch_id=390 Accuracy=88.80: 100%|██████████| 391/391 [00:54<00:00,  7.12it/s]\n",
            "  0%|          | 0/391 [00:00<?, ?it/s]"
          ],
          "name": "stderr"
        },
        {
          "output_type": "stream",
          "text": [
            "Test set: Average loss: 0.0042, Accuracy: 8305/10000 (83.05%)\n",
            "\n",
            "Epoch    12: reducing learning rate of group 0 to 3.0000e-03.\n",
            "EPOCH: 13\n"
          ],
          "name": "stdout"
        },
        {
          "output_type": "stream",
          "text": [
            "Loss=0.1940644532442093 Batch_id=390 Accuracy=93.19: 100%|██████████| 391/391 [00:55<00:00,  7.09it/s]\n",
            "  0%|          | 0/391 [00:00<?, ?it/s]"
          ],
          "name": "stderr"
        },
        {
          "output_type": "stream",
          "text": [
            "\n",
            "Accuracy of plane : 92 %\n",
            "Accuracy of   car : 94 %\n",
            "Accuracy of  bird : 77 %\n",
            "Accuracy of   cat : 60 %\n",
            "Accuracy of  deer : 89 %\n",
            "Accuracy of   dog : 78 %\n",
            "Accuracy of  frog : 88 %\n",
            "Accuracy of horse : 96 %\n",
            "Accuracy of  ship : 94 %\n",
            "Accuracy of truck : 91 %\n",
            "\n",
            "Test set: Average loss: 0.0031, Accuracy: 8742/10000 (87.42%)\n",
            "\n",
            "EPOCH: 14\n"
          ],
          "name": "stdout"
        },
        {
          "output_type": "stream",
          "text": [
            "Loss=0.1359783113002777 Batch_id=390 Accuracy=94.34: 100%|██████████| 391/391 [00:54<00:00,  7.12it/s]\n",
            "  0%|          | 0/391 [00:00<?, ?it/s]"
          ],
          "name": "stderr"
        },
        {
          "output_type": "stream",
          "text": [
            "\n",
            "Accuracy of plane : 88 %\n",
            "Accuracy of   car : 100 %\n",
            "Accuracy of  bird : 76 %\n",
            "Accuracy of   cat : 74 %\n",
            "Accuracy of  deer : 85 %\n",
            "Accuracy of   dog : 84 %\n",
            "Accuracy of  frog : 91 %\n",
            "Accuracy of horse : 93 %\n",
            "Accuracy of  ship : 89 %\n",
            "Accuracy of truck : 94 %\n",
            "\n",
            "Test set: Average loss: 0.0031, Accuracy: 8783/10000 (87.83%)\n",
            "\n",
            "EPOCH: 15\n"
          ],
          "name": "stdout"
        },
        {
          "output_type": "stream",
          "text": [
            "Loss=0.11690058559179306 Batch_id=390 Accuracy=94.99: 100%|██████████| 391/391 [00:55<00:00,  7.08it/s]\n",
            "  0%|          | 0/391 [00:00<?, ?it/s]"
          ],
          "name": "stderr"
        },
        {
          "output_type": "stream",
          "text": [
            "\n",
            "Accuracy of plane : 96 %\n",
            "Accuracy of   car : 93 %\n",
            "Accuracy of  bird : 85 %\n",
            "Accuracy of   cat : 70 %\n",
            "Accuracy of  deer : 90 %\n",
            "Accuracy of   dog : 89 %\n",
            "Accuracy of  frog : 100 %\n",
            "Accuracy of horse : 88 %\n",
            "Accuracy of  ship : 91 %\n",
            "Accuracy of truck : 96 %\n",
            "\n",
            "Test set: Average loss: 0.0032, Accuracy: 8772/10000 (87.72%)\n",
            "\n",
            "EPOCH: 16\n"
          ],
          "name": "stdout"
        },
        {
          "output_type": "stream",
          "text": [
            "Loss=0.10261712223291397 Batch_id=390 Accuracy=95.45: 100%|██████████| 391/391 [00:55<00:00,  7.10it/s]\n",
            "  0%|          | 0/391 [00:00<?, ?it/s]"
          ],
          "name": "stderr"
        },
        {
          "output_type": "stream",
          "text": [
            "\n",
            "Accuracy of plane : 80 %\n",
            "Accuracy of   car : 96 %\n",
            "Accuracy of  bird : 90 %\n",
            "Accuracy of   cat : 80 %\n",
            "Accuracy of  deer : 74 %\n",
            "Accuracy of   dog : 77 %\n",
            "Accuracy of  frog : 85 %\n",
            "Accuracy of horse : 90 %\n",
            "Accuracy of  ship : 96 %\n",
            "Accuracy of truck : 90 %\n",
            "\n",
            "Test set: Average loss: 0.0033, Accuracy: 8779/10000 (87.79%)\n",
            "\n",
            "EPOCH: 17\n"
          ],
          "name": "stdout"
        },
        {
          "output_type": "stream",
          "text": [
            "Loss=0.13946913182735443 Batch_id=390 Accuracy=95.73: 100%|██████████| 391/391 [00:54<00:00,  7.13it/s]\n",
            "  0%|          | 0/391 [00:00<?, ?it/s]"
          ],
          "name": "stderr"
        },
        {
          "output_type": "stream",
          "text": [
            "\n",
            "Accuracy of plane : 89 %\n",
            "Accuracy of   car : 96 %\n",
            "Accuracy of  bird : 96 %\n",
            "Accuracy of   cat : 73 %\n",
            "Accuracy of  deer : 91 %\n",
            "Accuracy of   dog : 73 %\n",
            "Accuracy of  frog : 75 %\n",
            "Accuracy of horse : 92 %\n",
            "Accuracy of  ship : 88 %\n",
            "Accuracy of truck : 86 %\n",
            "\n",
            "Test set: Average loss: 0.0033, Accuracy: 8818/10000 (88.18%)\n",
            "\n",
            "EPOCH: 18\n"
          ],
          "name": "stdout"
        },
        {
          "output_type": "stream",
          "text": [
            "Loss=0.2055720090866089 Batch_id=390 Accuracy=96.10: 100%|██████████| 391/391 [00:54<00:00,  7.13it/s]\n",
            "  0%|          | 0/391 [00:00<?, ?it/s]"
          ],
          "name": "stderr"
        },
        {
          "output_type": "stream",
          "text": [
            "\n",
            "Accuracy of plane : 91 %\n",
            "Accuracy of   car : 96 %\n",
            "Accuracy of  bird : 75 %\n",
            "Accuracy of   cat : 73 %\n",
            "Accuracy of  deer : 85 %\n",
            "Accuracy of   dog : 88 %\n",
            "Accuracy of  frog : 90 %\n",
            "Accuracy of horse : 91 %\n",
            "Accuracy of  ship : 90 %\n",
            "Accuracy of truck : 97 %\n",
            "\n",
            "Test set: Average loss: 0.0035, Accuracy: 8777/10000 (87.77%)\n",
            "\n",
            "EPOCH: 19\n"
          ],
          "name": "stdout"
        },
        {
          "output_type": "stream",
          "text": [
            "Loss=0.13125211000442505 Batch_id=390 Accuracy=96.38: 100%|██████████| 391/391 [00:55<00:00,  7.10it/s]\n",
            "  0%|          | 0/391 [00:00<?, ?it/s]"
          ],
          "name": "stderr"
        },
        {
          "output_type": "stream",
          "text": [
            "\n",
            "Accuracy of plane : 92 %\n",
            "Accuracy of   car : 93 %\n",
            "Accuracy of  bird : 75 %\n",
            "Accuracy of   cat : 78 %\n",
            "Accuracy of  deer : 82 %\n",
            "Accuracy of   dog : 72 %\n",
            "Accuracy of  frog : 100 %\n",
            "Accuracy of horse : 83 %\n",
            "Accuracy of  ship : 93 %\n",
            "Accuracy of truck : 93 %\n",
            "\n",
            "Test set: Average loss: 0.0034, Accuracy: 8796/10000 (87.96%)\n",
            "\n",
            "EPOCH: 20\n"
          ],
          "name": "stdout"
        },
        {
          "output_type": "stream",
          "text": [
            "Loss=0.12979908287525177 Batch_id=390 Accuracy=96.71: 100%|██████████| 391/391 [00:55<00:00,  7.08it/s]\n",
            "  0%|          | 0/391 [00:00<?, ?it/s]"
          ],
          "name": "stderr"
        },
        {
          "output_type": "stream",
          "text": [
            "\n",
            "Accuracy of plane : 88 %\n",
            "Accuracy of   car : 92 %\n",
            "Accuracy of  bird : 82 %\n",
            "Accuracy of   cat : 89 %\n",
            "Accuracy of  deer : 87 %\n",
            "Accuracy of   dog : 89 %\n",
            "Accuracy of  frog : 97 %\n",
            "Accuracy of horse : 91 %\n",
            "Accuracy of  ship : 96 %\n",
            "Accuracy of truck : 100 %\n",
            "\n",
            "Test set: Average loss: 0.0034, Accuracy: 8805/10000 (88.05%)\n",
            "\n",
            "EPOCH: 21\n"
          ],
          "name": "stdout"
        },
        {
          "output_type": "stream",
          "text": [
            "Loss=0.16986918449401855 Batch_id=390 Accuracy=96.80: 100%|██████████| 391/391 [00:55<00:00,  7.08it/s]\n",
            "  0%|          | 0/391 [00:00<?, ?it/s]"
          ],
          "name": "stderr"
        },
        {
          "output_type": "stream",
          "text": [
            "\n",
            "Accuracy of plane : 96 %\n",
            "Accuracy of   car : 91 %\n",
            "Accuracy of  bird : 83 %\n",
            "Accuracy of   cat : 72 %\n",
            "Accuracy of  deer : 100 %\n",
            "Accuracy of   dog : 81 %\n",
            "Accuracy of  frog : 91 %\n",
            "Accuracy of horse : 85 %\n",
            "Accuracy of  ship : 90 %\n",
            "Accuracy of truck : 87 %\n",
            "\n",
            "Test set: Average loss: 0.0035, Accuracy: 8800/10000 (88.00%)\n",
            "\n",
            "EPOCH: 22\n"
          ],
          "name": "stdout"
        },
        {
          "output_type": "stream",
          "text": [
            "Loss=0.048717908561229706 Batch_id=390 Accuracy=97.10: 100%|██████████| 391/391 [00:54<00:00,  7.13it/s]\n",
            "  0%|          | 0/391 [00:00<?, ?it/s]"
          ],
          "name": "stderr"
        },
        {
          "output_type": "stream",
          "text": [
            "\n",
            "Accuracy of plane : 80 %\n",
            "Accuracy of   car : 92 %\n",
            "Accuracy of  bird : 84 %\n",
            "Accuracy of   cat : 77 %\n",
            "Accuracy of  deer : 88 %\n",
            "Accuracy of   dog : 81 %\n",
            "Accuracy of  frog : 90 %\n",
            "Accuracy of horse : 96 %\n",
            "Accuracy of  ship : 96 %\n",
            "Accuracy of truck : 96 %\n",
            "\n",
            "Test set: Average loss: 0.0035, Accuracy: 8799/10000 (87.99%)\n",
            "\n",
            "EPOCH: 23\n"
          ],
          "name": "stdout"
        },
        {
          "output_type": "stream",
          "text": [
            "Loss=0.0996563732624054 Batch_id=390 Accuracy=97.35: 100%|██████████| 391/391 [00:54<00:00,  7.16it/s]\n",
            "  0%|          | 0/391 [00:00<?, ?it/s]"
          ],
          "name": "stderr"
        },
        {
          "output_type": "stream",
          "text": [
            "\n",
            "Accuracy of plane : 84 %\n",
            "Accuracy of   car : 92 %\n",
            "Accuracy of  bird : 90 %\n",
            "Accuracy of   cat : 66 %\n",
            "Accuracy of  deer : 87 %\n",
            "Accuracy of   dog : 75 %\n",
            "Accuracy of  frog : 83 %\n",
            "Accuracy of horse : 90 %\n",
            "Accuracy of  ship : 93 %\n",
            "Accuracy of truck : 93 %\n",
            "\n",
            "Test set: Average loss: 0.0036, Accuracy: 8796/10000 (87.96%)\n",
            "\n",
            "Epoch    23: reducing learning rate of group 0 to 3.0000e-04.\n",
            "EPOCH: 24\n"
          ],
          "name": "stdout"
        },
        {
          "output_type": "stream",
          "text": [
            "Loss=0.06421731412410736 Batch_id=390 Accuracy=97.73: 100%|██████████| 391/391 [00:55<00:00,  7.09it/s]\n",
            "  0%|          | 0/391 [00:00<?, ?it/s]"
          ],
          "name": "stderr"
        },
        {
          "output_type": "stream",
          "text": [
            "\n",
            "Accuracy of plane : 96 %\n",
            "Accuracy of   car : 90 %\n",
            "Accuracy of  bird : 76 %\n",
            "Accuracy of   cat : 61 %\n",
            "Accuracy of  deer : 75 %\n",
            "Accuracy of   dog : 78 %\n",
            "Accuracy of  frog : 97 %\n",
            "Accuracy of horse : 87 %\n",
            "Accuracy of  ship : 92 %\n",
            "Accuracy of truck : 100 %\n",
            "\n",
            "Test set: Average loss: 0.0036, Accuracy: 8819/10000 (88.19%)\n",
            "\n",
            "EPOCH: 25\n"
          ],
          "name": "stdout"
        },
        {
          "output_type": "stream",
          "text": [
            "Loss=0.038125403225421906 Batch_id=390 Accuracy=97.79: 100%|██████████| 391/391 [00:55<00:00,  7.10it/s]\n",
            "  0%|          | 0/391 [00:00<?, ?it/s]"
          ],
          "name": "stderr"
        },
        {
          "output_type": "stream",
          "text": [
            "\n",
            "Accuracy of plane : 86 %\n",
            "Accuracy of   car : 96 %\n",
            "Accuracy of  bird : 82 %\n",
            "Accuracy of   cat : 68 %\n",
            "Accuracy of  deer : 85 %\n",
            "Accuracy of   dog : 74 %\n",
            "Accuracy of  frog : 84 %\n",
            "Accuracy of horse : 100 %\n",
            "Accuracy of  ship : 100 %\n",
            "Accuracy of truck : 88 %\n",
            "\n",
            "Test set: Average loss: 0.0035, Accuracy: 8816/10000 (88.16%)\n",
            "\n",
            "EPOCH: 26\n"
          ],
          "name": "stdout"
        },
        {
          "output_type": "stream",
          "text": [
            "Loss=0.03287797048687935 Batch_id=390 Accuracy=97.82: 100%|██████████| 391/391 [00:55<00:00,  7.10it/s]\n",
            "  0%|          | 0/391 [00:00<?, ?it/s]"
          ],
          "name": "stderr"
        },
        {
          "output_type": "stream",
          "text": [
            "\n",
            "Accuracy of plane : 88 %\n",
            "Accuracy of   car : 97 %\n",
            "Accuracy of  bird : 86 %\n",
            "Accuracy of   cat : 79 %\n",
            "Accuracy of  deer : 84 %\n",
            "Accuracy of   dog : 70 %\n",
            "Accuracy of  frog : 91 %\n",
            "Accuracy of horse : 87 %\n",
            "Accuracy of  ship : 91 %\n",
            "Accuracy of truck : 90 %\n",
            "\n",
            "Test set: Average loss: 0.0035, Accuracy: 8825/10000 (88.25%)\n",
            "\n",
            "EPOCH: 27\n"
          ],
          "name": "stdout"
        },
        {
          "output_type": "stream",
          "text": [
            "Loss=0.06331957131624222 Batch_id=390 Accuracy=97.81: 100%|██████████| 391/391 [00:54<00:00,  7.11it/s]\n",
            "  0%|          | 0/391 [00:00<?, ?it/s]"
          ],
          "name": "stderr"
        },
        {
          "output_type": "stream",
          "text": [
            "\n",
            "Accuracy of plane : 91 %\n",
            "Accuracy of   car : 82 %\n",
            "Accuracy of  bird : 76 %\n",
            "Accuracy of   cat : 71 %\n",
            "Accuracy of  deer : 80 %\n",
            "Accuracy of   dog : 85 %\n",
            "Accuracy of  frog : 82 %\n",
            "Accuracy of horse : 100 %\n",
            "Accuracy of  ship : 96 %\n",
            "Accuracy of truck : 95 %\n",
            "\n",
            "Test set: Average loss: 0.0035, Accuracy: 8821/10000 (88.21%)\n",
            "\n",
            "EPOCH: 28\n"
          ],
          "name": "stdout"
        },
        {
          "output_type": "stream",
          "text": [
            "Loss=0.029761213809251785 Batch_id=390 Accuracy=97.99: 100%|██████████| 391/391 [00:54<00:00,  7.14it/s]\n",
            "  0%|          | 0/391 [00:00<?, ?it/s]"
          ],
          "name": "stderr"
        },
        {
          "output_type": "stream",
          "text": [
            "\n",
            "Accuracy of plane : 85 %\n",
            "Accuracy of   car : 90 %\n",
            "Accuracy of  bird : 89 %\n",
            "Accuracy of   cat : 72 %\n",
            "Accuracy of  deer : 92 %\n",
            "Accuracy of   dog : 85 %\n",
            "Accuracy of  frog : 93 %\n",
            "Accuracy of horse : 95 %\n",
            "Accuracy of  ship : 100 %\n",
            "Accuracy of truck : 96 %\n",
            "\n",
            "Test set: Average loss: 0.0035, Accuracy: 8818/10000 (88.18%)\n",
            "\n",
            "EPOCH: 29\n"
          ],
          "name": "stdout"
        },
        {
          "output_type": "stream",
          "text": [
            "Loss=0.03331546112895012 Batch_id=390 Accuracy=97.84: 100%|██████████| 391/391 [00:55<00:00,  7.09it/s]\n",
            "  0%|          | 0/391 [00:00<?, ?it/s]"
          ],
          "name": "stderr"
        },
        {
          "output_type": "stream",
          "text": [
            "\n",
            "Accuracy of plane : 97 %\n",
            "Accuracy of   car : 97 %\n",
            "Accuracy of  bird : 85 %\n",
            "Accuracy of   cat : 66 %\n",
            "Accuracy of  deer : 85 %\n",
            "Accuracy of   dog : 82 %\n",
            "Accuracy of  frog : 92 %\n",
            "Accuracy of horse : 93 %\n",
            "Accuracy of  ship : 96 %\n",
            "Accuracy of truck : 94 %\n",
            "\n",
            "Test set: Average loss: 0.0036, Accuracy: 8828/10000 (88.28%)\n",
            "\n",
            "EPOCH: 30\n"
          ],
          "name": "stdout"
        },
        {
          "output_type": "stream",
          "text": [
            "Loss=0.023824775591492653 Batch_id=390 Accuracy=97.97: 100%|██████████| 391/391 [00:54<00:00,  7.12it/s]\n",
            "  0%|          | 0/391 [00:00<?, ?it/s]"
          ],
          "name": "stderr"
        },
        {
          "output_type": "stream",
          "text": [
            "\n",
            "Accuracy of plane : 92 %\n",
            "Accuracy of   car : 96 %\n",
            "Accuracy of  bird : 80 %\n",
            "Accuracy of   cat : 63 %\n",
            "Accuracy of  deer : 77 %\n",
            "Accuracy of   dog : 84 %\n",
            "Accuracy of  frog : 83 %\n",
            "Accuracy of horse : 83 %\n",
            "Accuracy of  ship : 97 %\n",
            "Accuracy of truck : 91 %\n",
            "\n",
            "Test set: Average loss: 0.0035, Accuracy: 8833/10000 (88.33%)\n",
            "\n",
            "EPOCH: 31\n"
          ],
          "name": "stdout"
        },
        {
          "output_type": "stream",
          "text": [
            "Loss=0.06794016063213348 Batch_id=390 Accuracy=98.03: 100%|██████████| 391/391 [00:54<00:00,  7.15it/s]\n",
            "  0%|          | 0/391 [00:00<?, ?it/s]"
          ],
          "name": "stderr"
        },
        {
          "output_type": "stream",
          "text": [
            "\n",
            "Accuracy of plane : 90 %\n",
            "Accuracy of   car : 100 %\n",
            "Accuracy of  bird : 91 %\n",
            "Accuracy of   cat : 82 %\n",
            "Accuracy of  deer : 92 %\n",
            "Accuracy of   dog : 90 %\n",
            "Accuracy of  frog : 90 %\n",
            "Accuracy of horse : 100 %\n",
            "Accuracy of  ship : 93 %\n",
            "Accuracy of truck : 94 %\n",
            "\n",
            "Test set: Average loss: 0.0035, Accuracy: 8846/10000 (88.46%)\n",
            "\n",
            "EPOCH: 32\n"
          ],
          "name": "stdout"
        },
        {
          "output_type": "stream",
          "text": [
            "Loss=0.06997712701559067 Batch_id=390 Accuracy=97.95: 100%|██████████| 391/391 [00:55<00:00,  7.05it/s]\n",
            "  0%|          | 0/391 [00:00<?, ?it/s]"
          ],
          "name": "stderr"
        },
        {
          "output_type": "stream",
          "text": [
            "\n",
            "Accuracy of plane : 88 %\n",
            "Accuracy of   car : 97 %\n",
            "Accuracy of  bird : 72 %\n",
            "Accuracy of   cat : 74 %\n",
            "Accuracy of  deer : 84 %\n",
            "Accuracy of   dog : 86 %\n",
            "Accuracy of  frog : 90 %\n",
            "Accuracy of horse : 100 %\n",
            "Accuracy of  ship : 91 %\n",
            "Accuracy of truck : 95 %\n",
            "\n",
            "Test set: Average loss: 0.0035, Accuracy: 8834/10000 (88.34%)\n",
            "\n",
            "EPOCH: 33\n"
          ],
          "name": "stdout"
        },
        {
          "output_type": "stream",
          "text": [
            "Loss=0.1017017737030983 Batch_id=390 Accuracy=98.00: 100%|██████████| 391/391 [00:55<00:00,  7.07it/s]\n",
            "  0%|          | 0/391 [00:00<?, ?it/s]"
          ],
          "name": "stderr"
        },
        {
          "output_type": "stream",
          "text": [
            "\n",
            "Accuracy of plane : 80 %\n",
            "Accuracy of   car : 92 %\n",
            "Accuracy of  bird : 82 %\n",
            "Accuracy of   cat : 82 %\n",
            "Accuracy of  deer : 94 %\n",
            "Accuracy of   dog : 79 %\n",
            "Accuracy of  frog : 92 %\n",
            "Accuracy of horse : 90 %\n",
            "Accuracy of  ship : 94 %\n",
            "Accuracy of truck : 96 %\n",
            "\n",
            "Test set: Average loss: 0.0035, Accuracy: 8833/10000 (88.33%)\n",
            "\n",
            "EPOCH: 34\n"
          ],
          "name": "stdout"
        },
        {
          "output_type": "stream",
          "text": [
            "Loss=0.11555067449808121 Batch_id=390 Accuracy=97.92: 100%|██████████| 391/391 [00:55<00:00,  7.09it/s]\n",
            "  0%|          | 0/391 [00:00<?, ?it/s]"
          ],
          "name": "stderr"
        },
        {
          "output_type": "stream",
          "text": [
            "\n",
            "Accuracy of plane : 96 %\n",
            "Accuracy of   car : 96 %\n",
            "Accuracy of  bird : 86 %\n",
            "Accuracy of   cat : 74 %\n",
            "Accuracy of  deer : 85 %\n",
            "Accuracy of   dog : 90 %\n",
            "Accuracy of  frog : 85 %\n",
            "Accuracy of horse : 95 %\n",
            "Accuracy of  ship : 90 %\n",
            "Accuracy of truck : 100 %\n",
            "\n",
            "Test set: Average loss: 0.0035, Accuracy: 8824/10000 (88.24%)\n",
            "\n",
            "Epoch    34: reducing learning rate of group 0 to 3.0000e-05.\n",
            "EPOCH: 35\n"
          ],
          "name": "stdout"
        },
        {
          "output_type": "stream",
          "text": [
            "Loss=0.06355157494544983 Batch_id=390 Accuracy=98.04: 100%|██████████| 391/391 [00:54<00:00,  7.16it/s]\n",
            "  0%|          | 0/391 [00:00<?, ?it/s]"
          ],
          "name": "stderr"
        },
        {
          "output_type": "stream",
          "text": [
            "\n",
            "Accuracy of plane : 89 %\n",
            "Accuracy of   car : 89 %\n",
            "Accuracy of  bird : 77 %\n",
            "Accuracy of   cat : 88 %\n",
            "Accuracy of  deer : 80 %\n",
            "Accuracy of   dog : 86 %\n",
            "Accuracy of  frog : 95 %\n",
            "Accuracy of horse : 92 %\n",
            "Accuracy of  ship : 88 %\n",
            "Accuracy of truck : 97 %\n",
            "\n",
            "Test set: Average loss: 0.0035, Accuracy: 8838/10000 (88.38%)\n",
            "\n",
            "EPOCH: 36\n"
          ],
          "name": "stdout"
        },
        {
          "output_type": "stream",
          "text": [
            "Loss=0.014465129002928734 Batch_id=390 Accuracy=98.22: 100%|██████████| 391/391 [00:55<00:00,  7.06it/s]\n",
            "  0%|          | 0/391 [00:00<?, ?it/s]"
          ],
          "name": "stderr"
        },
        {
          "output_type": "stream",
          "text": [
            "\n",
            "Accuracy of plane : 88 %\n",
            "Accuracy of   car : 95 %\n",
            "Accuracy of  bird : 85 %\n",
            "Accuracy of   cat : 62 %\n",
            "Accuracy of  deer : 92 %\n",
            "Accuracy of   dog : 76 %\n",
            "Accuracy of  frog : 89 %\n",
            "Accuracy of horse : 100 %\n",
            "Accuracy of  ship : 100 %\n",
            "Accuracy of truck : 97 %\n",
            "\n",
            "Test set: Average loss: 0.0035, Accuracy: 8832/10000 (88.32%)\n",
            "\n",
            "EPOCH: 37\n"
          ],
          "name": "stdout"
        },
        {
          "output_type": "stream",
          "text": [
            "Loss=0.060312945395708084 Batch_id=390 Accuracy=98.02: 100%|██████████| 391/391 [00:55<00:00,  7.08it/s]\n",
            "  0%|          | 0/391 [00:00<?, ?it/s]"
          ],
          "name": "stderr"
        },
        {
          "output_type": "stream",
          "text": [
            "\n",
            "Accuracy of plane : 93 %\n",
            "Accuracy of   car : 100 %\n",
            "Accuracy of  bird : 88 %\n",
            "Accuracy of   cat : 90 %\n",
            "Accuracy of  deer : 86 %\n",
            "Accuracy of   dog : 86 %\n",
            "Accuracy of  frog : 85 %\n",
            "Accuracy of horse : 97 %\n",
            "Accuracy of  ship : 90 %\n",
            "Accuracy of truck : 100 %\n",
            "\n",
            "Test set: Average loss: 0.0035, Accuracy: 8828/10000 (88.28%)\n",
            "\n",
            "EPOCH: 38\n"
          ],
          "name": "stdout"
        },
        {
          "output_type": "stream",
          "text": [
            "Loss=0.06257744133472443 Batch_id=390 Accuracy=98.12: 100%|██████████| 391/391 [00:55<00:00,  7.09it/s]\n",
            "  0%|          | 0/391 [00:00<?, ?it/s]"
          ],
          "name": "stderr"
        },
        {
          "output_type": "stream",
          "text": [
            "\n",
            "Accuracy of plane : 93 %\n",
            "Accuracy of   car : 93 %\n",
            "Accuracy of  bird : 88 %\n",
            "Accuracy of   cat : 69 %\n",
            "Accuracy of  deer : 94 %\n",
            "Accuracy of   dog : 75 %\n",
            "Accuracy of  frog : 100 %\n",
            "Accuracy of horse : 96 %\n",
            "Accuracy of  ship : 96 %\n",
            "Accuracy of truck : 87 %\n",
            "\n",
            "Test set: Average loss: 0.0035, Accuracy: 8837/10000 (88.37%)\n",
            "\n",
            "EPOCH: 39\n"
          ],
          "name": "stdout"
        },
        {
          "output_type": "stream",
          "text": [
            "Loss=0.029447834938764572 Batch_id=390 Accuracy=98.02: 100%|██████████| 391/391 [00:54<00:00,  7.12it/s]\n",
            "  0%|          | 0/391 [00:00<?, ?it/s]"
          ],
          "name": "stderr"
        },
        {
          "output_type": "stream",
          "text": [
            "\n",
            "Accuracy of plane : 93 %\n",
            "Accuracy of   car : 90 %\n",
            "Accuracy of  bird : 90 %\n",
            "Accuracy of   cat : 80 %\n",
            "Accuracy of  deer : 90 %\n",
            "Accuracy of   dog : 82 %\n",
            "Accuracy of  frog : 83 %\n",
            "Accuracy of horse : 87 %\n",
            "Accuracy of  ship : 94 %\n",
            "Accuracy of truck : 86 %\n",
            "\n",
            "Test set: Average loss: 0.0035, Accuracy: 8835/10000 (88.35%)\n",
            "\n",
            "EPOCH: 40\n"
          ],
          "name": "stdout"
        },
        {
          "output_type": "stream",
          "text": [
            "Loss=0.020150303840637207 Batch_id=390 Accuracy=98.08: 100%|██████████| 391/391 [00:55<00:00,  7.10it/s]\n",
            "  0%|          | 0/391 [00:00<?, ?it/s]"
          ],
          "name": "stderr"
        },
        {
          "output_type": "stream",
          "text": [
            "\n",
            "Accuracy of plane : 82 %\n",
            "Accuracy of   car : 89 %\n",
            "Accuracy of  bird : 78 %\n",
            "Accuracy of   cat : 58 %\n",
            "Accuracy of  deer : 93 %\n",
            "Accuracy of   dog : 73 %\n",
            "Accuracy of  frog : 93 %\n",
            "Accuracy of horse : 96 %\n",
            "Accuracy of  ship : 95 %\n",
            "Accuracy of truck : 94 %\n",
            "\n",
            "Test set: Average loss: 0.0035, Accuracy: 8832/10000 (88.32%)\n",
            "\n",
            "EPOCH: 41\n"
          ],
          "name": "stdout"
        },
        {
          "output_type": "stream",
          "text": [
            "Loss=0.06724394857883453 Batch_id=390 Accuracy=98.06: 100%|██████████| 391/391 [00:55<00:00,  7.11it/s]\n",
            "  0%|          | 0/391 [00:00<?, ?it/s]"
          ],
          "name": "stderr"
        },
        {
          "output_type": "stream",
          "text": [
            "\n",
            "Accuracy of plane : 83 %\n",
            "Accuracy of   car : 93 %\n",
            "Accuracy of  bird : 83 %\n",
            "Accuracy of   cat : 80 %\n",
            "Accuracy of  deer : 80 %\n",
            "Accuracy of   dog : 84 %\n",
            "Accuracy of  frog : 100 %\n",
            "Accuracy of horse : 100 %\n",
            "Accuracy of  ship : 96 %\n",
            "Accuracy of truck : 95 %\n",
            "\n",
            "Test set: Average loss: 0.0035, Accuracy: 8828/10000 (88.28%)\n",
            "\n",
            "EPOCH: 42\n"
          ],
          "name": "stdout"
        },
        {
          "output_type": "stream",
          "text": [
            "Loss=0.05969129130244255 Batch_id=390 Accuracy=98.18: 100%|██████████| 391/391 [00:55<00:00,  7.09it/s]\n",
            "  0%|          | 0/391 [00:00<?, ?it/s]"
          ],
          "name": "stderr"
        },
        {
          "output_type": "stream",
          "text": [
            "\n",
            "Accuracy of plane : 87 %\n",
            "Accuracy of   car : 96 %\n",
            "Accuracy of  bird : 83 %\n",
            "Accuracy of   cat : 77 %\n",
            "Accuracy of  deer : 93 %\n",
            "Accuracy of   dog : 72 %\n",
            "Accuracy of  frog : 97 %\n",
            "Accuracy of horse : 90 %\n",
            "Accuracy of  ship : 95 %\n",
            "Accuracy of truck : 93 %\n",
            "\n",
            "Test set: Average loss: 0.0035, Accuracy: 8832/10000 (88.32%)\n",
            "\n",
            "EPOCH: 43\n"
          ],
          "name": "stdout"
        },
        {
          "output_type": "stream",
          "text": [
            "Loss=0.10948560386896133 Batch_id=390 Accuracy=98.00: 100%|██████████| 391/391 [00:55<00:00,  7.11it/s]\n",
            "  0%|          | 0/391 [00:00<?, ?it/s]"
          ],
          "name": "stderr"
        },
        {
          "output_type": "stream",
          "text": [
            "\n",
            "Accuracy of plane : 97 %\n",
            "Accuracy of   car : 97 %\n",
            "Accuracy of  bird : 88 %\n",
            "Accuracy of   cat : 85 %\n",
            "Accuracy of  deer : 90 %\n",
            "Accuracy of   dog : 73 %\n",
            "Accuracy of  frog : 93 %\n",
            "Accuracy of horse : 93 %\n",
            "Accuracy of  ship : 85 %\n",
            "Accuracy of truck : 88 %\n",
            "\n",
            "Test set: Average loss: 0.0037, Accuracy: 8835/10000 (88.35%)\n",
            "\n",
            "EPOCH: 44\n"
          ],
          "name": "stdout"
        },
        {
          "output_type": "stream",
          "text": [
            "Loss=0.06367960572242737 Batch_id=390 Accuracy=98.07: 100%|██████████| 391/391 [00:55<00:00,  7.09it/s]\n",
            "  0%|          | 0/391 [00:00<?, ?it/s]"
          ],
          "name": "stderr"
        },
        {
          "output_type": "stream",
          "text": [
            "\n",
            "Accuracy of plane : 91 %\n",
            "Accuracy of   car : 100 %\n",
            "Accuracy of  bird : 87 %\n",
            "Accuracy of   cat : 70 %\n",
            "Accuracy of  deer : 93 %\n",
            "Accuracy of   dog : 76 %\n",
            "Accuracy of  frog : 85 %\n",
            "Accuracy of horse : 96 %\n",
            "Accuracy of  ship : 92 %\n",
            "Accuracy of truck : 91 %\n",
            "\n",
            "Test set: Average loss: 0.0035, Accuracy: 8831/10000 (88.31%)\n",
            "\n",
            "EPOCH: 45\n"
          ],
          "name": "stdout"
        },
        {
          "output_type": "stream",
          "text": [
            "Loss=0.07176528871059418 Batch_id=390 Accuracy=98.06: 100%|██████████| 391/391 [00:54<00:00,  7.12it/s]\n",
            "  0%|          | 0/391 [00:00<?, ?it/s]"
          ],
          "name": "stderr"
        },
        {
          "output_type": "stream",
          "text": [
            "\n",
            "Accuracy of plane : 91 %\n",
            "Accuracy of   car : 96 %\n",
            "Accuracy of  bird : 83 %\n",
            "Accuracy of   cat : 77 %\n",
            "Accuracy of  deer : 93 %\n",
            "Accuracy of   dog : 77 %\n",
            "Accuracy of  frog : 92 %\n",
            "Accuracy of horse : 93 %\n",
            "Accuracy of  ship : 96 %\n",
            "Accuracy of truck : 94 %\n",
            "\n",
            "Test set: Average loss: 0.0035, Accuracy: 8821/10000 (88.21%)\n",
            "\n",
            "Epoch    45: reducing learning rate of group 0 to 3.0000e-06.\n",
            "EPOCH: 46\n"
          ],
          "name": "stdout"
        },
        {
          "output_type": "stream",
          "text": [
            "Loss=0.06054260581731796 Batch_id=390 Accuracy=98.15: 100%|██████████| 391/391 [00:55<00:00,  7.11it/s]\n",
            "  0%|          | 0/391 [00:00<?, ?it/s]"
          ],
          "name": "stderr"
        },
        {
          "output_type": "stream",
          "text": [
            "\n",
            "Accuracy of plane : 97 %\n",
            "Accuracy of   car : 82 %\n",
            "Accuracy of  bird : 86 %\n",
            "Accuracy of   cat : 86 %\n",
            "Accuracy of  deer : 87 %\n",
            "Accuracy of   dog : 87 %\n",
            "Accuracy of  frog : 89 %\n",
            "Accuracy of horse : 88 %\n",
            "Accuracy of  ship : 92 %\n",
            "Accuracy of truck : 100 %\n",
            "\n",
            "Test set: Average loss: 0.0036, Accuracy: 8830/10000 (88.30%)\n",
            "\n",
            "EPOCH: 47\n"
          ],
          "name": "stdout"
        },
        {
          "output_type": "stream",
          "text": [
            "Loss=0.0328463539481163 Batch_id=390 Accuracy=98.15: 100%|██████████| 391/391 [00:55<00:00,  7.08it/s]\n",
            "  0%|          | 0/391 [00:00<?, ?it/s]"
          ],
          "name": "stderr"
        },
        {
          "output_type": "stream",
          "text": [
            "\n",
            "Accuracy of plane : 87 %\n",
            "Accuracy of   car : 97 %\n",
            "Accuracy of  bird : 88 %\n",
            "Accuracy of   cat : 76 %\n",
            "Accuracy of  deer : 96 %\n",
            "Accuracy of   dog : 81 %\n",
            "Accuracy of  frog : 90 %\n",
            "Accuracy of horse : 92 %\n",
            "Accuracy of  ship : 94 %\n",
            "Accuracy of truck : 96 %\n",
            "\n",
            "Test set: Average loss: 0.0035, Accuracy: 8831/10000 (88.31%)\n",
            "\n",
            "EPOCH: 48\n"
          ],
          "name": "stdout"
        },
        {
          "output_type": "stream",
          "text": [
            "Loss=0.07030738890171051 Batch_id=390 Accuracy=98.09: 100%|██████████| 391/391 [00:55<00:00,  7.10it/s]\n",
            "  0%|          | 0/391 [00:00<?, ?it/s]"
          ],
          "name": "stderr"
        },
        {
          "output_type": "stream",
          "text": [
            "\n",
            "Accuracy of plane : 97 %\n",
            "Accuracy of   car : 94 %\n",
            "Accuracy of  bird : 97 %\n",
            "Accuracy of   cat : 77 %\n",
            "Accuracy of  deer : 93 %\n",
            "Accuracy of   dog : 92 %\n",
            "Accuracy of  frog : 92 %\n",
            "Accuracy of horse : 86 %\n",
            "Accuracy of  ship : 100 %\n",
            "Accuracy of truck : 97 %\n",
            "\n",
            "Test set: Average loss: 0.0036, Accuracy: 8835/10000 (88.35%)\n",
            "\n",
            "EPOCH: 49\n"
          ],
          "name": "stdout"
        },
        {
          "output_type": "stream",
          "text": [
            "Loss=0.07645706087350845 Batch_id=390 Accuracy=98.14: 100%|██████████| 391/391 [00:55<00:00,  7.08it/s]\n",
            "  0%|          | 0/391 [00:00<?, ?it/s]"
          ],
          "name": "stderr"
        },
        {
          "output_type": "stream",
          "text": [
            "\n",
            "Accuracy of plane : 100 %\n",
            "Accuracy of   car : 96 %\n",
            "Accuracy of  bird : 93 %\n",
            "Accuracy of   cat : 75 %\n",
            "Accuracy of  deer : 80 %\n",
            "Accuracy of   dog : 85 %\n",
            "Accuracy of  frog : 91 %\n",
            "Accuracy of horse : 88 %\n",
            "Accuracy of  ship : 96 %\n",
            "Accuracy of truck : 90 %\n",
            "\n",
            "Test set: Average loss: 0.0036, Accuracy: 8825/10000 (88.25%)\n",
            "\n",
            "EPOCH: 50\n"
          ],
          "name": "stdout"
        },
        {
          "output_type": "stream",
          "text": [
            "Loss=0.06372511386871338 Batch_id=390 Accuracy=98.18: 100%|██████████| 391/391 [00:54<00:00,  7.12it/s]\n"
          ],
          "name": "stderr"
        },
        {
          "output_type": "stream",
          "text": [
            "\n",
            "Accuracy of plane : 92 %\n",
            "Accuracy of   car : 91 %\n",
            "Accuracy of  bird : 86 %\n",
            "Accuracy of   cat : 65 %\n",
            "Accuracy of  deer : 90 %\n",
            "Accuracy of   dog : 77 %\n",
            "Accuracy of  frog : 92 %\n",
            "Accuracy of horse : 96 %\n",
            "Accuracy of  ship : 91 %\n",
            "Accuracy of truck : 86 %\n",
            "\n",
            "Test set: Average loss: 0.0035, Accuracy: 8833/10000 (88.33%)\n",
            "\n"
          ],
          "name": "stdout"
        }
      ]
    },
    {
      "cell_type": "code",
      "metadata": {
        "id": "TbUcL1th1ma9",
        "colab_type": "code",
        "outputId": "c6bbed8e-8c2f-4532-dee3-34c0c1a857a2",
        "colab": {
          "base_uri": "https://localhost:8080/",
          "height": 55
        }
      },
      "source": [
        "'''\n",
        "from google.colab import files\n",
        "figure = plt.figure(figsize=(10, 10))\n",
        "num_of_images = 25\n",
        "for index in range(1, num_of_images+1):\n",
        "    plt.subplot(5,5, index)\n",
        "    plt.axis('off')\n",
        "    plt.imshow(np.transpose(images[index], (1, 2, 0)))\n",
        "    a='P-'+str(classes[pred_wrong_t[index]])+\"  A-\"+str(classes[true_wrong_t[index]])\n",
        "    plt.title(a)'''"
      ],
      "execution_count": 0,
      "outputs": [
        {
          "output_type": "execute_result",
          "data": {
            "text/plain": [
              "'\\nfrom google.colab import files\\nfigure = plt.figure(figsize=(10, 10))\\nnum_of_images = 25\\nfor index in range(1, num_of_images+1):\\n    plt.subplot(5,5, index)\\n    plt.axis(\\'off\\')\\n    plt.imshow(np.transpose(images[index], (1, 2, 0)))\\n    a=\\'P-\\'+str(classes[pred_wrong_t[index]])+\"  A-\"+str(classes[true_wrong_t[index]])\\n    plt.title(a)'"
            ]
          },
          "metadata": {
            "tags": []
          },
          "execution_count": 10
        }
      ]
    },
    {
      "cell_type": "code",
      "metadata": {
        "id": "KDfDx9pH57ts",
        "colab_type": "code",
        "colab": {}
      },
      "source": [
        ""
      ],
      "execution_count": 0,
      "outputs": []
    },
    {
      "cell_type": "code",
      "metadata": {
        "id": "6fgbx_9eSYU0",
        "colab_type": "code",
        "outputId": "0a84c426-3ffd-49d1-e5d4-9206854e3a58",
        "colab": {
          "base_uri": "https://localhost:8080/",
          "height": 35
        }
      },
      "source": [
        "print(int(pred_wrong_t[0]))"
      ],
      "execution_count": 0,
      "outputs": [
        {
          "output_type": "stream",
          "text": [
            "8\n"
          ],
          "name": "stdout"
        }
      ]
    },
    {
      "cell_type": "code",
      "metadata": {
        "id": "L4eS_RdPrZI1",
        "colab_type": "code",
        "outputId": "edf9e11e-ba52-41bf-c501-1bbe32626670",
        "colab": {
          "base_uri": "https://localhost:8080/",
          "height": 333
        }
      },
      "source": [
        "from google.colab import files\n",
        "plt.plot(train_accs[:], label=\"Train_accuracy\")\n",
        "plt.plot(test_accs[:], color=\"green\", label=\"Test_accuracy\")\n",
        "plt.title(\"Training and Test Accuracy over 50 epochs\")\n",
        "plt.xlabel('Epochs')\n",
        "plt.ylabel('Accuracy')\n",
        "plt.legend()\n",
        "\n",
        "'''extent = ax1.get_window_extent().transformed(fig.dpi_scale_trans.inverted())\n",
        "fig.savefig('Accuracy_S6.png', bbox_inches=extent.expanded(1.1, 1.2))\n",
        "files.download(\"Accuracy_S6.png\") '''\n"
      ],
      "execution_count": 0,
      "outputs": [
        {
          "output_type": "execute_result",
          "data": {
            "text/plain": [
              "'extent = ax1.get_window_extent().transformed(fig.dpi_scale_trans.inverted())\\nfig.savefig(\\'Accuracy_S6.png\\', bbox_inches=extent.expanded(1.1, 1.2))\\nfiles.download(\"Accuracy_S6.png\") '"
            ]
          },
          "metadata": {
            "tags": []
          },
          "execution_count": 11
        },
        {
          "output_type": "display_data",
          "data": {
            "image/png": "[encoded data removed]",
            "text/plain": [
              "<Figure size 432x288 with 1 Axes>"
            ]
          },
          "metadata": {
            "tags": []
          }
        }
      ]
    },
    {
      "cell_type": "code",
      "metadata": {
        "id": "nizbsvw9poC6",
        "colab_type": "code",
        "outputId": "f481854a-f67d-4e76-8282-ac0c7ab653bd",
        "colab": {
          "base_uri": "https://localhost:8080/",
          "height": 193
        }
      },
      "source": [
        "dataiter = iter(testloader)\n",
        "images, labels = dataiter.next()\n",
        "\n",
        "# print images\n",
        "imshow(torchvision.utils.make_grid(images[:4]))\n",
        "print('GroundTruth: ', ' '.join('%5s' % classes[labels[j]] for j in range(4)))"
      ],
      "execution_count": 0,
      "outputs": [
        {
          "output_type": "stream",
          "text": [
            "WARNING:matplotlib.image:Clipping input data to the valid range for imshow with RGB data ([0..1] for floats or [0..255] for integers).\n"
          ],
          "name": "stderr"
        },
        {
          "output_type": "stream",
          "text": [
            "GroundTruth:   frog truck  frog  deer\n"
          ],
          "name": "stdout"
        },
        {
          "output_type": "display_data",
          "data": {
            "image/png": "[encoded data removed]",
            "text/plain": [
              "<Figure size 432x288 with 1 Axes>"
            ]
          },
          "metadata": {
            "tags": []
          }
        }
      ]
    },
    {
      "cell_type": "code",
      "metadata": {
        "id": "jPVZa5Q3aYS9",
        "colab_type": "code",
        "colab": {}
      },
      "source": [
        "target_layers = [\"layer1\",\"layer2\",\"layer3\",\"layer4\"]\n",
        "viz_cam = VisualizeCam(net,classes, target_layers)"
      ],
      "execution_count": 0,
      "outputs": []
    },
    {
      "cell_type": "code",
      "metadata": {
        "id": "ZVgdnHR8f104",
        "colab_type": "code",
        "outputId": "7a2174c7-cef7-4022-c7c7-c835b7a0d2d4",
        "colab": {
          "base_uri": "https://localhost:8080/",
          "height": 1000
        }
      },
      "source": [
        "incorrect_pred_imgs = []\n",
        "for i in range(25):\n",
        "  incorrect_pred_imgs.append(torch.as_tensor(images[i]))\n",
        "viz_cam(torch.stack(incorrect_pred_imgs), target_layers, metric=\"incorrect\")"
      ],
      "execution_count": 0,
      "outputs": [
        {
          "output_type": "stream",
          "text": [
            "WARNING:matplotlib.image:Clipping input data to the valid range for imshow with RGB data ([0..1] for floats or [0..255] for integers).\n",
            "WARNING:matplotlib.image:Clipping input data to the valid range for imshow with RGB data ([0..1] for floats or [0..255] for integers).\n",
            "WARNING:matplotlib.image:Clipping input data to the valid range for imshow with RGB data ([0..1] for floats or [0..255] for integers).\n",
            "WARNING:matplotlib.image:Clipping input data to the valid range for imshow with RGB data ([0..1] for floats or [0..255] for integers).\n",
            "WARNING:matplotlib.image:Clipping input data to the valid range for imshow with RGB data ([0..1] for floats or [0..255] for integers).\n",
            "WARNING:matplotlib.image:Clipping input data to the valid range for imshow with RGB data ([0..1] for floats or [0..255] for integers).\n",
            "WARNING:matplotlib.image:Clipping input data to the valid range for imshow with RGB data ([0..1] for floats or [0..255] for integers).\n",
            "WARNING:matplotlib.image:Clipping input data to the valid range for imshow with RGB data ([0..1] for floats or [0..255] for integers).\n",
            "WARNING:matplotlib.image:Clipping input data to the valid range for imshow with RGB data ([0..1] for floats or [0..255] for integers).\n",
            "WARNING:matplotlib.image:Clipping input data to the valid range for imshow with RGB data ([0..1] for floats or [0..255] for integers).\n",
            "WARNING:matplotlib.image:Clipping input data to the valid range for imshow with RGB data ([0..1] for floats or [0..255] for integers).\n",
            "WARNING:matplotlib.image:Clipping input data to the valid range for imshow with RGB data ([0..1] for floats or [0..255] for integers).\n",
            "WARNING:matplotlib.image:Clipping input data to the valid range for imshow with RGB data ([0..1] for floats or [0..255] for integers).\n",
            "WARNING:matplotlib.image:Clipping input data to the valid range for imshow with RGB data ([0..1] for floats or [0..255] for integers).\n",
            "WARNING:matplotlib.image:Clipping input data to the valid range for imshow with RGB data ([0..1] for floats or [0..255] for integers).\n",
            "WARNING:matplotlib.image:Clipping input data to the valid range for imshow with RGB data ([0..1] for floats or [0..255] for integers).\n",
            "WARNING:matplotlib.image:Clipping input data to the valid range for imshow with RGB data ([0..1] for floats or [0..255] for integers).\n",
            "WARNING:matplotlib.image:Clipping input data to the valid range for imshow with RGB data ([0..1] for floats or [0..255] for integers).\n",
            "WARNING:matplotlib.image:Clipping input data to the valid range for imshow with RGB data ([0..1] for floats or [0..255] for integers).\n",
            "WARNING:matplotlib.image:Clipping input data to the valid range for imshow with RGB data ([0..1] for floats or [0..255] for integers).\n"
          ],
          "name": "stderr"
        },
        {
          "output_type": "display_data",
          "data": {
            "image/png": "[encoded data removed]",
            "text/plain": [
              "<Figure size 720x288 with 10 Axes>"
            ]
          },
          "metadata": {
            "tags": []
          }
        },
        {
          "output_type": "display_data",
          "data": {
            "image/png": "[encoded data removed]",
            "text/plain": [
              "<Figure size 720x288 with 10 Axes>"
            ]
          },
          "metadata": {
            "tags": []
          }
        },
        {
          "output_type": "display_data",
          "data": {
            "image/png": "[encoded data removed]",
            "text/plain": [
              "<Figure size 720x288 with 10 Axes>"
            ]
          },
          "metadata": {
            "tags": []
          }
        },
        {
          "output_type": "display_data",
          "data": {
            "image/png": "[encoded data removed]",
            "text/plain": [
              "<Figure size 720x288 with 10 Axes>"
            ]
          },
          "metadata": {
            "tags": []
          }
        },
        {
          "output_type": "display_data",
          "data": {
            "image/png": "[encoded data removed]",
            "text/plain": [
              "<Figure size 720x288 with 10 Axes>"
            ]
          },
          "metadata": {
            "tags": []
          }
        }
      ]
    },
    {
      "cell_type": "markdown",
      "metadata": {
        "id": "DAx4QPHVpoC8",
        "colab_type": "text"
      },
      "source": [
        "Okay, now let us see what the neural network thinks these examples above are:\n",
        "The outputs are energies for the 10 classes.\n",
        "Higher the energy for a class, the more the network\n",
        "thinks that the image is of the particular class.\n",
        "So, let's get the index of the highest energy:\n"
      ]
    },
    {
      "cell_type": "code",
      "metadata": {
        "id": "HVLjlssWpoC9",
        "colab_type": "code",
        "outputId": "177f7d11-1394-4441-9c48-841235d21f5b",
        "colab": {
          "base_uri": "https://localhost:8080/",
          "height": 35
        }
      },
      "source": [
        "images=images.to(device)\n",
        "outputs = net(images)\n",
        "_, predicted = torch.max(outputs, 1)\n",
        "\n",
        "print('Predicted: ', ' '.join('%5s' % classes[predicted[j]]\n",
        "                              for j in range(4)))"
      ],
      "execution_count": 0,
      "outputs": [
        {
          "output_type": "stream",
          "text": [
            "Predicted:   frog truck  frog  deer\n"
          ],
          "name": "stdout"
        }
      ]
    },
    {
      "cell_type": "markdown",
      "metadata": {
        "id": "2TV0TXL1poDC",
        "colab_type": "text"
      },
      "source": [
        "The results seem pretty good.\n",
        "\n",
        "Let us look at how the network performs on the whole dataset.\n",
        "\n"
      ]
    }
  ]
}