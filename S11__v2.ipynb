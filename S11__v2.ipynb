{
  "nbformat": 4,
  "nbformat_minor": 0,
  "metadata": {
    "kernelspec": {
      "name": "python3",
      "display_name": "Python 3"
    },
    "language_info": {
      "codemirror_mode": {
        "name": "ipython",
        "version": 3
      },
      "file_extension": ".py",
      "mimetype": "text/x-python",
      "name": "python",
      "nbconvert_exporter": "python",
      "pygments_lexer": "ipython3",
      "version": "3.6.6"
    },
    "colab": {
      "name": "S11 _v2.ipynb",
      "provenance": [],
      "collapsed_sections": [],
      "include_colab_link": true
    },
    "accelerator": "GPU"
  },
  "cells": [
    {
      "cell_type": "markdown",
      "metadata": {
        "id": "view-in-github",
        "colab_type": "text"
      },
      "source": [
        "<a href=\"https://colab.research.google.com/github/poojamahajan0712/EVA/blob/master/S11__v2.ipynb\" target=\"_parent\"><img src=\"https://colab.research.google.com/assets/colab-badge.svg\" alt=\"Open In Colab\"/></a>"
      ]
    },
    {
      "cell_type": "markdown",
      "metadata": {
        "id": "fPogbueepoCh",
        "colab_type": "text"
      },
      "source": [
        "## S11 - Assignment \n",
        "\n",
        "Assignment: \n",
        "\n",
        "Write a code which\n",
        "uses this new ResNet Architecture for Cifar10:<br>\n",
        "PrepLayer - Conv 3x3 s1, p1) >> BN >> RELU [64k]<br>\n",
        "Layer1 -<br>\n",
        "X = Conv 3x3 (s1, p1) >> MaxPool2D >> BN >> RELU [128k]<br>\n",
        "R1 = ResBlock( (Conv-BN-ReLU-Conv-BN-ReLU))(X) [128k] <br>\n",
        "Add(X, R1)<br>\n",
        "Layer 2 -<br>\n",
        "Conv 3x3 [256k]<br>\n",
        "MaxPooling2D<br>\n",
        "BN<br>\n",
        "ReLU<br>\n",
        "Layer 3 -<br>\n",
        "X = Conv 3x3 (s1, p1) >> MaxPool2D >> BN >> RELU [512k]<br>\n",
        "R2 = ResBlock( (Conv-BN-ReLU-Conv-BN-ReLU))(X) [512k]<br>\n",
        "Add(X, R2)<br>\n",
        "MaxPooling with Kernel Size 4<br>\n",
        "FC Layer <br>\n",
        "SoftMax<br>\n",
        "\n",
        "Uses One Cycle Policy such that:<br>\n",
        "Total Epochs = 24<br>\n",
        "Max at Epoch = 5<br>\n",
        "LRMIN = FIND<br>\n",
        "LRMAX = FIND<br>\n",
        "NO Annihilation<br>\n",
        "Uses this transform -RandomCrop 32, 32 (after padding of 4) >> FlipLR >> Followed by CutOut(8, 8)<br>\n",
        "Batch size = 512<br>\n",
        "Target Accuracy: 90%. <br>"
      ]
    },
    {
      "cell_type": "code",
      "metadata": {
        "id": "-yVpodAMpoCi",
        "colab_type": "code",
        "colab": {}
      },
      "source": [
        "%matplotlib inline\n",
        "#!pip install albumentations==0.4.5\n",
        "import torch\n",
        "import torchvision\n",
        "import torchvision.transforms as transforms\n",
        "import torch.nn as nn\n",
        "import torch.nn.functional as F\n",
        "import matplotlib.pyplot as plt\n",
        "import numpy as np\n",
        "import torch.optim as optim\n",
        "from PIL import Image\n",
        "\n",
        "from load_data_cifar10 import dataload\n",
        "from util1 import *\n",
        "import model3\n",
        "#import gradcam\n",
        "from train_version1 import train\n",
        "from new_test1 import test\n",
        "from a4 import album_train,album_test\n",
        "#from visualize_v1 import VisualizeCam\n",
        "\n",
        "\n"
      ],
      "execution_count": 0,
      "outputs": []
    },
    {
      "cell_type": "code",
      "metadata": {
        "id": "D8Tjigo2poCl",
        "colab_type": "code",
        "outputId": "8b98246a-471c-41cc-86bc-b4100d28e0a8",
        "colab": {
          "base_uri": "https://localhost:8080/",
          "height": 52
        }
      },
      "source": [
        "\n",
        "    \n",
        "trainloader,testloader,classes =dataload(train_transform=album_train(),test_transorm=album_test(),bat_size=512)\n"
      ],
      "execution_count": 9,
      "outputs": [
        {
          "output_type": "stream",
          "text": [
            "Files already downloaded and verified\n",
            "Files already downloaded and verified\n"
          ],
          "name": "stdout"
        }
      ]
    },
    {
      "cell_type": "markdown",
      "metadata": {
        "id": "_cj433rtpoCn",
        "colab_type": "text"
      },
      "source": [
        "Let us show some of the training images, for fun.\n",
        "\n"
      ]
    },
    {
      "cell_type": "code",
      "metadata": {
        "id": "daA7bADhpoCo",
        "colab_type": "code",
        "outputId": "2aaacebe-1afd-47d0-e3e0-1a361e23852c",
        "colab": {
          "base_uri": "https://localhost:8080/",
          "height": 171
        }
      },
      "source": [
        "# get some random training images\n",
        "dataiter = iter(trainloader)\n",
        "images, labels = dataiter.next()\n",
        "\n",
        "# show images\n",
        "imshow(torchvision.utils.make_grid(images[:4],padding=1))\n",
        "# print labels\n",
        "print(' '.join('%5s' % classes[labels[j]] for j in range(4)))\n"
      ],
      "execution_count": 10,
      "outputs": [
        {
          "output_type": "stream",
          "text": [
            "Clipping input data to the valid range for imshow with RGB data ([0..1] for floats or [0..255] for integers).\n"
          ],
          "name": "stderr"
        },
        {
          "output_type": "stream",
          "text": [
            "  car   car   car   car\n"
          ],
          "name": "stdout"
        },
        {
          "output_type": "display_data",
          "data": {
            "image/png": "[encoded data removed]",
            "text/plain": [
              "<Figure size 432x288 with 1 Axes>"
            ]
          },
          "metadata": {
            "tags": [],
            "needs_background": "light"
          }
        }
      ]
    },
    {
      "cell_type": "markdown",
      "metadata": {
        "id": "28OpHA_LpoCq",
        "colab_type": "text"
      },
      "source": [
        "2. Define a Convolution Neural Network\n",
        "^^^^^^^^^^^^^^^^^^^^^^^^^^^^^^^^^^^^^^\n",
        "Copy the neural network from the Neural Networks section before and modify it to\n",
        "take 3-channel images (instead of 1-channel images as it was defined).\n",
        "\n"
      ]
    },
    {
      "cell_type": "code",
      "metadata": {
        "id": "RYgdcO85C5ym",
        "colab_type": "code",
        "outputId": "42dfd5fa-9316-4d6a-bb95-036c69ec0da0",
        "colab": {
          "base_uri": "https://localhost:8080/",
          "height": 728
        }
      },
      "source": [
        "\n",
        "device = which_device()\n",
        "net = model3.Net().to(device)\n",
        "show_model_summary(net, device, (3,32,32))\n",
        "\n",
        "\n"
      ],
      "execution_count": 11,
      "outputs": [
        {
          "output_type": "stream",
          "text": [
            "----------------------------------------------------------------\n",
            "        Layer (type)               Output Shape         Param #\n",
            "================================================================\n",
            "            Conv2d-1           [-1, 64, 32, 32]           1,728\n",
            "              ReLU-2           [-1, 64, 32, 32]               0\n",
            "       BatchNorm2d-3           [-1, 64, 32, 32]             128\n",
            "            Conv2d-4          [-1, 128, 32, 32]          73,728\n",
            "         MaxPool2d-5          [-1, 128, 16, 16]               0\n",
            "       BatchNorm2d-6          [-1, 128, 16, 16]             256\n",
            "              ReLU-7          [-1, 128, 16, 16]               0\n",
            "            Conv2d-8          [-1, 128, 16, 16]         147,456\n",
            "       BatchNorm2d-9          [-1, 128, 16, 16]             256\n",
            "             ReLU-10          [-1, 128, 16, 16]               0\n",
            "           Conv2d-11          [-1, 128, 16, 16]         147,456\n",
            "      BatchNorm2d-12          [-1, 128, 16, 16]             256\n",
            "           Conv2d-13          [-1, 256, 16, 16]         294,912\n",
            "        MaxPool2d-14            [-1, 256, 8, 8]               0\n",
            "      BatchNorm2d-15            [-1, 256, 8, 8]             512\n",
            "             ReLU-16            [-1, 256, 8, 8]               0\n",
            "           Conv2d-17            [-1, 512, 8, 8]       1,179,648\n",
            "        MaxPool2d-18            [-1, 512, 4, 4]               0\n",
            "      BatchNorm2d-19            [-1, 512, 4, 4]           1,024\n",
            "             ReLU-20            [-1, 512, 4, 4]               0\n",
            "           Conv2d-21            [-1, 512, 4, 4]       2,359,296\n",
            "      BatchNorm2d-22            [-1, 512, 4, 4]           1,024\n",
            "             ReLU-23            [-1, 512, 4, 4]               0\n",
            "           Conv2d-24            [-1, 512, 4, 4]       2,359,296\n",
            "      BatchNorm2d-25            [-1, 512, 4, 4]           1,024\n",
            "        MaxPool2d-26            [-1, 512, 1, 1]               0\n",
            "           Conv2d-27             [-1, 10, 1, 1]           5,120\n",
            "================================================================\n",
            "Total params: 6,573,120\n",
            "Trainable params: 6,573,120\n",
            "Non-trainable params: 0\n",
            "----------------------------------------------------------------\n",
            "Input size (MB): 0.01\n",
            "Forward/backward pass size (MB): 6.13\n",
            "Params size (MB): 25.07\n",
            "Estimated Total Size (MB): 31.22\n",
            "----------------------------------------------------------------\n",
            "None\n"
          ],
          "name": "stdout"
        }
      ]
    },
    {
      "cell_type": "markdown",
      "metadata": {
        "id": "O-odOrhdpoC2",
        "colab_type": "text"
      },
      "source": [
        " **Define a Loss function and optimizer** \n",
        "\n",
        "\n",
        "**Training and Testing**\n",
        "\n",
        "\n",
        "\n"
      ]
    },
    {
      "cell_type": "markdown",
      "metadata": {
        "id": "hda_fF7J4Fef",
        "colab_type": "text"
      },
      "source": [
        "***Using StepLR to change Learning rate after every 5 iterations and compare train and test accuracies ***\n"
      ]
    },
    {
      "cell_type": "code",
      "metadata": {
        "id": "kkuRfo1IpoC3",
        "colab_type": "code",
        "outputId": "99c2ba35-687c-4cb8-b01f-70db2365fd96",
        "colab": {
          "base_uri": "https://localhost:8080/",
          "height": 1000
        }
      },
      "source": [
        "\n",
        "\n",
        "criterion = nn.CrossEntropyLoss()\n",
        "optimizer = optim.SGD(net.parameters(), lr=0.05, momentum=0.9)\n",
        "scheduler = optim.lr_scheduler.StepLR(optimizer, step_size=5, gamma=0.7)\n",
        "\n",
        "#scheduler = optim.lr_scheduler.OneCycleLR(optimizer, max_lr=0.01, steps_per_epoch=len(trainloader), epochs=24, pct_start=0.2)\n",
        "#scheduler = optim.lr_scheduler.ReduceLROnPlateau(optimizer, patience=10, verbose=True)\n",
        "def run():\n",
        "  train_accs,test_losses,test_accs,pred_wrong_t,true_wrong_t,image_t=([] for i in range(6))\n",
        "  lr=[]\n",
        "  n=40\n",
        "  for epoch in range(n):\n",
        "      print(\"EPOCH:\", epoch+1)\n",
        "      train(net, device, trainloader, criterion, optimizer, epoch,train_accs)\n",
        "      test((epoch==(n-1)),net, device, testloader, criterion, classes, test_losses, test_accs,pred_wrong_t,true_wrong_t,image_t)\n",
        "      \n",
        "      #lr.append(optimizer['lr'])\n",
        "      \n",
        "      print(scheduler.get_lr())\n",
        "      lr.append(scheduler.get_lr())\n",
        "      scheduler.step(epoch)\n",
        "\n",
        "  return(train_accs,test_accs,pred_wrong_t,true_wrong_t,image_t,lr)\n",
        " \n",
        "\n",
        "train_accs,test_accs,pred_wrong_t,true_wrong_t,image_t,lr=run()"
      ],
      "execution_count": 0,
      "outputs": [
        {
          "output_type": "stream",
          "text": [
            "\r  0%|          | 0/98 [00:00<?, ?it/s]"
          ],
          "name": "stderr"
        },
        {
          "output_type": "stream",
          "text": [
            "EPOCH: 1\n"
          ],
          "name": "stdout"
        },
        {
          "output_type": "stream",
          "text": [
            "Loss=2.2840576171875 Batch_id=97 Accuracy=11.34: 100%|██████████| 98/98 [01:38<00:00,  1.00s/it]\n",
            "  0%|          | 0/98 [00:00<?, ?it/s]"
          ],
          "name": "stderr"
        },
        {
          "output_type": "stream",
          "text": [
            "Test set: Average loss: 0.0046, Accuracy: 1355/10000 (13.55%)\n",
            "\n",
            "[0.05]\n",
            "EPOCH: 2\n"
          ],
          "name": "stdout"
        },
        {
          "output_type": "stream",
          "text": [
            "Loss=2.0624890327453613 Batch_id=97 Accuracy=15.30: 100%|██████████| 98/98 [01:38<00:00,  1.01s/it]\n",
            "  0%|          | 0/98 [00:00<?, ?it/s]"
          ],
          "name": "stderr"
        },
        {
          "output_type": "stream",
          "text": [
            "Test set: Average loss: 0.0041, Accuracy: 2279/10000 (22.79%)\n",
            "\n",
            "[0.05]\n",
            "EPOCH: 3\n"
          ],
          "name": "stdout"
        },
        {
          "output_type": "stream",
          "text": [
            "Loss=1.7767508029937744 Batch_id=97 Accuracy=28.58: 100%|██████████| 98/98 [01:40<00:00,  1.02s/it]\n",
            "  0%|          | 0/98 [00:00<?, ?it/s]"
          ],
          "name": "stderr"
        },
        {
          "output_type": "stream",
          "text": [
            "Test set: Average loss: 0.0034, Accuracy: 3488/10000 (34.88%)\n",
            "\n",
            "[0.05]\n",
            "EPOCH: 4\n"
          ],
          "name": "stdout"
        },
        {
          "output_type": "stream",
          "text": [
            "Loss=1.6760802268981934 Batch_id=97 Accuracy=36.27: 100%|██████████| 98/98 [01:41<00:00,  1.03s/it]\n",
            "  0%|          | 0/98 [00:00<?, ?it/s]"
          ],
          "name": "stderr"
        },
        {
          "output_type": "stream",
          "text": [
            "Test set: Average loss: 0.0032, Accuracy: 4079/10000 (40.79%)\n",
            "\n",
            "[0.05]\n",
            "EPOCH: 5\n"
          ],
          "name": "stdout"
        },
        {
          "output_type": "stream",
          "text": [
            "Loss=1.457137107849121 Batch_id=97 Accuracy=42.71: 100%|██████████| 98/98 [01:37<00:00,  1.00it/s]\n",
            "  0%|          | 0/98 [00:00<?, ?it/s]"
          ],
          "name": "stderr"
        },
        {
          "output_type": "stream",
          "text": [
            "Test set: Average loss: 0.0029, Accuracy: 4699/10000 (46.99%)\n",
            "\n",
            "[0.05]\n",
            "EPOCH: 6\n"
          ],
          "name": "stdout"
        },
        {
          "output_type": "stream",
          "text": [
            "Loss=1.3828109502792358 Batch_id=97 Accuracy=47.50: 100%|██████████| 98/98 [01:38<00:00,  1.01s/it]\n",
            "  0%|          | 0/98 [00:00<?, ?it/s]"
          ],
          "name": "stderr"
        },
        {
          "output_type": "stream",
          "text": [
            "Test set: Average loss: 0.0027, Accuracy: 5237/10000 (52.37%)\n",
            "\n",
            "[0.05]\n",
            "EPOCH: 7\n"
          ],
          "name": "stdout"
        },
        {
          "output_type": "stream",
          "text": [
            "Loss=1.21680748462677 Batch_id=97 Accuracy=52.08: 100%|██████████| 98/98 [01:39<00:00,  1.02s/it]\n",
            "  0%|          | 0/98 [00:00<?, ?it/s]"
          ],
          "name": "stderr"
        },
        {
          "output_type": "stream",
          "text": [
            "Test set: Average loss: 0.0025, Accuracy: 5449/10000 (54.49%)\n",
            "\n",
            "[0.024499999999999997]\n",
            "EPOCH: 8\n"
          ],
          "name": "stdout"
        },
        {
          "output_type": "stream",
          "text": [
            "Loss=1.2935186624526978 Batch_id=97 Accuracy=54.39: 100%|██████████| 98/98 [01:40<00:00,  1.03s/it]\n",
            "  0%|          | 0/98 [00:00<?, ?it/s]"
          ],
          "name": "stderr"
        },
        {
          "output_type": "stream",
          "text": [
            "Test set: Average loss: 0.0024, Accuracy: 5696/10000 (56.96%)\n",
            "\n",
            "[0.034999999999999996]\n",
            "EPOCH: 9\n"
          ],
          "name": "stdout"
        },
        {
          "output_type": "stream",
          "text": [
            "Loss=1.158869743347168 Batch_id=97 Accuracy=57.36: 100%|██████████| 98/98 [01:37<00:00,  1.00it/s]\n",
            "  0%|          | 0/98 [00:00<?, ?it/s]"
          ],
          "name": "stderr"
        },
        {
          "output_type": "stream",
          "text": [
            "Test set: Average loss: 0.0022, Accuracy: 6048/10000 (60.48%)\n",
            "\n",
            "[0.034999999999999996]\n",
            "EPOCH: 10\n"
          ],
          "name": "stdout"
        },
        {
          "output_type": "stream",
          "text": [
            "Loss=1.076658844947815 Batch_id=97 Accuracy=59.27: 100%|██████████| 98/98 [01:38<00:00,  1.01s/it]\n",
            "  0%|          | 0/98 [00:00<?, ?it/s]"
          ],
          "name": "stderr"
        },
        {
          "output_type": "stream",
          "text": [
            "Test set: Average loss: 0.0021, Accuracy: 6161/10000 (61.61%)\n",
            "\n",
            "[0.034999999999999996]\n",
            "EPOCH: 11\n"
          ],
          "name": "stdout"
        },
        {
          "output_type": "stream",
          "text": [
            "Loss=1.0652718544006348 Batch_id=97 Accuracy=62.06: 100%|██████████| 98/98 [01:40<00:00,  1.02s/it]\n",
            "  0%|          | 0/98 [00:00<?, ?it/s]"
          ],
          "name": "stderr"
        },
        {
          "output_type": "stream",
          "text": [
            "Test set: Average loss: 0.0020, Accuracy: 6495/10000 (64.95%)\n",
            "\n",
            "[0.034999999999999996]\n",
            "EPOCH: 12\n"
          ],
          "name": "stdout"
        },
        {
          "output_type": "stream",
          "text": [
            "Loss=0.9856522083282471 Batch_id=97 Accuracy=64.73: 100%|██████████| 98/98 [01:41<00:00,  1.03s/it]\n",
            "  0%|          | 0/98 [00:00<?, ?it/s]"
          ],
          "name": "stderr"
        },
        {
          "output_type": "stream",
          "text": [
            "Test set: Average loss: 0.0019, Accuracy: 6595/10000 (65.95%)\n",
            "\n",
            "[0.01715]\n",
            "EPOCH: 13\n"
          ],
          "name": "stdout"
        },
        {
          "output_type": "stream",
          "text": [
            "Loss=0.9001880884170532 Batch_id=97 Accuracy=66.37: 100%|██████████| 98/98 [01:37<00:00,  1.00it/s]\n",
            "  0%|          | 0/98 [00:00<?, ?it/s]"
          ],
          "name": "stderr"
        },
        {
          "output_type": "stream",
          "text": [
            "Test set: Average loss: 0.0018, Accuracy: 6795/10000 (67.95%)\n",
            "\n",
            "[0.024499999999999997]\n",
            "EPOCH: 14\n"
          ],
          "name": "stdout"
        },
        {
          "output_type": "stream",
          "text": [
            "Loss=0.8842641711235046 Batch_id=97 Accuracy=67.69: 100%|██████████| 98/98 [01:38<00:00,  1.01s/it]\n",
            "  0%|          | 0/98 [00:00<?, ?it/s]"
          ],
          "name": "stderr"
        },
        {
          "output_type": "stream",
          "text": [
            "Test set: Average loss: 0.0018, Accuracy: 6841/10000 (68.41%)\n",
            "\n",
            "[0.024499999999999997]\n",
            "EPOCH: 15\n"
          ],
          "name": "stdout"
        },
        {
          "output_type": "stream",
          "text": [
            "Loss=0.9173852801322937 Batch_id=97 Accuracy=68.64: 100%|██████████| 98/98 [01:40<00:00,  1.02s/it]\n",
            "  0%|          | 0/98 [00:00<?, ?it/s]"
          ],
          "name": "stderr"
        },
        {
          "output_type": "stream",
          "text": [
            "Test set: Average loss: 0.0018, Accuracy: 6796/10000 (67.96%)\n",
            "\n",
            "[0.024499999999999997]\n",
            "EPOCH: 16\n"
          ],
          "name": "stdout"
        },
        {
          "output_type": "stream",
          "text": [
            "Loss=0.9226030707359314 Batch_id=97 Accuracy=69.80: 100%|██████████| 98/98 [01:40<00:00,  1.02s/it]\n",
            "  0%|          | 0/98 [00:00<?, ?it/s]"
          ],
          "name": "stderr"
        },
        {
          "output_type": "stream",
          "text": [
            "Test set: Average loss: 0.0017, Accuracy: 7091/10000 (70.91%)\n",
            "\n",
            "[0.024499999999999997]\n",
            "EPOCH: 17\n"
          ],
          "name": "stdout"
        },
        {
          "output_type": "stream",
          "text": [
            "Loss=0.7786905169487 Batch_id=97 Accuracy=71.77: 100%|██████████| 98/98 [01:37<00:00,  1.00it/s]\n",
            "  0%|          | 0/98 [00:00<?, ?it/s]"
          ],
          "name": "stderr"
        },
        {
          "output_type": "stream",
          "text": [
            "Test set: Average loss: 0.0016, Accuracy: 7271/10000 (72.71%)\n",
            "\n",
            "[0.012004999999999997]\n",
            "EPOCH: 18\n"
          ],
          "name": "stdout"
        },
        {
          "output_type": "stream",
          "text": [
            "Loss=0.7279301285743713 Batch_id=97 Accuracy=72.94: 100%|██████████| 98/98 [01:38<00:00,  1.01s/it]\n",
            "  0%|          | 0/98 [00:00<?, ?it/s]"
          ],
          "name": "stderr"
        },
        {
          "output_type": "stream",
          "text": [
            "Test set: Average loss: 0.0015, Accuracy: 7274/10000 (72.74%)\n",
            "\n",
            "[0.017149999999999995]\n",
            "EPOCH: 19\n"
          ],
          "name": "stdout"
        },
        {
          "output_type": "stream",
          "text": [
            "Loss=0.8058642148971558 Batch_id=97 Accuracy=73.33: 100%|██████████| 98/98 [01:39<00:00,  1.02s/it]\n",
            "  0%|          | 0/98 [00:00<?, ?it/s]"
          ],
          "name": "stderr"
        },
        {
          "output_type": "stream",
          "text": [
            "Test set: Average loss: 0.0015, Accuracy: 7319/10000 (73.19%)\n",
            "\n",
            "[0.017149999999999995]\n",
            "EPOCH: 20\n"
          ],
          "name": "stdout"
        },
        {
          "output_type": "stream",
          "text": [
            "Loss=0.8323908448219299 Batch_id=97 Accuracy=73.95: 100%|██████████| 98/98 [01:40<00:00,  1.02s/it]\n",
            "  0%|          | 0/98 [00:00<?, ?it/s]"
          ],
          "name": "stderr"
        },
        {
          "output_type": "stream",
          "text": [
            "Test set: Average loss: 0.0015, Accuracy: 7321/10000 (73.21%)\n",
            "\n",
            "[0.017149999999999995]\n",
            "EPOCH: 21\n"
          ],
          "name": "stdout"
        },
        {
          "output_type": "stream",
          "text": [
            "Loss=0.7334109544754028 Batch_id=97 Accuracy=74.96: 100%|██████████| 98/98 [01:37<00:00,  1.00it/s]\n",
            "  0%|          | 0/98 [00:00<?, ?it/s]"
          ],
          "name": "stderr"
        },
        {
          "output_type": "stream",
          "text": [
            "Test set: Average loss: 0.0015, Accuracy: 7467/10000 (74.67%)\n",
            "\n",
            "[0.017149999999999995]\n",
            "EPOCH: 22\n"
          ],
          "name": "stdout"
        },
        {
          "output_type": "stream",
          "text": [
            "Loss=0.6928640604019165 Batch_id=97 Accuracy=76.23: 100%|██████████| 98/98 [01:38<00:00,  1.00s/it]\n",
            "  0%|          | 0/98 [00:00<?, ?it/s]"
          ],
          "name": "stderr"
        },
        {
          "output_type": "stream",
          "text": [
            "Test set: Average loss: 0.0014, Accuracy: 7538/10000 (75.38%)\n",
            "\n",
            "[0.008403499999999998]\n",
            "EPOCH: 23\n"
          ],
          "name": "stdout"
        },
        {
          "output_type": "stream",
          "text": [
            "Loss=0.6742280125617981 Batch_id=97 Accuracy=76.57: 100%|██████████| 98/98 [01:39<00:00,  1.02s/it]\n",
            "  0%|          | 0/98 [00:00<?, ?it/s]"
          ],
          "name": "stderr"
        },
        {
          "output_type": "stream",
          "text": [
            "Test set: Average loss: 0.0013, Accuracy: 7679/10000 (76.79%)\n",
            "\n",
            "[0.012004999999999998]\n",
            "EPOCH: 24\n"
          ],
          "name": "stdout"
        },
        {
          "output_type": "stream",
          "text": [
            "Loss=0.6827101111412048 Batch_id=97 Accuracy=77.31: 100%|██████████| 98/98 [01:39<00:00,  1.02s/it]\n",
            "  0%|          | 0/98 [00:00<?, ?it/s]"
          ],
          "name": "stderr"
        },
        {
          "output_type": "stream",
          "text": [
            "Test set: Average loss: 0.0014, Accuracy: 7598/10000 (75.98%)\n",
            "\n",
            "[0.012004999999999998]\n",
            "EPOCH: 25\n"
          ],
          "name": "stdout"
        },
        {
          "output_type": "stream",
          "text": [
            "Loss=0.6949855089187622 Batch_id=97 Accuracy=77.82: 100%|██████████| 98/98 [01:37<00:00,  1.00it/s]\n",
            "  0%|          | 0/98 [00:00<?, ?it/s]"
          ],
          "name": "stderr"
        },
        {
          "output_type": "stream",
          "text": [
            "Test set: Average loss: 0.0014, Accuracy: 7622/10000 (76.22%)\n",
            "\n",
            "[0.012004999999999998]\n",
            "EPOCH: 26\n"
          ],
          "name": "stdout"
        },
        {
          "output_type": "stream",
          "text": [
            "Loss=0.5793308615684509 Batch_id=97 Accuracy=78.40: 100%|██████████| 98/98 [01:38<00:00,  1.01s/it]\n",
            "  0%|          | 0/98 [00:00<?, ?it/s]"
          ],
          "name": "stderr"
        },
        {
          "output_type": "stream",
          "text": [
            "Test set: Average loss: 0.0014, Accuracy: 7678/10000 (76.78%)\n",
            "\n",
            "[0.012004999999999998]\n",
            "EPOCH: 27\n"
          ],
          "name": "stdout"
        },
        {
          "output_type": "stream",
          "text": [
            "Loss=0.5878632068634033 Batch_id=97 Accuracy=79.15: 100%|██████████| 98/98 [01:39<00:00,  1.02s/it]\n",
            "  0%|          | 0/98 [00:00<?, ?it/s]"
          ],
          "name": "stderr"
        },
        {
          "output_type": "stream",
          "text": [
            "Test set: Average loss: 0.0013, Accuracy: 7767/10000 (77.67%)\n",
            "\n",
            "[0.005882449999999998]\n",
            "EPOCH: 28\n"
          ],
          "name": "stdout"
        },
        {
          "output_type": "stream",
          "text": [
            "Loss=0.554643988609314 Batch_id=97 Accuracy=79.66: 100%|██████████| 98/98 [01:39<00:00,  1.02s/it]\n",
            "  0%|          | 0/98 [00:00<?, ?it/s]"
          ],
          "name": "stderr"
        },
        {
          "output_type": "stream",
          "text": [
            "Test set: Average loss: 0.0013, Accuracy: 7825/10000 (78.25%)\n",
            "\n",
            "[0.008403499999999998]\n",
            "EPOCH: 29\n"
          ],
          "name": "stdout"
        },
        {
          "output_type": "stream",
          "text": [
            "Loss=0.5224409103393555 Batch_id=97 Accuracy=80.12: 100%|██████████| 98/98 [01:37<00:00,  1.00it/s]\n",
            "  0%|          | 0/98 [00:00<?, ?it/s]"
          ],
          "name": "stderr"
        },
        {
          "output_type": "stream",
          "text": [
            "Test set: Average loss: 0.0013, Accuracy: 7826/10000 (78.26%)\n",
            "\n",
            "[0.008403499999999998]\n",
            "EPOCH: 30\n"
          ],
          "name": "stdout"
        },
        {
          "output_type": "stream",
          "text": [
            "Loss=0.6380390524864197 Batch_id=97 Accuracy=80.42: 100%|██████████| 98/98 [01:38<00:00,  1.01s/it]\n",
            "  0%|          | 0/98 [00:00<?, ?it/s]"
          ],
          "name": "stderr"
        },
        {
          "output_type": "stream",
          "text": [
            "Test set: Average loss: 0.0012, Accuracy: 7887/10000 (78.87%)\n",
            "\n",
            "[0.008403499999999998]\n",
            "EPOCH: 31\n"
          ],
          "name": "stdout"
        },
        {
          "output_type": "stream",
          "text": [
            "Loss=0.5730774998664856 Batch_id=97 Accuracy=80.62: 100%|██████████| 98/98 [01:39<00:00,  1.02s/it]\n",
            "  0%|          | 0/98 [00:00<?, ?it/s]"
          ],
          "name": "stderr"
        },
        {
          "output_type": "stream",
          "text": [
            "Test set: Average loss: 0.0012, Accuracy: 7878/10000 (78.78%)\n",
            "\n",
            "[0.008403499999999998]\n",
            "EPOCH: 32\n"
          ],
          "name": "stdout"
        },
        {
          "output_type": "stream",
          "text": [
            "Loss=0.5254479646682739 Batch_id=97 Accuracy=81.52: 100%|██████████| 98/98 [01:40<00:00,  1.02s/it]\n",
            "  0%|          | 0/98 [00:00<?, ?it/s]"
          ],
          "name": "stderr"
        },
        {
          "output_type": "stream",
          "text": [
            "Test set: Average loss: 0.0012, Accuracy: 7891/10000 (78.91%)\n",
            "\n",
            "[0.004117714999999998]\n",
            "EPOCH: 33\n"
          ],
          "name": "stdout"
        },
        {
          "output_type": "stream",
          "text": [
            "Loss=0.5839158892631531 Batch_id=97 Accuracy=81.81: 100%|██████████| 98/98 [01:37<00:00,  1.00it/s]\n",
            "  0%|          | 0/98 [00:00<?, ?it/s]"
          ],
          "name": "stderr"
        },
        {
          "output_type": "stream",
          "text": [
            "Test set: Average loss: 0.0012, Accuracy: 7854/10000 (78.54%)\n",
            "\n",
            "[0.005882449999999998]\n",
            "EPOCH: 34\n"
          ],
          "name": "stdout"
        },
        {
          "output_type": "stream",
          "text": [
            "Loss=0.49247804284095764 Batch_id=97 Accuracy=81.77: 100%|██████████| 98/98 [01:38<00:00,  1.01s/it]\n",
            "  0%|          | 0/98 [00:00<?, ?it/s]"
          ],
          "name": "stderr"
        },
        {
          "output_type": "stream",
          "text": [
            "Test set: Average loss: 0.0012, Accuracy: 7925/10000 (79.25%)\n",
            "\n",
            "[0.005882449999999998]\n",
            "EPOCH: 35\n"
          ],
          "name": "stdout"
        },
        {
          "output_type": "stream",
          "text": [
            "Loss=0.5211052298545837 Batch_id=97 Accuracy=82.18: 100%|██████████| 98/98 [01:39<00:00,  1.02s/it]\n",
            "  0%|          | 0/98 [00:00<?, ?it/s]"
          ],
          "name": "stderr"
        },
        {
          "output_type": "stream",
          "text": [
            "Test set: Average loss: 0.0012, Accuracy: 7974/10000 (79.74%)\n",
            "\n",
            "[0.005882449999999998]\n",
            "EPOCH: 36\n"
          ],
          "name": "stdout"
        },
        {
          "output_type": "stream",
          "text": [
            "Loss=0.48365697264671326 Batch_id=97 Accuracy=82.22: 100%|██████████| 98/98 [01:41<00:00,  1.03s/it]\n",
            "  0%|          | 0/98 [00:00<?, ?it/s]"
          ],
          "name": "stderr"
        },
        {
          "output_type": "stream",
          "text": [
            "Test set: Average loss: 0.0012, Accuracy: 7937/10000 (79.37%)\n",
            "\n",
            "[0.005882449999999998]\n",
            "EPOCH: 37\n"
          ],
          "name": "stdout"
        },
        {
          "output_type": "stream",
          "text": [
            "Loss=0.36664053797721863 Batch_id=97 Accuracy=83.01: 100%|██████████| 98/98 [01:37<00:00,  1.00it/s]\n",
            "  0%|          | 0/98 [00:00<?, ?it/s]"
          ],
          "name": "stderr"
        },
        {
          "output_type": "stream",
          "text": [
            "Test set: Average loss: 0.0012, Accuracy: 7969/10000 (79.69%)\n",
            "\n",
            "[0.0028824004999999987]\n",
            "EPOCH: 38\n"
          ],
          "name": "stdout"
        },
        {
          "output_type": "stream",
          "text": [
            "Loss=0.4530209004878998 Batch_id=97 Accuracy=83.21: 100%|██████████| 98/98 [01:38<00:00,  1.01s/it]\n",
            "  0%|          | 0/98 [00:00<?, ?it/s]"
          ],
          "name": "stderr"
        },
        {
          "output_type": "stream",
          "text": [
            "Test set: Average loss: 0.0012, Accuracy: 7990/10000 (79.90%)\n",
            "\n",
            "[0.004117714999999998]\n",
            "EPOCH: 39\n"
          ],
          "name": "stdout"
        },
        {
          "output_type": "stream",
          "text": [
            "Loss=0.47351351380348206 Batch_id=97 Accuracy=83.39: 100%|██████████| 98/98 [01:39<00:00,  1.02s/it]\n",
            "  0%|          | 0/98 [00:00<?, ?it/s]"
          ],
          "name": "stderr"
        },
        {
          "output_type": "stream",
          "text": [
            "Test set: Average loss: 0.0012, Accuracy: 7945/10000 (79.45%)\n",
            "\n",
            "[0.004117714999999998]\n",
            "EPOCH: 40\n"
          ],
          "name": "stdout"
        },
        {
          "output_type": "stream",
          "text": [
            "Loss=0.46599993109703064 Batch_id=97 Accuracy=83.76: 100%|██████████| 98/98 [01:40<00:00,  1.02s/it]\n"
          ],
          "name": "stderr"
        },
        {
          "output_type": "stream",
          "text": [
            "Test set: Average loss: 0.0012, Accuracy: 8041/10000 (80.41%)\n",
            "\n",
            "[0.004117714999999998]\n"
          ],
          "name": "stdout"
        }
      ]
    },
    {
      "cell_type": "code",
      "metadata": {
        "id": "qO6LGX6kq04r",
        "colab_type": "code",
        "outputId": "3c66444e-a6d8-4063-a81a-a72c564a67d7",
        "colab": {
          "base_uri": "https://localhost:8080/",
          "height": 625
        }
      },
      "source": [
        "fig, axs = plt.subplots(2,1,figsize=(10,10))\n",
        "axs[0].plot(lr,train_accs)\n",
        "axs[0].set_title(\"Training Accuracy vs LR\")\n",
        "axs[1].plot(lr,test_accs)\n",
        "axs[1].set_title(\"Test Accuracy vs LR\")\n"
      ],
      "execution_count": 0,
      "outputs": [
        {
          "output_type": "execute_result",
          "data": {
            "text/plain": [
              "Text(0.5, 1.0, 'Test Accuracy vs LR')"
            ]
          },
          "metadata": {
            "tags": []
          },
          "execution_count": 13
        },
        {
          "output_type": "display_data",
          "data": {
            "image/png": "[encoded data removed]",
            "text/plain": [
              "<Figure size 720x720 with 2 Axes>"
            ]
          },
          "metadata": {
            "tags": []
          }
        }
      ]
    },
    {
      "cell_type": "code",
      "metadata": {
        "id": "KDfDx9pH57ts",
        "colab_type": "code",
        "colab": {
          "base_uri": "https://localhost:8080/",
          "height": 1000
        },
        "outputId": "4f9f3b3f-835d-4689-ebf2-15580f03d6c0"
      },
      "source": [
        "\n",
        "criterion = nn.CrossEntropyLoss()\n",
        "optimizer = optim.SGD(net.parameters(), lr=0.1, momentum=0.9)\n",
        "\n",
        "scheduler = optim.lr_scheduler.OneCycleLR(optimizer, max_lr=0.01, steps_per_epoch=len(trainloader), epochs=24, pct_start=0.2,final_div_factor=100.0)\n",
        "\n",
        "def run():\n",
        "  train_accs,test_losses,test_accs,pred_wrong_t,true_wrong_t,image_t=([] for i in range(6))\n",
        "  #lr=[]\n",
        "  n=24\n",
        "  for epoch in range(n):\n",
        "      print(\"EPOCH:\", epoch+1)\n",
        "      train(net, device, trainloader, criterion, optimizer, epoch,train_accs,scheduler)\n",
        "      test((epoch==(n-1)),net, device, testloader, criterion, classes, test_losses, test_accs,pred_wrong_t,true_wrong_t,image_t)\n",
        "      \n",
        "      #lr.append(optimizer['lr'])\n",
        "      #print(scheduler.get_lr())\n",
        "      #lr.append(scheduler.get_lr())\n",
        "      #scheduler.step(epoch)\n",
        "\n",
        "  return(train_accs,test_accs,pred_wrong_t,true_wrong_t,image_t)\n",
        " \n",
        "\n",
        "train_accs,test_accs,pred_wrong_t,true_wrong_t,image_t=run()"
      ],
      "execution_count": 12,
      "outputs": [
        {
          "output_type": "stream",
          "text": [
            "\r  0%|          | 0/98 [00:00<?, ?it/s]"
          ],
          "name": "stderr"
        },
        {
          "output_type": "stream",
          "text": [
            "EPOCH: 1\n"
          ],
          "name": "stdout"
        },
        {
          "output_type": "stream",
          "text": [
            "Loss=1.242572546005249 Batch_id=97 Accuracy=36.75: 100%|██████████| 98/98 [00:26<00:00,  3.73it/s]\n",
            "  0%|          | 0/98 [00:00<?, ?it/s]"
          ],
          "name": "stderr"
        },
        {
          "output_type": "stream",
          "text": [
            "Test set: Average loss: 0.0026, Accuracy: 5230/10000 (52.30%)\n",
            "\n",
            "EPOCH: 2\n"
          ],
          "name": "stdout"
        },
        {
          "output_type": "stream",
          "text": [
            "Loss=1.1385431289672852 Batch_id=97 Accuracy=57.42: 100%|██████████| 98/98 [00:24<00:00,  3.96it/s]\n",
            "  0%|          | 0/98 [00:00<?, ?it/s]"
          ],
          "name": "stderr"
        },
        {
          "output_type": "stream",
          "text": [
            "Test set: Average loss: 0.0024, Accuracy: 5819/10000 (58.19%)\n",
            "\n",
            "EPOCH: 3\n"
          ],
          "name": "stdout"
        },
        {
          "output_type": "stream",
          "text": [
            "Loss=0.8439438343048096 Batch_id=97 Accuracy=66.42: 100%|██████████| 98/98 [00:24<00:00,  4.01it/s]\n",
            "  0%|          | 0/98 [00:00<?, ?it/s]"
          ],
          "name": "stderr"
        },
        {
          "output_type": "stream",
          "text": [
            "Test set: Average loss: 0.0018, Accuracy: 6810/10000 (68.10%)\n",
            "\n",
            "EPOCH: 4\n"
          ],
          "name": "stdout"
        },
        {
          "output_type": "stream",
          "text": [
            "Loss=0.9032596349716187 Batch_id=97 Accuracy=71.78: 100%|██████████| 98/98 [00:25<00:00,  3.90it/s]\n",
            "  0%|          | 0/98 [00:00<?, ?it/s]"
          ],
          "name": "stderr"
        },
        {
          "output_type": "stream",
          "text": [
            "Test set: Average loss: 0.0018, Accuracy: 7058/10000 (70.58%)\n",
            "\n",
            "EPOCH: 5\n"
          ],
          "name": "stdout"
        },
        {
          "output_type": "stream",
          "text": [
            "Loss=0.7041204571723938 Batch_id=97 Accuracy=76.00: 100%|██████████| 98/98 [00:24<00:00,  3.93it/s]\n",
            "  0%|          | 0/98 [00:00<?, ?it/s]"
          ],
          "name": "stderr"
        },
        {
          "output_type": "stream",
          "text": [
            "Test set: Average loss: 0.0015, Accuracy: 7488/10000 (74.88%)\n",
            "\n",
            "EPOCH: 6\n"
          ],
          "name": "stdout"
        },
        {
          "output_type": "stream",
          "text": [
            "Loss=0.5853747129440308 Batch_id=97 Accuracy=79.98: 100%|██████████| 98/98 [00:24<00:00,  3.97it/s]\n",
            "  0%|          | 0/98 [00:00<?, ?it/s]"
          ],
          "name": "stderr"
        },
        {
          "output_type": "stream",
          "text": [
            "Test set: Average loss: 0.0011, Accuracy: 8128/10000 (81.28%)\n",
            "\n",
            "EPOCH: 7\n"
          ],
          "name": "stdout"
        },
        {
          "output_type": "stream",
          "text": [
            "Loss=0.5638499855995178 Batch_id=97 Accuracy=82.97: 100%|██████████| 98/98 [00:24<00:00,  3.94it/s]\n",
            "  0%|          | 0/98 [00:00<?, ?it/s]"
          ],
          "name": "stderr"
        },
        {
          "output_type": "stream",
          "text": [
            "Test set: Average loss: 0.0011, Accuracy: 8135/10000 (81.35%)\n",
            "\n",
            "EPOCH: 8\n"
          ],
          "name": "stdout"
        },
        {
          "output_type": "stream",
          "text": [
            "Loss=0.44609832763671875 Batch_id=97 Accuracy=84.34: 100%|██████████| 98/98 [00:25<00:00,  3.91it/s]\n",
            "  0%|          | 0/98 [00:00<?, ?it/s]"
          ],
          "name": "stderr"
        },
        {
          "output_type": "stream",
          "text": [
            "Test set: Average loss: 0.0011, Accuracy: 8166/10000 (81.66%)\n",
            "\n",
            "EPOCH: 9\n"
          ],
          "name": "stdout"
        },
        {
          "output_type": "stream",
          "text": [
            "Loss=0.43441540002822876 Batch_id=97 Accuracy=86.29: 100%|██████████| 98/98 [00:24<00:00,  3.94it/s]\n",
            "  0%|          | 0/98 [00:00<?, ?it/s]"
          ],
          "name": "stderr"
        },
        {
          "output_type": "stream",
          "text": [
            "Test set: Average loss: 0.0011, Accuracy: 8196/10000 (81.96%)\n",
            "\n",
            "EPOCH: 10\n"
          ],
          "name": "stdout"
        },
        {
          "output_type": "stream",
          "text": [
            "Loss=0.42260605096817017 Batch_id=97 Accuracy=88.13: 100%|██████████| 98/98 [00:24<00:00,  3.95it/s]\n",
            "  0%|          | 0/98 [00:00<?, ?it/s]"
          ],
          "name": "stderr"
        },
        {
          "output_type": "stream",
          "text": [
            "Test set: Average loss: 0.0011, Accuracy: 8286/10000 (82.86%)\n",
            "\n",
            "EPOCH: 11\n"
          ],
          "name": "stdout"
        },
        {
          "output_type": "stream",
          "text": [
            "Loss=0.33274295926094055 Batch_id=97 Accuracy=89.40: 100%|██████████| 98/98 [00:24<00:00,  3.95it/s]\n",
            "  0%|          | 0/98 [00:00<?, ?it/s]"
          ],
          "name": "stderr"
        },
        {
          "output_type": "stream",
          "text": [
            "Test set: Average loss: 0.0011, Accuracy: 8321/10000 (83.21%)\n",
            "\n",
            "EPOCH: 12\n"
          ],
          "name": "stdout"
        },
        {
          "output_type": "stream",
          "text": [
            "Loss=0.28921017050743103 Batch_id=97 Accuracy=90.63: 100%|██████████| 98/98 [00:24<00:00,  3.92it/s]\n",
            "  0%|          | 0/98 [00:00<?, ?it/s]"
          ],
          "name": "stderr"
        },
        {
          "output_type": "stream",
          "text": [
            "Test set: Average loss: 0.0010, Accuracy: 8414/10000 (84.14%)\n",
            "\n",
            "EPOCH: 13\n"
          ],
          "name": "stdout"
        },
        {
          "output_type": "stream",
          "text": [
            "Loss=0.2407514452934265 Batch_id=97 Accuracy=91.79: 100%|██████████| 98/98 [00:24<00:00,  3.94it/s]\n",
            "  0%|          | 0/98 [00:00<?, ?it/s]"
          ],
          "name": "stderr"
        },
        {
          "output_type": "stream",
          "text": [
            "\n",
            "Accuracy of plane : 83 %\n",
            "Accuracy of   car : 87 %\n",
            "Accuracy of  bird : 70 %\n",
            "Accuracy of   cat : 62 %\n",
            "Accuracy of  deer : 83 %\n",
            "Accuracy of   dog : 80 %\n",
            "Accuracy of  frog : 100 %\n",
            "Accuracy of horse : 100 %\n",
            "Accuracy of  ship : 85 %\n",
            "Accuracy of truck : 62 %\n",
            "\n",
            "Test set: Average loss: 0.0009, Accuracy: 8584/10000 (85.84%)\n",
            "\n",
            "EPOCH: 14\n"
          ],
          "name": "stdout"
        },
        {
          "output_type": "stream",
          "text": [
            "Loss=0.18556512892246246 Batch_id=97 Accuracy=92.94: 100%|██████████| 98/98 [00:24<00:00,  3.95it/s]\n",
            "  0%|          | 0/98 [00:00<?, ?it/s]"
          ],
          "name": "stderr"
        },
        {
          "output_type": "stream",
          "text": [
            "\n",
            "Accuracy of plane : 87 %\n",
            "Accuracy of   car : 100 %\n",
            "Accuracy of  bird : 66 %\n",
            "Accuracy of   cat : 66 %\n",
            "Accuracy of  deer : 83 %\n",
            "Accuracy of   dog : 54 %\n",
            "Accuracy of  frog : 100 %\n",
            "Accuracy of horse : 100 %\n",
            "Accuracy of  ship : 100 %\n",
            "Accuracy of truck : 87 %\n",
            "\n",
            "Test set: Average loss: 0.0009, Accuracy: 8546/10000 (85.46%)\n",
            "\n",
            "EPOCH: 15\n"
          ],
          "name": "stdout"
        },
        {
          "output_type": "stream",
          "text": [
            "Loss=0.16486965119838715 Batch_id=97 Accuracy=93.91: 100%|██████████| 98/98 [00:24<00:00,  3.94it/s]\n",
            "  0%|          | 0/98 [00:00<?, ?it/s]"
          ],
          "name": "stderr"
        },
        {
          "output_type": "stream",
          "text": [
            "\n",
            "Accuracy of plane : 90 %\n",
            "Accuracy of   car : 75 %\n",
            "Accuracy of  bird : 61 %\n",
            "Accuracy of   cat : 88 %\n",
            "Accuracy of  deer : 91 %\n",
            "Accuracy of   dog : 85 %\n",
            "Accuracy of  frog : 100 %\n",
            "Accuracy of horse : 100 %\n",
            "Accuracy of  ship : 100 %\n",
            "Accuracy of truck : 90 %\n",
            "\n",
            "Test set: Average loss: 0.0009, Accuracy: 8667/10000 (86.67%)\n",
            "\n",
            "EPOCH: 16\n"
          ],
          "name": "stdout"
        },
        {
          "output_type": "stream",
          "text": [
            "Loss=0.13495783507823944 Batch_id=97 Accuracy=94.81: 100%|██████████| 98/98 [00:24<00:00,  3.97it/s]\n",
            "  0%|          | 0/98 [00:00<?, ?it/s]"
          ],
          "name": "stderr"
        },
        {
          "output_type": "stream",
          "text": [
            "\n",
            "Accuracy of plane : 62 %\n",
            "Accuracy of   car : 92 %\n",
            "Accuracy of  bird : 100 %\n",
            "Accuracy of   cat : 50 %\n",
            "Accuracy of  deer : 50 %\n",
            "Accuracy of   dog : 75 %\n",
            "Accuracy of  frog : 88 %\n",
            "Accuracy of horse : 66 %\n",
            "Accuracy of  ship : 100 %\n",
            "Accuracy of truck : 83 %\n",
            "\n",
            "Test set: Average loss: 0.0010, Accuracy: 8527/10000 (85.27%)\n",
            "\n",
            "EPOCH: 17\n"
          ],
          "name": "stdout"
        },
        {
          "output_type": "stream",
          "text": [
            "Loss=0.15344686806201935 Batch_id=97 Accuracy=95.44: 100%|██████████| 98/98 [00:24<00:00,  3.97it/s]\n",
            "  0%|          | 0/98 [00:00<?, ?it/s]"
          ],
          "name": "stderr"
        },
        {
          "output_type": "stream",
          "text": [
            "\n",
            "Accuracy of plane : 100 %\n",
            "Accuracy of   car : 100 %\n",
            "Accuracy of  bird : 100 %\n",
            "Accuracy of   cat : 77 %\n",
            "Accuracy of  deer : 100 %\n",
            "Accuracy of   dog : 100 %\n",
            "Accuracy of  frog : 87 %\n",
            "Accuracy of horse : 80 %\n",
            "Accuracy of  ship : 87 %\n",
            "Accuracy of truck : 100 %\n",
            "\n",
            "Test set: Average loss: 0.0009, Accuracy: 8679/10000 (86.79%)\n",
            "\n",
            "EPOCH: 18\n"
          ],
          "name": "stdout"
        },
        {
          "output_type": "stream",
          "text": [
            "Loss=0.12987560033798218 Batch_id=97 Accuracy=96.36: 100%|██████████| 98/98 [00:24<00:00,  3.95it/s]\n",
            "  0%|          | 0/98 [00:00<?, ?it/s]"
          ],
          "name": "stderr"
        },
        {
          "output_type": "stream",
          "text": [
            "\n",
            "Accuracy of plane : 100 %\n",
            "Accuracy of   car : 100 %\n",
            "Accuracy of  bird : 100 %\n",
            "Accuracy of   cat : 62 %\n",
            "Accuracy of  deer : 87 %\n",
            "Accuracy of   dog : 77 %\n",
            "Accuracy of  frog : 100 %\n",
            "Accuracy of horse : 100 %\n",
            "Accuracy of  ship : 77 %\n",
            "Accuracy of truck : 87 %\n",
            "\n",
            "Test set: Average loss: 0.0009, Accuracy: 8699/10000 (86.99%)\n",
            "\n",
            "EPOCH: 19\n"
          ],
          "name": "stdout"
        },
        {
          "output_type": "stream",
          "text": [
            "Loss=0.09164568781852722 Batch_id=97 Accuracy=96.77: 100%|██████████| 98/98 [00:24<00:00,  3.98it/s]\n",
            "  0%|          | 0/98 [00:00<?, ?it/s]"
          ],
          "name": "stderr"
        },
        {
          "output_type": "stream",
          "text": [
            "\n",
            "Accuracy of plane : 100 %\n",
            "Accuracy of   car : 100 %\n",
            "Accuracy of  bird : 75 %\n",
            "Accuracy of   cat : 100 %\n",
            "Accuracy of  deer : 100 %\n",
            "Accuracy of   dog : 83 %\n",
            "Accuracy of  frog : 100 %\n",
            "Accuracy of horse : 100 %\n",
            "Accuracy of  ship : 88 %\n",
            "Accuracy of truck : 90 %\n",
            "\n",
            "Test set: Average loss: 0.0009, Accuracy: 8702/10000 (87.02%)\n",
            "\n",
            "EPOCH: 20\n"
          ],
          "name": "stdout"
        },
        {
          "output_type": "stream",
          "text": [
            "Loss=0.06431110948324203 Batch_id=97 Accuracy=97.32: 100%|██████████| 98/98 [00:24<00:00,  3.97it/s]\n",
            "  0%|          | 0/98 [00:00<?, ?it/s]"
          ],
          "name": "stderr"
        },
        {
          "output_type": "stream",
          "text": [
            "\n",
            "Accuracy of plane : 88 %\n",
            "Accuracy of   car : 100 %\n",
            "Accuracy of  bird : 85 %\n",
            "Accuracy of   cat : 66 %\n",
            "Accuracy of  deer : 91 %\n",
            "Accuracy of   dog : 83 %\n",
            "Accuracy of  frog : 100 %\n",
            "Accuracy of horse : 100 %\n",
            "Accuracy of  ship : 80 %\n",
            "Accuracy of truck : 90 %\n",
            "\n",
            "Test set: Average loss: 0.0008, Accuracy: 8794/10000 (87.94%)\n",
            "\n",
            "EPOCH: 21\n"
          ],
          "name": "stdout"
        },
        {
          "output_type": "stream",
          "text": [
            "Loss=0.08583866059780121 Batch_id=97 Accuracy=97.72: 100%|██████████| 98/98 [00:24<00:00,  3.96it/s]\n",
            "  0%|          | 0/98 [00:00<?, ?it/s]"
          ],
          "name": "stderr"
        },
        {
          "output_type": "stream",
          "text": [
            "\n",
            "Accuracy of plane : 100 %\n",
            "Accuracy of   car : 100 %\n",
            "Accuracy of  bird : 100 %\n",
            "Accuracy of   cat : 60 %\n",
            "Accuracy of  deer : 100 %\n",
            "Accuracy of   dog : 72 %\n",
            "Accuracy of  frog : 85 %\n",
            "Accuracy of horse : 100 %\n",
            "Accuracy of  ship : 100 %\n",
            "Accuracy of truck : 100 %\n",
            "\n",
            "Test set: Average loss: 0.0008, Accuracy: 8838/10000 (88.38%)\n",
            "\n",
            "EPOCH: 22\n"
          ],
          "name": "stdout"
        },
        {
          "output_type": "stream",
          "text": [
            "Loss=0.08190028369426727 Batch_id=97 Accuracy=98.15: 100%|██████████| 98/98 [00:24<00:00,  3.95it/s]\n",
            "  0%|          | 0/98 [00:00<?, ?it/s]"
          ],
          "name": "stderr"
        },
        {
          "output_type": "stream",
          "text": [
            "\n",
            "Accuracy of plane : 71 %\n",
            "Accuracy of   car : 100 %\n",
            "Accuracy of  bird : 75 %\n",
            "Accuracy of   cat : 60 %\n",
            "Accuracy of  deer : 87 %\n",
            "Accuracy of   dog : 77 %\n",
            "Accuracy of  frog : 100 %\n",
            "Accuracy of horse : 88 %\n",
            "Accuracy of  ship : 100 %\n",
            "Accuracy of truck : 100 %\n",
            "\n",
            "Test set: Average loss: 0.0008, Accuracy: 8840/10000 (88.40%)\n",
            "\n",
            "EPOCH: 23\n"
          ],
          "name": "stdout"
        },
        {
          "output_type": "stream",
          "text": [
            "Loss=0.068789541721344 Batch_id=97 Accuracy=98.24: 100%|██████████| 98/98 [00:24<00:00,  3.95it/s]\n",
            "  0%|          | 0/98 [00:00<?, ?it/s]"
          ],
          "name": "stderr"
        },
        {
          "output_type": "stream",
          "text": [
            "\n",
            "Accuracy of plane : 90 %\n",
            "Accuracy of   car : 100 %\n",
            "Accuracy of  bird : 85 %\n",
            "Accuracy of   cat : 57 %\n",
            "Accuracy of  deer : 100 %\n",
            "Accuracy of   dog : 75 %\n",
            "Accuracy of  frog : 90 %\n",
            "Accuracy of horse : 100 %\n",
            "Accuracy of  ship : 85 %\n",
            "Accuracy of truck : 100 %\n",
            "\n",
            "Test set: Average loss: 0.0008, Accuracy: 8840/10000 (88.40%)\n",
            "\n",
            "EPOCH: 24\n"
          ],
          "name": "stdout"
        },
        {
          "output_type": "stream",
          "text": [
            "Loss=0.06760523468255997 Batch_id=97 Accuracy=98.28: 100%|██████████| 98/98 [00:24<00:00,  3.95it/s]\n"
          ],
          "name": "stderr"
        },
        {
          "output_type": "stream",
          "text": [
            "\n",
            "Accuracy of plane : 75 %\n",
            "Accuracy of   car : 100 %\n",
            "Accuracy of  bird : 85 %\n",
            "Accuracy of   cat : 66 %\n",
            "Accuracy of  deer : 66 %\n",
            "Accuracy of   dog : 100 %\n",
            "Accuracy of  frog : 90 %\n",
            "Accuracy of horse : 88 %\n",
            "Accuracy of  ship : 100 %\n",
            "Accuracy of truck : 83 %\n",
            "\n",
            "Test set: Average loss: 0.0008, Accuracy: 8851/10000 (88.51%)\n",
            "\n"
          ],
          "name": "stdout"
        }
      ]
    },
    {
      "cell_type": "code",
      "metadata": {
        "id": "L4eS_RdPrZI1",
        "colab_type": "code",
        "outputId": "cbd6ebf7-2478-4aa6-ca6c-e6ec5bba5755",
        "colab": {
          "base_uri": "https://localhost:8080/",
          "height": 333
        }
      },
      "source": [
        "from google.colab import files\n",
        "plt.plot(train_accs[:], label=\"Train_accuracy\")\n",
        "plt.plot(test_accs[:], color=\"green\", label=\"Test_accuracy\")\n",
        "plt.title(\"Training and Test Accuracy over 24 epochs\")\n",
        "plt.xlabel('Epochs')\n",
        "plt.ylabel('Accuracy')\n",
        "plt.legend()\n",
        "\n",
        "'''extent = ax1.get_window_extent().transformed(fig.dpi_scale_trans.inverted())\n",
        "fig.savefig('Accuracy_S6.png', bbox_inches=extent.expanded(1.1, 1.2))\n",
        "files.download(\"Accuracy_S6.png\") '''\n"
      ],
      "execution_count": 13,
      "outputs": [
        {
          "output_type": "execute_result",
          "data": {
            "text/plain": [
              "'extent = ax1.get_window_extent().transformed(fig.dpi_scale_trans.inverted())\\nfig.savefig(\\'Accuracy_S6.png\\', bbox_inches=extent.expanded(1.1, 1.2))\\nfiles.download(\"Accuracy_S6.png\") '"
            ]
          },
          "metadata": {
            "tags": []
          },
          "execution_count": 13
        },
        {
          "output_type": "display_data",
          "data": {
            "image/png": "[encoded data removed]",
            "text/plain": [
              "<Figure size 432x288 with 1 Axes>"
            ]
          },
          "metadata": {
            "tags": [],
            "needs_background": "light"
          }
        }
      ]
    },
    {
      "cell_type": "code",
      "metadata": {
        "id": "nizbsvw9poC6",
        "colab_type": "code",
        "outputId": "84f8dc12-289b-47b8-9ec7-515ad1202aab",
        "colab": {
          "base_uri": "https://localhost:8080/",
          "height": 173
        }
      },
      "source": [
        "dataiter = iter(testloader)\n",
        "images, labels = dataiter.next()\n",
        "\n",
        "# print images\n",
        "imshow(torchvision.utils.make_grid(images[:4]))\n",
        "print('GroundTruth: ', ' '.join('%5s' % classes[labels[j]] for j in range(4)))"
      ],
      "execution_count": 14,
      "outputs": [
        {
          "output_type": "stream",
          "text": [
            "Clipping input data to the valid range for imshow with RGB data ([0..1] for floats or [0..255] for integers).\n"
          ],
          "name": "stderr"
        },
        {
          "output_type": "stream",
          "text": [
            "GroundTruth:    cat   dog   cat plane\n"
          ],
          "name": "stdout"
        },
        {
          "output_type": "display_data",
          "data": {
            "image/png": "[encoded data removed]",
            "text/plain": [
              "<Figure size 432x288 with 1 Axes>"
            ]
          },
          "metadata": {
            "tags": [],
            "needs_background": "light"
          }
        }
      ]
    },
    {
      "cell_type": "markdown",
      "metadata": {
        "id": "DAx4QPHVpoC8",
        "colab_type": "text"
      },
      "source": [
        "Okay, now let us see what the neural network thinks these examples above are:\n",
        "The outputs are energies for the 10 classes.\n",
        "Higher the energy for a class, the more the network\n",
        "thinks that the image is of the particular class.\n",
        "So, let's get the index of the highest energy:\n"
      ]
    },
    {
      "cell_type": "code",
      "metadata": {
        "id": "HVLjlssWpoC9",
        "colab_type": "code",
        "outputId": "2c37b22e-74a4-4e2b-b98b-903b11244228",
        "colab": {
          "base_uri": "https://localhost:8080/",
          "height": 35
        }
      },
      "source": [
        "images=images.to(device)\n",
        "outputs = net(images)\n",
        "_, predicted = torch.max(outputs, 1)\n",
        "\n",
        "print('Predicted: ', ' '.join('%5s' % classes[predicted[j]]\n",
        "                              for j in range(4)))"
      ],
      "execution_count": 15,
      "outputs": [
        {
          "output_type": "stream",
          "text": [
            "Predicted:    cat   dog   cat plane\n"
          ],
          "name": "stdout"
        }
      ]
    },
    {
      "cell_type": "markdown",
      "metadata": {
        "id": "2TV0TXL1poDC",
        "colab_type": "text"
      },
      "source": [
        "The results seem pretty good.\n",
        "\n",
        "Let us look at how the network performs on the whole dataset.\n",
        "\n"
      ]
    }
  ]
}